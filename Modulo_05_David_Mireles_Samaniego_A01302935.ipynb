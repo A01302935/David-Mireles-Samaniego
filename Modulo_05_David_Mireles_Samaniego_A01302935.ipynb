{
  "nbformat": 4,
  "nbformat_minor": 0,
  "metadata": {
    "colab": {
      "provenance": [],
      "authorship_tag": "ABX9TyMTeLKa33Wp4jVjPhHRGiqH",
      "include_colab_link": true
    },
    "kernelspec": {
      "name": "python3",
      "display_name": "Python 3"
    },
    "language_info": {
      "name": "python"
    }
  },
  "cells": [
    {
      "cell_type": "markdown",
      "metadata": {
        "id": "view-in-github",
        "colab_type": "text"
      },
      "source": [
        "<a href=\"https://colab.research.google.com/github/A01302935/David-Mireles-Samaniego/blob/main/Modulo_05_David_Mireles_Samaniego_A01302935.ipynb\" target=\"_parent\"><img src=\"https://colab.research.google.com/assets/colab-badge.svg\" alt=\"Open In Colab\"/></a>"
      ]
    },
    {
      "cell_type": "code",
      "execution_count": null,
      "metadata": {
        "id": "fw7ZtCa-GQKB"
      },
      "outputs": [],
      "source": [
        "# MODULO 5\n",
        "# David Mireles Samaniego A01302935"
      ]
    },
    {
      "cell_type": "code",
      "source": [
        "#The Basics & Array Creations"
      ],
      "metadata": {
        "id": "mZK9kVtKGpqC"
      },
      "execution_count": null,
      "outputs": []
    },
    {
      "cell_type": "code",
      "source": [
        "import numpy as np"
      ],
      "metadata": {
        "id": "9A9jgE6PQy1_"
      },
      "execution_count": 41,
      "outputs": []
    },
    {
      "cell_type": "code",
      "source": [
        "a = [\"0\",1,\"two\",\"3\",4] "
      ],
      "metadata": {
        "id": "rlDcq-7tGpnW"
      },
      "execution_count": 47,
      "outputs": []
    },
    {
      "cell_type": "code",
      "source": [
        "a[0]"
      ],
      "metadata": {
        "colab": {
          "base_uri": "https://localhost:8080/"
        },
        "id": "uzglFH8yR7yM",
        "outputId": "43e6c6c6-b8f2-40ec-87e0-2b118030ab67"
      },
      "execution_count": 51,
      "outputs": [
        {
          "output_type": "execute_result",
          "data": {
            "text/plain": [
              "0"
            ]
          },
          "metadata": {},
          "execution_count": 51
        }
      ]
    },
    {
      "cell_type": "code",
      "source": [
        "a[1]"
      ],
      "metadata": {
        "colab": {
          "base_uri": "https://localhost:8080/"
        },
        "id": "H1hkl1nRSOWN",
        "outputId": "3318a507-3b0a-4bd5-f432-1965b1872f44"
      },
      "execution_count": 52,
      "outputs": [
        {
          "output_type": "execute_result",
          "data": {
            "text/plain": [
              "1"
            ]
          },
          "metadata": {},
          "execution_count": 52
        }
      ]
    },
    {
      "cell_type": "code",
      "source": [
        "a[2]"
      ],
      "metadata": {
        "colab": {
          "base_uri": "https://localhost:8080/"
        },
        "id": "a8YtrIfOSQ36",
        "outputId": "36756495-ba03-49dd-8514-53d2e69230a2"
      },
      "execution_count": 53,
      "outputs": [
        {
          "output_type": "execute_result",
          "data": {
            "text/plain": [
              "2"
            ]
          },
          "metadata": {},
          "execution_count": 53
        }
      ]
    },
    {
      "cell_type": "code",
      "source": [
        "a[3]"
      ],
      "metadata": {
        "id": "Nn9v9wJhSS-c"
      },
      "execution_count": null,
      "outputs": []
    },
    {
      "cell_type": "code",
      "source": [
        "a[4]"
      ],
      "metadata": {
        "colab": {
          "base_uri": "https://localhost:8080/"
        },
        "id": "fbpKjm7ASUqs",
        "outputId": "2848a31b-e7f8-4820-bcdd-9553e18c6248"
      },
      "execution_count": 55,
      "outputs": [
        {
          "output_type": "execute_result",
          "data": {
            "text/plain": [
              "4"
            ]
          },
          "metadata": {},
          "execution_count": 55
        }
      ]
    },
    {
      "cell_type": "code",
      "source": [
        "a.dtype"
      ],
      "metadata": {
        "id": "OW1TJrsrS5hQ"
      },
      "execution_count": null,
      "outputs": []
    },
    {
      "cell_type": "code",
      "source": [
        "a = np.array([0,1,2,3,4])"
      ],
      "metadata": {
        "id": "AQBrzBPJGphc"
      },
      "execution_count": 63,
      "outputs": []
    },
    {
      "cell_type": "code",
      "source": [
        "import numpy as np\n",
        "\n",
        "u = np.array([1,0])\n",
        "v = np.array([0,1])\n"
      ],
      "metadata": {
        "id": "W7CVBUKiGpbK"
      },
      "execution_count": 79,
      "outputs": []
    },
    {
      "cell_type": "code",
      "source": [
        "z=u+v"
      ],
      "metadata": {
        "id": "BT9V5q0DGpYW"
      },
      "execution_count": 84,
      "outputs": []
    },
    {
      "cell_type": "code",
      "source": [
        "# TEST_05\n",
        "# "
      ],
      "metadata": {
        "id": "1wnbRRASRbqR"
      },
      "execution_count": null,
      "outputs": []
    },
    {
      "cell_type": "code",
      "source": [
        "# QUESTION 1\n",
        "# What is the result of the following operation: np.array([1,-1])*np.array([1,1])?\n",
        "np.array([1,-1])*np.array([1,1])"
      ],
      "metadata": {
        "colab": {
          "base_uri": "https://localhost:8080/"
        },
        "id": "CZZLqcW8GpVp",
        "outputId": "a0049d2e-c015-41fe-91db-a0d5a9d4fd30"
      },
      "execution_count": 65,
      "outputs": [
        {
          "output_type": "execute_result",
          "data": {
            "text/plain": [
              "array([ 1, -1])"
            ]
          },
          "metadata": {},
          "execution_count": 65
        }
      ]
    },
    {
      "cell_type": "code",
      "source": [
        "# QUESTION 2\n",
        "# What is the result of the following operation: np.dot(np.array([1,-1]),np.array([1,1]))?\n",
        "np.dot(np.array([1,-1]),np.array([1,1]))"
      ],
      "metadata": {
        "colab": {
          "base_uri": "https://localhost:8080/"
        },
        "id": "2S37RMNsGpQn",
        "outputId": "92144aaf-80a5-4820-ef04-e0e4f5123a9f"
      },
      "execution_count": 66,
      "outputs": [
        {
          "output_type": "execute_result",
          "data": {
            "text/plain": [
              "0"
            ]
          },
          "metadata": {},
          "execution_count": 66
        }
      ]
    },
    {
      "cell_type": "code",
      "source": [
        "# Numpy 2D Arrays \n",
        "# QUESTION 1\n",
        "# How many rows are in the following numpy array?\n",
        "\n",
        "A = np.array([[1,2],[3,4],[5,6],[7,8]])\n",
        "\n",
        "import numpy as np\n",
        "\n",
        "arr = np.array([[1,2],[3,4],[5,6],[7,8]])\n",
        "\n",
        "print(arr)\n",
        "\n",
        "print(type(arr))\n",
        "\n",
        "# ANS is 4"
      ],
      "metadata": {
        "colab": {
          "base_uri": "https://localhost:8080/"
        },
        "id": "UR9RwnLBGpGy",
        "outputId": "fb5a8e20-d613-4b85-824b-5e111b85078b"
      },
      "execution_count": 70,
      "outputs": [
        {
          "output_type": "stream",
          "name": "stdout",
          "text": [
            "[[1 2]\n",
            " [3 4]\n",
            " [5 6]\n",
            " [7 8]]\n",
            "<class 'numpy.ndarray'>\n"
          ]
        }
      ]
    },
    {
      "cell_type": "code",
      "source": [
        "# QUESTION 2\n",
        "# Is it possible to perform the following operation?\n",
        "\n",
        "# A = np.array([[1,2],[3,4],[5,6],[7,8]])\n",
        "\n",
        "# B = np.array([[1,2,3],[4,5,6],[7,8,9]])\n",
        "\n",
        "# np.dot(A,B)\n",
        "\n",
        "# ANS = No for dimention"
      ],
      "metadata": {
        "id": "SwmGuXYGV8o9"
      },
      "execution_count": 83,
      "outputs": []
    },
    {
      "cell_type": "code",
      "source": [
        "# What is the result of the following lines of code:\n",
        "\n",
        "a=np.array([0,1,0,1,0])\n",
        "\n",
        "b=np.array([1,0,1,0,1])\n",
        "\n",
        "a*b"
      ],
      "metadata": {
        "colab": {
          "base_uri": "https://localhost:8080/"
        },
        "id": "urZI76ZcZqCV",
        "outputId": "7f00cabf-86c0-4286-b50b-d981cef46789"
      },
      "execution_count": 85,
      "outputs": [
        {
          "output_type": "execute_result",
          "data": {
            "text/plain": [
              "array([0, 0, 0, 0, 0])"
            ]
          },
          "metadata": {},
          "execution_count": 85
        }
      ]
    },
    {
      "cell_type": "code",
      "source": [
        "# What is the result of the following lines of code:\n",
        "\n",
        "a=np.array([0,1])\n",
        "\n",
        "b=np.array([1,0])\n",
        "\n",
        "np.dot(a,b)"
      ],
      "metadata": {
        "colab": {
          "base_uri": "https://localhost:8080/"
        },
        "id": "JjPqmgaxZ3_4",
        "outputId": "8246b24e-9fe0-4d18-be5a-924fa0d17adc"
      },
      "execution_count": 86,
      "outputs": [
        {
          "output_type": "execute_result",
          "data": {
            "text/plain": [
              "0"
            ]
          },
          "metadata": {},
          "execution_count": 86
        }
      ]
    },
    {
      "cell_type": "code",
      "source": [
        "# What is the result of the following lines of code:\n",
        "\n",
        "a=np.array([1,1,1,1,1])\n",
        "\n",
        "a+10"
      ],
      "metadata": {
        "colab": {
          "base_uri": "https://localhost:8080/"
        },
        "id": "E23ZjhZgZ38C",
        "outputId": "1126f8c1-815a-48d8-d629-978009bf33f5"
      },
      "execution_count": 87,
      "outputs": [
        {
          "output_type": "execute_result",
          "data": {
            "text/plain": [
              "array([11, 11, 11, 11, 11])"
            ]
          },
          "metadata": {},
          "execution_count": 87
        }
      ]
    },
    {
      "cell_type": "code",
      "source": [
        "# What is the correct code to perform matrix multiplication on the matrix A and B?\n",
        "# ANS = np.dot(A,B)"
      ],
      "metadata": {
        "id": "XeA7hY8xZ3u6"
      },
      "execution_count": 88,
      "outputs": []
    },
    {
      "cell_type": "code",
      "source": [],
      "metadata": {
        "id": "ZliJAGq8Z3tH"
      },
      "execution_count": null,
      "outputs": []
    }
  ]
}