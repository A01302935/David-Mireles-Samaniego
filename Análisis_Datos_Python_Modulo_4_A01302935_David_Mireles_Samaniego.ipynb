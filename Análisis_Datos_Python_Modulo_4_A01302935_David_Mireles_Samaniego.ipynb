{
  "nbformat": 4,
  "nbformat_minor": 0,
  "metadata": {
    "colab": {
      "provenance": [],
      "authorship_tag": "ABX9TyNwnaFnws4wcTRbgwZm3A08",
      "include_colab_link": true
    },
    "kernelspec": {
      "name": "python3",
      "display_name": "Python 3"
    },
    "language_info": {
      "name": "python"
    }
  },
  "cells": [
    {
      "cell_type": "markdown",
      "metadata": {
        "id": "view-in-github",
        "colab_type": "text"
      },
      "source": [
        "<a href=\"https://colab.research.google.com/github/A01302935/David-Mireles-Samaniego/blob/main/An%C3%A1lisis_Datos_Python_Modulo_4_A01302935_David_Mireles_Samaniego.ipynb\" target=\"_parent\"><img src=\"https://colab.research.google.com/assets/colab-badge.svg\" alt=\"Open In Colab\"/></a>"
      ]
    },
    {
      "cell_type": "markdown",
      "source": [
        "MODULO 4\n",
        "\n",
        "David Mireles Samaniego A01302935"
      ],
      "metadata": {
        "id": "a0XFF59KYmpn"
      }
    },
    {
      "cell_type": "markdown",
      "source": [
        "Question 1\n",
        "\n",
        "Let X be a dataframe with 100 rows and 5 columns. Let y be the target with 100 samples. Assuming all the relevant libraries and data have been imported, the following line of code has been executed:\n",
        "\n",
        "LR = LinearRegression()\n",
        "\n",
        "LR.fit(X, y)\n",
        "\n",
        "yhat = LR.predict(X)\n",
        "\n",
        "How many samples does yhat contain?"
      ],
      "metadata": {
        "id": "YR4t3h4qY-In"
      }
    },
    {
      "cell_type": "code",
      "source": [
        "# ANS: 100"
      ],
      "metadata": {
        "id": "KKCXfj3TYjJu"
      },
      "execution_count": null,
      "outputs": []
    },
    {
      "cell_type": "markdown",
      "source": [
        "Question 2\n",
        "\n",
        "What value of R^2 (coefficient of determination) indicates your model performs best?**texto en negrita**"
      ],
      "metadata": {
        "id": "87XmBYdsZNd4"
      }
    },
    {
      "cell_type": "code",
      "source": [
        "# ANS: 1"
      ],
      "metadata": {
        "id": "9OxR991xYjDk"
      },
      "execution_count": null,
      "outputs": []
    },
    {
      "cell_type": "markdown",
      "source": [
        "Question 3\n",
        "\n",
        "Which statement is true about polynomial linear regression?"
      ],
      "metadata": {
        "id": "B7THl1EtZkzC"
      }
    },
    {
      "cell_type": "code",
      "source": [
        "# ANS: Although the predictor variables of polynomial linear regression are not linear, the relationship between the parameters or coefficients is linear."
      ],
      "metadata": {
        "id": "X9x6OgiIYi9i"
      },
      "execution_count": null,
      "outputs": []
    },
    {
      "cell_type": "markdown",
      "source": [
        "Question 4\n",
        "\n",
        "The larger the mean squared error, the better your model performs:"
      ],
      "metadata": {
        "id": "nJZSkPsXZ26q"
      }
    },
    {
      "cell_type": "code",
      "source": [
        "# ANS: FALSE"
      ],
      "metadata": {
        "id": "T2JhftBRYi3p"
      },
      "execution_count": null,
      "outputs": []
    },
    {
      "cell_type": "markdown",
      "source": [
        "Question 5\n",
        "\n",
        "Assume all the libraries are imported. y is the target and X is the features or dependent variables. Consider the following lines of code:\n",
        "\n",
        "Input=[('scale',StandardScaler()),('model',LinearRegression())]\n",
        "\n",
        "pipe=Pipeline(Input)\n",
        "\n",
        "pipe.fit(X,y)\n",
        "\n",
        "ypipe=pipe.predict(X)\n",
        "\n",
        "What is the result of ypipe?"
      ],
      "metadata": {
        "id": "AXmIobHwaGjr"
      }
    },
    {
      "cell_type": "code",
      "source": [
        "# ANS: Standardize the data, then perform prediction using a linear regression model."
      ],
      "metadata": {
        "id": "NXpUi_PCYix-"
      },
      "execution_count": null,
      "outputs": []
    },
    {
      "cell_type": "code",
      "source": [],
      "metadata": {
        "id": "PEmYbWCcYivI"
      },
      "execution_count": null,
      "outputs": []
    },
    {
      "cell_type": "markdown",
      "source": [
        "LABORATORIO MODULO 4"
      ],
      "metadata": {
        "id": "BrRmDMiPa9e0"
      }
    },
    {
      "cell_type": "markdown",
      "source": [
        "Importar bibliotecas:"
      ],
      "metadata": {
        "id": "nv3TSJpFa7nD"
      }
    },
    {
      "cell_type": "code",
      "source": [
        "import pandas as pd\n",
        "import numpy as np\n",
        "import matplotlib.pyplot as plt"
      ],
      "metadata": {
        "id": "d-H8-fN-YipX"
      },
      "execution_count": 33,
      "outputs": []
    },
    {
      "cell_type": "markdown",
      "source": [
        "\n",
        "Cargar datos y almacenar en dataframe df:\n",
        "\n",
        "Este conjunto de datos se alojó en un objeto de IBM Cloud, haga clic AQUÍ para obtener almacenamiento gratuito."
      ],
      "metadata": {
        "id": "vnheLsx1eG3q"
      }
    },
    {
      "cell_type": "code",
      "source": [
        "path = 'https://s3-api.us-geo.objectstorage.softlayer.net/cf-courses-data/CognitiveClass/DA0101EN/automobileEDA.csv'\n",
        "df = pd.read_csv(path)\n",
        "df.head()"
      ],
      "metadata": {
        "colab": {
          "base_uri": "https://localhost:8080/",
          "height": 235
        },
        "id": "15MvmC3ph6UQ",
        "outputId": "e2b412d8-d51c-445d-f6f5-d08617977763"
      },
      "execution_count": 34,
      "outputs": [
        {
          "output_type": "execute_result",
          "data": {
            "text/plain": [
              "   symboling  normalized-losses         make aspiration num-of-doors  \\\n",
              "0          3                122  alfa-romero        std          two   \n",
              "1          3                122  alfa-romero        std          two   \n",
              "2          1                122  alfa-romero        std          two   \n",
              "3          2                164         audi        std         four   \n",
              "4          2                164         audi        std         four   \n",
              "\n",
              "    body-style drive-wheels engine-location  wheel-base    length  ...  \\\n",
              "0  convertible          rwd           front        88.6  0.811148  ...   \n",
              "1  convertible          rwd           front        88.6  0.811148  ...   \n",
              "2    hatchback          rwd           front        94.5  0.822681  ...   \n",
              "3        sedan          fwd           front        99.8  0.848630  ...   \n",
              "4        sedan          4wd           front        99.4  0.848630  ...   \n",
              "\n",
              "   compression-ratio  horsepower  peak-rpm city-mpg highway-mpg    price  \\\n",
              "0                9.0       111.0    5000.0       21          27  13495.0   \n",
              "1                9.0       111.0    5000.0       21          27  16500.0   \n",
              "2                9.0       154.0    5000.0       19          26  16500.0   \n",
              "3               10.0       102.0    5500.0       24          30  13950.0   \n",
              "4                8.0       115.0    5500.0       18          22  17450.0   \n",
              "\n",
              "  city-L/100km  horsepower-binned  diesel  gas  \n",
              "0    11.190476             Medium       0    1  \n",
              "1    11.190476             Medium       0    1  \n",
              "2    12.368421             Medium       0    1  \n",
              "3     9.791667             Medium       0    1  \n",
              "4    13.055556             Medium       0    1  \n",
              "\n",
              "[5 rows x 29 columns]"
            ],
            "text/html": [
              "\n",
              "  <div id=\"df-969cd3bf-7564-4f08-a7fc-8ac395bb6bbc\">\n",
              "    <div class=\"colab-df-container\">\n",
              "      <div>\n",
              "<style scoped>\n",
              "    .dataframe tbody tr th:only-of-type {\n",
              "        vertical-align: middle;\n",
              "    }\n",
              "\n",
              "    .dataframe tbody tr th {\n",
              "        vertical-align: top;\n",
              "    }\n",
              "\n",
              "    .dataframe thead th {\n",
              "        text-align: right;\n",
              "    }\n",
              "</style>\n",
              "<table border=\"1\" class=\"dataframe\">\n",
              "  <thead>\n",
              "    <tr style=\"text-align: right;\">\n",
              "      <th></th>\n",
              "      <th>symboling</th>\n",
              "      <th>normalized-losses</th>\n",
              "      <th>make</th>\n",
              "      <th>aspiration</th>\n",
              "      <th>num-of-doors</th>\n",
              "      <th>body-style</th>\n",
              "      <th>drive-wheels</th>\n",
              "      <th>engine-location</th>\n",
              "      <th>wheel-base</th>\n",
              "      <th>length</th>\n",
              "      <th>...</th>\n",
              "      <th>compression-ratio</th>\n",
              "      <th>horsepower</th>\n",
              "      <th>peak-rpm</th>\n",
              "      <th>city-mpg</th>\n",
              "      <th>highway-mpg</th>\n",
              "      <th>price</th>\n",
              "      <th>city-L/100km</th>\n",
              "      <th>horsepower-binned</th>\n",
              "      <th>diesel</th>\n",
              "      <th>gas</th>\n",
              "    </tr>\n",
              "  </thead>\n",
              "  <tbody>\n",
              "    <tr>\n",
              "      <th>0</th>\n",
              "      <td>3</td>\n",
              "      <td>122</td>\n",
              "      <td>alfa-romero</td>\n",
              "      <td>std</td>\n",
              "      <td>two</td>\n",
              "      <td>convertible</td>\n",
              "      <td>rwd</td>\n",
              "      <td>front</td>\n",
              "      <td>88.6</td>\n",
              "      <td>0.811148</td>\n",
              "      <td>...</td>\n",
              "      <td>9.0</td>\n",
              "      <td>111.0</td>\n",
              "      <td>5000.0</td>\n",
              "      <td>21</td>\n",
              "      <td>27</td>\n",
              "      <td>13495.0</td>\n",
              "      <td>11.190476</td>\n",
              "      <td>Medium</td>\n",
              "      <td>0</td>\n",
              "      <td>1</td>\n",
              "    </tr>\n",
              "    <tr>\n",
              "      <th>1</th>\n",
              "      <td>3</td>\n",
              "      <td>122</td>\n",
              "      <td>alfa-romero</td>\n",
              "      <td>std</td>\n",
              "      <td>two</td>\n",
              "      <td>convertible</td>\n",
              "      <td>rwd</td>\n",
              "      <td>front</td>\n",
              "      <td>88.6</td>\n",
              "      <td>0.811148</td>\n",
              "      <td>...</td>\n",
              "      <td>9.0</td>\n",
              "      <td>111.0</td>\n",
              "      <td>5000.0</td>\n",
              "      <td>21</td>\n",
              "      <td>27</td>\n",
              "      <td>16500.0</td>\n",
              "      <td>11.190476</td>\n",
              "      <td>Medium</td>\n",
              "      <td>0</td>\n",
              "      <td>1</td>\n",
              "    </tr>\n",
              "    <tr>\n",
              "      <th>2</th>\n",
              "      <td>1</td>\n",
              "      <td>122</td>\n",
              "      <td>alfa-romero</td>\n",
              "      <td>std</td>\n",
              "      <td>two</td>\n",
              "      <td>hatchback</td>\n",
              "      <td>rwd</td>\n",
              "      <td>front</td>\n",
              "      <td>94.5</td>\n",
              "      <td>0.822681</td>\n",
              "      <td>...</td>\n",
              "      <td>9.0</td>\n",
              "      <td>154.0</td>\n",
              "      <td>5000.0</td>\n",
              "      <td>19</td>\n",
              "      <td>26</td>\n",
              "      <td>16500.0</td>\n",
              "      <td>12.368421</td>\n",
              "      <td>Medium</td>\n",
              "      <td>0</td>\n",
              "      <td>1</td>\n",
              "    </tr>\n",
              "    <tr>\n",
              "      <th>3</th>\n",
              "      <td>2</td>\n",
              "      <td>164</td>\n",
              "      <td>audi</td>\n",
              "      <td>std</td>\n",
              "      <td>four</td>\n",
              "      <td>sedan</td>\n",
              "      <td>fwd</td>\n",
              "      <td>front</td>\n",
              "      <td>99.8</td>\n",
              "      <td>0.848630</td>\n",
              "      <td>...</td>\n",
              "      <td>10.0</td>\n",
              "      <td>102.0</td>\n",
              "      <td>5500.0</td>\n",
              "      <td>24</td>\n",
              "      <td>30</td>\n",
              "      <td>13950.0</td>\n",
              "      <td>9.791667</td>\n",
              "      <td>Medium</td>\n",
              "      <td>0</td>\n",
              "      <td>1</td>\n",
              "    </tr>\n",
              "    <tr>\n",
              "      <th>4</th>\n",
              "      <td>2</td>\n",
              "      <td>164</td>\n",
              "      <td>audi</td>\n",
              "      <td>std</td>\n",
              "      <td>four</td>\n",
              "      <td>sedan</td>\n",
              "      <td>4wd</td>\n",
              "      <td>front</td>\n",
              "      <td>99.4</td>\n",
              "      <td>0.848630</td>\n",
              "      <td>...</td>\n",
              "      <td>8.0</td>\n",
              "      <td>115.0</td>\n",
              "      <td>5500.0</td>\n",
              "      <td>18</td>\n",
              "      <td>22</td>\n",
              "      <td>17450.0</td>\n",
              "      <td>13.055556</td>\n",
              "      <td>Medium</td>\n",
              "      <td>0</td>\n",
              "      <td>1</td>\n",
              "    </tr>\n",
              "  </tbody>\n",
              "</table>\n",
              "<p>5 rows × 29 columns</p>\n",
              "</div>\n",
              "      <button class=\"colab-df-convert\" onclick=\"convertToInteractive('df-969cd3bf-7564-4f08-a7fc-8ac395bb6bbc')\"\n",
              "              title=\"Convert this dataframe to an interactive table.\"\n",
              "              style=\"display:none;\">\n",
              "        \n",
              "  <svg xmlns=\"http://www.w3.org/2000/svg\" height=\"24px\"viewBox=\"0 0 24 24\"\n",
              "       width=\"24px\">\n",
              "    <path d=\"M0 0h24v24H0V0z\" fill=\"none\"/>\n",
              "    <path d=\"M18.56 5.44l.94 2.06.94-2.06 2.06-.94-2.06-.94-.94-2.06-.94 2.06-2.06.94zm-11 1L8.5 8.5l.94-2.06 2.06-.94-2.06-.94L8.5 2.5l-.94 2.06-2.06.94zm10 10l.94 2.06.94-2.06 2.06-.94-2.06-.94-.94-2.06-.94 2.06-2.06.94z\"/><path d=\"M17.41 7.96l-1.37-1.37c-.4-.4-.92-.59-1.43-.59-.52 0-1.04.2-1.43.59L10.3 9.45l-7.72 7.72c-.78.78-.78 2.05 0 2.83L4 21.41c.39.39.9.59 1.41.59.51 0 1.02-.2 1.41-.59l7.78-7.78 2.81-2.81c.8-.78.8-2.07 0-2.86zM5.41 20L4 18.59l7.72-7.72 1.47 1.35L5.41 20z\"/>\n",
              "  </svg>\n",
              "      </button>\n",
              "      \n",
              "  <style>\n",
              "    .colab-df-container {\n",
              "      display:flex;\n",
              "      flex-wrap:wrap;\n",
              "      gap: 12px;\n",
              "    }\n",
              "\n",
              "    .colab-df-convert {\n",
              "      background-color: #E8F0FE;\n",
              "      border: none;\n",
              "      border-radius: 50%;\n",
              "      cursor: pointer;\n",
              "      display: none;\n",
              "      fill: #1967D2;\n",
              "      height: 32px;\n",
              "      padding: 0 0 0 0;\n",
              "      width: 32px;\n",
              "    }\n",
              "\n",
              "    .colab-df-convert:hover {\n",
              "      background-color: #E2EBFA;\n",
              "      box-shadow: 0px 1px 2px rgba(60, 64, 67, 0.3), 0px 1px 3px 1px rgba(60, 64, 67, 0.15);\n",
              "      fill: #174EA6;\n",
              "    }\n",
              "\n",
              "    [theme=dark] .colab-df-convert {\n",
              "      background-color: #3B4455;\n",
              "      fill: #D2E3FC;\n",
              "    }\n",
              "\n",
              "    [theme=dark] .colab-df-convert:hover {\n",
              "      background-color: #434B5C;\n",
              "      box-shadow: 0px 1px 3px 1px rgba(0, 0, 0, 0.15);\n",
              "      filter: drop-shadow(0px 1px 2px rgba(0, 0, 0, 0.3));\n",
              "      fill: #FFFFFF;\n",
              "    }\n",
              "  </style>\n",
              "\n",
              "      <script>\n",
              "        const buttonEl =\n",
              "          document.querySelector('#df-969cd3bf-7564-4f08-a7fc-8ac395bb6bbc button.colab-df-convert');\n",
              "        buttonEl.style.display =\n",
              "          google.colab.kernel.accessAllowed ? 'block' : 'none';\n",
              "\n",
              "        async function convertToInteractive(key) {\n",
              "          const element = document.querySelector('#df-969cd3bf-7564-4f08-a7fc-8ac395bb6bbc');\n",
              "          const dataTable =\n",
              "            await google.colab.kernel.invokeFunction('convertToInteractive',\n",
              "                                                     [key], {});\n",
              "          if (!dataTable) return;\n",
              "\n",
              "          const docLinkHtml = 'Like what you see? Visit the ' +\n",
              "            '<a target=\"_blank\" href=https://colab.research.google.com/notebooks/data_table.ipynb>data table notebook</a>'\n",
              "            + ' to learn more about interactive tables.';\n",
              "          element.innerHTML = '';\n",
              "          dataTable['output_type'] = 'display_data';\n",
              "          await google.colab.output.renderOutput(dataTable, element);\n",
              "          const docLink = document.createElement('div');\n",
              "          docLink.innerHTML = docLinkHtml;\n",
              "          element.appendChild(docLink);\n",
              "        }\n",
              "      </script>\n",
              "    </div>\n",
              "  </div>\n",
              "  "
            ]
          },
          "metadata": {},
          "execution_count": 34
        }
      ]
    },
    {
      "cell_type": "markdown",
      "source": [
        "1. REGRESION LINEAL Y REGRESION LINEAL MULTIPLE"
      ],
      "metadata": {
        "id": "wKLp_Hvce6S2"
      }
    },
    {
      "cell_type": "markdown",
      "source": [
        "Regresión lineal\n",
        "Un ejemplo de un modelo de datos que usaremos es\n",
        "\n",
        "Regresión lineal simple.\n",
        "La regresión lineal simple es un método que nos ayuda a comprender la relación entre dos variables:\n",
        "\n",
        "El predictor/variable independiente (X)\n",
        "La respuesta/variable dependiente (que queremos predecir)(Y)\n",
        "El resultado de la regresión lineal es una función lineal que predice la variable de respuesta (dependiente) en función de la variable predictora (independiente).\n",
        "\n",
        "Donde:\n",
        "a se refiere a la intersección de la línea de regresión0, en otras palabras: el valor de Y cuando X es 0\n",
        "b se refiere a la pendiente de la línea de regresión, en otras palabras: el valor con el que cambia Y cuando X aumenta en 1 unidad"
      ],
      "metadata": {
        "id": "EsOhGyldisgT"
      }
    },
    {
      "cell_type": "code",
      "source": [
        "# cargemos los modulos de regresion lineal\n",
        "from sklearn.linear_model import LinearRegression"
      ],
      "metadata": {
        "id": "XATKWbC1eNiF"
      },
      "execution_count": 37,
      "outputs": []
    },
    {
      "cell_type": "code",
      "source": [
        "# Creamos los objetos de regresion lineal\n",
        "lm = LinearRegression()\n",
        "lm"
      ],
      "metadata": {
        "colab": {
          "base_uri": "https://localhost:8080/"
        },
        "id": "SrgIN483eNeu",
        "outputId": "54950262-c344-463d-b56d-d8e00e8542b5"
      },
      "execution_count": 38,
      "outputs": [
        {
          "output_type": "execute_result",
          "data": {
            "text/plain": [
              "LinearRegression()"
            ]
          },
          "metadata": {},
          "execution_count": 38
        }
      ]
    },
    {
      "cell_type": "markdown",
      "source": [
        "¿Cómo podría Highway-mpg ayudarnos a predecir el precio del automóvil?\n",
        "\n",
        "Para este ejemplo, queremos ver cómo Highway-mpg puede ayudarnos a predecir el precio del automóvil. Mediante una regresión lineal simple, crearemos una función lineal con \"mpg en carretera\" como variable de predicción y \"precio\" como variable de respuesta."
      ],
      "metadata": {
        "id": "37AHYn2_jhOJ"
      }
    },
    {
      "cell_type": "code",
      "source": [
        "X = df[['highway-mpg']]\n",
        "Y = df[['price']]"
      ],
      "metadata": {
        "id": "myvbF43pe2cF"
      },
      "execution_count": 39,
      "outputs": []
    },
    {
      "cell_type": "code",
      "source": [
        "# Ajuste el modelo lineal utilizando Highway-mpg.\n",
        "lm.fit(X,Y)"
      ],
      "metadata": {
        "colab": {
          "base_uri": "https://localhost:8080/"
        },
        "id": "CuMYbW-Ee2ZT",
        "outputId": "4fc6e38b-d9a7-4c7e-d92d-9aa62f11b190"
      },
      "execution_count": 40,
      "outputs": [
        {
          "output_type": "execute_result",
          "data": {
            "text/plain": [
              "LinearRegression()"
            ]
          },
          "metadata": {},
          "execution_count": 40
        }
      ]
    },
    {
      "cell_type": "code",
      "source": [
        "# Podemos generar una predicción\n",
        "Yhat=lm.predict(X)\n",
        "Yhat[0:5]   "
      ],
      "metadata": {
        "colab": {
          "base_uri": "https://localhost:8080/"
        },
        "id": "VkR8LF9te2WU",
        "outputId": "dcc164c8-9777-494a-d94e-be08ccabd008"
      },
      "execution_count": 41,
      "outputs": [
        {
          "output_type": "execute_result",
          "data": {
            "text/plain": [
              "array([[16236.50464347],\n",
              "       [16236.50464347],\n",
              "       [17058.23802179],\n",
              "       [13771.3045085 ],\n",
              "       [20345.17153508]])"
            ]
          },
          "metadata": {},
          "execution_count": 41
        }
      ]
    },
    {
      "cell_type": "code",
      "source": [
        "# ¿Cuál es el valor del intercepto (a)?\n",
        "lm.intercept_"
      ],
      "metadata": {
        "colab": {
          "base_uri": "https://localhost:8080/"
        },
        "id": "uepya4K4e2Tg",
        "outputId": "9ae36cf6-cccc-431e-efc9-d4884be8244a"
      },
      "execution_count": 42,
      "outputs": [
        {
          "output_type": "execute_result",
          "data": {
            "text/plain": [
              "array([38423.30585816])"
            ]
          },
          "metadata": {},
          "execution_count": 42
        }
      ]
    },
    {
      "cell_type": "code",
      "source": [
        "#¿Cuál es el valor de la Pendiente (b)?\n",
        "lm.coef_"
      ],
      "metadata": {
        "colab": {
          "base_uri": "https://localhost:8080/"
        },
        "id": "5zVWsgr3e2Qy",
        "outputId": "fec4a2af-46cc-4349-ee69-75a8cc883ab0"
      },
      "execution_count": 43,
      "outputs": [
        {
          "output_type": "execute_result",
          "data": {
            "text/plain": [
              "array([[-821.73337832]])"
            ]
          },
          "metadata": {},
          "execution_count": 43
        }
      ]
    },
    {
      "cell_type": "markdown",
      "source": [
        "¿Cuál es el modelo lineal estimado final que obtenemos?\n",
        "Como vimos arriba, deberíamos obtener un modelo lineal final con la estructura:\n",
        "\n",
        "\n",
        "price = 38423.31 - 821.73 x highway-mpg"
      ],
      "metadata": {
        "id": "oUWD3ohTkcev"
      }
    },
    {
      "cell_type": "code",
      "source": [],
      "metadata": {
        "id": "gPhQ4hdAe2Kc"
      },
      "execution_count": null,
      "outputs": []
    },
    {
      "cell_type": "markdown",
      "source": [
        "### **Pregunta #1 a):**\n",
        "\n",
        "¿Crear un objeto de regresión lineal?"
      ],
      "metadata": {
        "id": "HoEXyCUPkrms"
      }
    },
    {
      "cell_type": "code",
      "source": [
        "lm1 = LinearRegression()\n",
        "lm1"
      ],
      "metadata": {
        "colab": {
          "base_uri": "https://localhost:8080/"
        },
        "id": "fu6OLqPre2Fm",
        "outputId": "aeaf6244-7e56-48ae-b53b-3c386d6d2228"
      },
      "execution_count": 44,
      "outputs": [
        {
          "output_type": "execute_result",
          "data": {
            "text/plain": [
              "LinearRegression()"
            ]
          },
          "metadata": {},
          "execution_count": 44
        }
      ]
    },
    {
      "cell_type": "code",
      "source": [],
      "metadata": {
        "id": "nGRSdI1ceNbS"
      },
      "execution_count": null,
      "outputs": []
    },
    {
      "cell_type": "markdown",
      "source": [
        "### **Pregunta #1 b):**\n",
        "\n",
        "¿Entrenar el modelo usando 'tamaño del motor' como variable independiente y 'precio' como variable dependiente?"
      ],
      "metadata": {
        "id": "mu9HrpqklFoO"
      }
    },
    {
      "cell_type": "code",
      "source": [
        "X = df[['engine-size']]\n",
        "Y = df[['price']]\n",
        "lm1.fit(X,Y)"
      ],
      "metadata": {
        "colab": {
          "base_uri": "https://localhost:8080/"
        },
        "id": "c7pILBONeNYL",
        "outputId": "1d556947-951c-4fba-b49d-80445cb7652c"
      },
      "execution_count": 45,
      "outputs": [
        {
          "output_type": "execute_result",
          "data": {
            "text/plain": [
              "LinearRegression()"
            ]
          },
          "metadata": {},
          "execution_count": 45
        }
      ]
    },
    {
      "cell_type": "code",
      "source": [],
      "metadata": {
        "id": "Q9D_Q4wDeNVT"
      },
      "execution_count": null,
      "outputs": []
    },
    {
      "cell_type": "markdown",
      "source": [
        "\n",
        "### **Pregunta #1c):**\n",
        "¿Encontrar la pendiente y la intersección del modelo?"
      ],
      "metadata": {
        "id": "zj2kDn_hlWH_"
      }
    },
    {
      "cell_type": "code",
      "source": [
        "lm1.coef_"
      ],
      "metadata": {
        "colab": {
          "base_uri": "https://localhost:8080/"
        },
        "id": "HEK46Vr7eNSS",
        "outputId": "31d8e90d-89c6-49f9-c235-36a0315690a6"
      },
      "execution_count": 46,
      "outputs": [
        {
          "output_type": "execute_result",
          "data": {
            "text/plain": [
              "array([[166.86001569]])"
            ]
          },
          "metadata": {},
          "execution_count": 46
        }
      ]
    },
    {
      "cell_type": "code",
      "source": [
        "lm1.intercept_"
      ],
      "metadata": {
        "colab": {
          "base_uri": "https://localhost:8080/"
        },
        "id": "ke6ahUI9eNPV",
        "outputId": "8c0081da-a8b4-4c3f-9274-000bb28492a1"
      },
      "execution_count": 47,
      "outputs": [
        {
          "output_type": "execute_result",
          "data": {
            "text/plain": [
              "array([-7963.33890628])"
            ]
          },
          "metadata": {},
          "execution_count": 47
        }
      ]
    },
    {
      "cell_type": "code",
      "source": [],
      "metadata": {
        "id": "kzdjNT9heNMc"
      },
      "execution_count": null,
      "outputs": []
    },
    {
      "cell_type": "markdown",
      "source": [
        "### **Question #1 d):**\n",
        "What is the equation of the predicted line. You can use x and yhat or 'engine-size' or 'price'?"
      ],
      "metadata": {
        "id": "s6frcYXblni6"
      }
    },
    {
      "cell_type": "code",
      "source": [],
      "metadata": {
        "id": "o7w-dMJOeNJd"
      },
      "execution_count": null,
      "outputs": []
    },
    {
      "cell_type": "markdown",
      "source": [
        "Puede escribir su respuesta aquí\n",
        "Haga doble clic aquí para la solución.\n",
        "\n",
        "Regresión lineal múltiple\n",
        "¿Qué pasa si queremos predecir el precio del automóvil usando más de una variable?\n",
        "\n",
        "Si queremos usar más variables en nuestro modelo para predecir el precio del automóvil, podemos usar la regresión lineal múltiple. La regresión lineal múltiple es muy similar a la regresión lineal simple, pero este método se utiliza para explicar la relación entre una variable de respuesta continua (dependiente) y dos o más variables predictoras (independientes). La mayoría de los modelos de regresión del mundo real involucran múltiples predictores. Ilustraremos la estructura usando cuatro variables predictoras, pero estos resultados pueden generalizarse a cualquier número entero"
      ],
      "metadata": {
        "id": "rE_tsPABlxaH"
      }
    },
    {
      "cell_type": "code",
      "source": [],
      "metadata": {
        "id": "0REyUE9AeNGb"
      },
      "execution_count": null,
      "outputs": []
    },
    {
      "cell_type": "markdown",
      "source": [
        "Del apartado anterior sabemos que otros buenos predictores de precio podrían ser:\n",
        "\n",
        "Caballo de fuerza\n",
        "peso en vacío\n",
        "Tamaño de la maquina\n",
        "Autopista-mpg\n",
        "Desarrollemos un modelo usando estas variables como variables predictoras."
      ],
      "metadata": {
        "id": "mg9qzHz9l68H"
      }
    },
    {
      "cell_type": "code",
      "source": [
        "Z = df[['horsepower', 'curb-weight', 'engine-size', 'highway-mpg']]"
      ],
      "metadata": {
        "id": "aBKyvhq_eNDa"
      },
      "execution_count": 48,
      "outputs": []
    },
    {
      "cell_type": "code",
      "source": [],
      "metadata": {
        "id": "30pFafdaeNAG"
      },
      "execution_count": null,
      "outputs": []
    },
    {
      "cell_type": "markdown",
      "source": [
        "\n",
        "Ajuste el modelo lineal utilizando las cuatro variables mencionadas anteriormente."
      ],
      "metadata": {
        "id": "ZrUV_TxlmNzL"
      }
    },
    {
      "cell_type": "code",
      "source": [
        "lm.fit(Z, df['price'])"
      ],
      "metadata": {
        "colab": {
          "base_uri": "https://localhost:8080/"
        },
        "id": "ZPIthBHomE3I",
        "outputId": "461fd389-b098-4e22-89ae-a15e3bb892ba"
      },
      "execution_count": 49,
      "outputs": [
        {
          "output_type": "execute_result",
          "data": {
            "text/plain": [
              "LinearRegression()"
            ]
          },
          "metadata": {},
          "execution_count": 49
        }
      ]
    },
    {
      "cell_type": "code",
      "source": [
        "# ¿Cuál es el valor del intercepto(a)?\n",
        "lm.intercept_"
      ],
      "metadata": {
        "colab": {
          "base_uri": "https://localhost:8080/"
        },
        "id": "aiuQP_UHmEz7",
        "outputId": "bede37f3-3d58-46a0-af25-c2ea76d296f0"
      },
      "execution_count": 50,
      "outputs": [
        {
          "output_type": "execute_result",
          "data": {
            "text/plain": [
              "-15806.62462632922"
            ]
          },
          "metadata": {},
          "execution_count": 50
        }
      ]
    },
    {
      "cell_type": "code",
      "source": [
        "# ¿Cuáles son los valores de los coeficientes (b1, b2, b3, b4)?\n",
        "lm.coef_"
      ],
      "metadata": {
        "colab": {
          "base_uri": "https://localhost:8080/"
        },
        "id": "GNBFbpmYmExM",
        "outputId": "fd02535e-ef3e-4d8c-c635-db672d44dac7"
      },
      "execution_count": 51,
      "outputs": [
        {
          "output_type": "execute_result",
          "data": {
            "text/plain": [
              "array([53.49574423,  4.70770099, 81.53026382, 36.05748882])"
            ]
          },
          "metadata": {},
          "execution_count": 51
        }
      ]
    },
    {
      "cell_type": "code",
      "source": [],
      "metadata": {
        "id": "JDYXlLfPmEuW"
      },
      "execution_count": null,
      "outputs": []
    },
    {
      "cell_type": "markdown",
      "source": [
        "¿Cuál es la función lineal que obtenemos en este ejemplo?\n",
        "\n",
        "Price = -15678.742628061467 + 52.65851272 x horsepower + 4.69878948 x curb-weight + 81.95906216 x engine-size + 33.58258185 x highway-mpg"
      ],
      "metadata": {
        "id": "taUZuyrdmx1q"
      }
    },
    {
      "cell_type": "code",
      "source": [],
      "metadata": {
        "id": "y1hYT7D_mEra"
      },
      "execution_count": null,
      "outputs": []
    },
    {
      "cell_type": "markdown",
      "source": [
        "### **Pregunta #2a):**\n",
        "\n",
        "Cree y entrene un modelo de regresión lineal múltiple \"lm2\" en el que la variable de respuesta sea el precio y la variable de predicción sea \"pérdidas normalizadas\" y \"mpg en carretera\"."
      ],
      "metadata": {
        "id": "j_ZlAeA3oCCa"
      }
    },
    {
      "cell_type": "code",
      "source": [
        "lm2 = LinearRegression()\n",
        "lm2.fit(df[['normalized-losses','highway-mpg']],df[['price']])"
      ],
      "metadata": {
        "colab": {
          "base_uri": "https://localhost:8080/"
        },
        "id": "eG01rvYfmEoy",
        "outputId": "758d8448-262b-461c-8f1d-abd1f6642471"
      },
      "execution_count": 55,
      "outputs": [
        {
          "output_type": "execute_result",
          "data": {
            "text/plain": [
              "LinearRegression()"
            ]
          },
          "metadata": {},
          "execution_count": 55
        }
      ]
    },
    {
      "cell_type": "code",
      "source": [],
      "metadata": {
        "id": "y5gsdYxMmEl-"
      },
      "execution_count": null,
      "outputs": []
    },
    {
      "cell_type": "markdown",
      "source": [
        "### **Pregunta #2 b):**\n",
        "Encuentre el coeficiente del modelo?"
      ],
      "metadata": {
        "id": "iQp0I1HsonI0"
      }
    },
    {
      "cell_type": "code",
      "source": [
        "lm2.coef_"
      ],
      "metadata": {
        "colab": {
          "base_uri": "https://localhost:8080/"
        },
        "id": "7nTiidlYmEjF",
        "outputId": "692252ab-44f4-4ead-e1fc-7695cd8ab78a"
      },
      "execution_count": 56,
      "outputs": [
        {
          "output_type": "execute_result",
          "data": {
            "text/plain": [
              "array([[   1.49789586, -820.45434016]])"
            ]
          },
          "metadata": {},
          "execution_count": 56
        }
      ]
    },
    {
      "cell_type": "code",
      "source": [
        "lm2.intercept_"
      ],
      "metadata": {
        "colab": {
          "base_uri": "https://localhost:8080/"
        },
        "id": "io3BautpmEgE",
        "outputId": "cffec008-70d3-4386-c968-f02c1e038b23"
      },
      "execution_count": 57,
      "outputs": [
        {
          "output_type": "execute_result",
          "data": {
            "text/plain": [
              "array([38201.31327246])"
            ]
          },
          "metadata": {},
          "execution_count": 57
        }
      ]
    },
    {
      "cell_type": "code",
      "source": [],
      "metadata": {
        "id": "aMCHXUDMmEdJ"
      },
      "execution_count": null,
      "outputs": []
    },
    {
      "cell_type": "markdown",
      "source": [
        "### **2) Evaluación del modelo usando visualización**\n",
        "\n",
        "Ahora que hemos desarrollado algunos modelos, ¿cómo evaluamos nuestros modelos y cómo elegimos el mejor? Una forma de hacerlo es mediante el uso de la visualización.\n",
        "\n",
        "importar el paquete de visualización: seaborn"
      ],
      "metadata": {
        "id": "Ozvtdydho5qf"
      }
    },
    {
      "cell_type": "code",
      "source": [
        "import seaborn as sns\n",
        "%matplotlib inline "
      ],
      "metadata": {
        "id": "VQi2wWT2eM9D"
      },
      "execution_count": 58,
      "outputs": []
    },
    {
      "cell_type": "code",
      "source": [],
      "metadata": {
        "id": "XjNq-ka-eM6F"
      },
      "execution_count": null,
      "outputs": []
    },
    {
      "cell_type": "markdown",
      "source": [
        "## **Gráfico de regresión**\n",
        "\n",
        "Cuando se trata de regresión lineal simple, una excelente manera de visualizar el ajuste de nuestro modelo es mediante gráficos de regresión.\n",
        "\n",
        "Este gráfico mostrará una combinación de puntos de datos dispersos (un gráfico de dispersión), así como la línea de regresión lineal ajustada que pasa por los datos. Esto nos dará una estimación razonable de la relación entre las dos variables, la fuerza de la correlación, así como la dirección (correlación positiva o negativa).\n",
        "\n",
        "Visualicemos la potencia como potencial variable predictora del precio:"
      ],
      "metadata": {
        "id": "6m8znsFGpFW3"
      }
    },
    {
      "cell_type": "code",
      "source": [
        "width = 12\n",
        "height = 10\n",
        "plt.figure(figsize=(width, height))\n",
        "sns.regplot(x=\"highway-mpg\", y=\"price\", data=df)\n",
        "#plt.ylim(0,)"
      ],
      "metadata": {
        "colab": {
          "base_uri": "https://localhost:8080/",
          "height": 624
        },
        "id": "TE4NCCMpov3B",
        "outputId": "b2509dc5-fc04-4a73-8880-ed08f9f6d99d"
      },
      "execution_count": 59,
      "outputs": [
        {
          "output_type": "execute_result",
          "data": {
            "text/plain": [
              "<matplotlib.axes._subplots.AxesSubplot at 0x7fb9f5f7e3d0>"
            ]
          },
          "metadata": {},
          "execution_count": 59
        },
        {
          "output_type": "display_data",
          "data": {
            "text/plain": [
              "<Figure size 864x720 with 1 Axes>"
            ],
            "image/png": "[encoded data removed]"
          },
          "metadata": {
            "needs_background": "light"
          }
        }
      ]
    },
    {
      "cell_type": "code",
      "source": [
        "width = 12\n",
        "height = 10\n",
        "plt.figure(figsize=(width, height))\n",
        "sns.regplot(x=\"highway-mpg\", y=\"price\", data=df)\n",
        "plt.ylim(0,)"
      ],
      "metadata": {
        "colab": {
          "base_uri": "https://localhost:8080/",
          "height": 624
        },
        "id": "X73hgfmTov0I",
        "outputId": "f92909be-b38d-442a-f838-d81a8beadfe6"
      },
      "execution_count": 60,
      "outputs": [
        {
          "output_type": "execute_result",
          "data": {
            "text/plain": [
              "(0.0, 48170.81493272626)"
            ]
          },
          "metadata": {},
          "execution_count": 60
        },
        {
          "output_type": "display_data",
          "data": {
            "text/plain": [
              "<Figure size 864x720 with 1 Axes>"
            ],
            "image/png": "[encoded data removed]"
          },
          "metadata": {
            "needs_background": "light"
          }
        }
      ]
    },
    {
      "cell_type": "code",
      "source": [],
      "metadata": {
        "id": "JIERfGp8ovxH"
      },
      "execution_count": null,
      "outputs": []
    },
    {
      "cell_type": "markdown",
      "source": [
        "\n",
        "Podemos ver en este gráfico que el precio está negativamente correlacionado con el mpg en carretera, ya que la pendiente de regresión es negativa. Una cosa a tener en cuenta al mirar un gráfico de regresión es prestar atención a cuán dispersos están los puntos de datos alrededor de la línea de regresión. Esto le dará una buena indicación de la varianza de los datos y si un modelo lineal sería el mejor ajuste o no. Si los datos están demasiado alejados de la línea, este modelo lineal podría no ser el mejor modelo para estos datos. Comparemos este gráfico con el gráfico de regresión de \"pico-rpm\"."
      ],
      "metadata": {
        "id": "8KwBHhCTpfeD"
      }
    },
    {
      "cell_type": "code",
      "source": [
        "plt.figure(figsize=(width, height))\n",
        "sns.regplot(x=\"peak-rpm\", y=\"price\", data=df)\n",
        "plt.ylim(0,)"
      ],
      "metadata": {
        "colab": {
          "base_uri": "https://localhost:8080/",
          "height": 624
        },
        "id": "QVEI4altovuK",
        "outputId": "fb416ac8-d308-4c80-c12e-b2ec4c9a1dd2"
      },
      "execution_count": 61,
      "outputs": [
        {
          "output_type": "execute_result",
          "data": {
            "text/plain": [
              "(0.0, 47414.1)"
            ]
          },
          "metadata": {},
          "execution_count": 61
        },
        {
          "output_type": "display_data",
          "data": {
            "text/plain": [
              "<Figure size 864x720 with 1 Axes>"
            ],
            "image/png": "[encoded data removed]"
          },
          "metadata": {
            "needs_background": "light"
          }
        }
      ]
    },
    {
      "cell_type": "code",
      "source": [],
      "metadata": {
        "id": "cVQXQZXoovrj"
      },
      "execution_count": null,
      "outputs": []
    },
    {
      "cell_type": "markdown",
      "source": [
        "Al comparar el gráfico de regresión de \"rpm pico\" y \"mpg en carretera\", vemos que los puntos para \"mpg en carretera\" están mucho más cerca de la línea generada y, en promedio, disminuyen. Los puntos para \"rpm pico\" están más dispersos alrededor de la línea predicha, y es mucho más difícil determinar si los puntos están disminuyendo o aumentando a medida que aumenta el \"mpg en carretera\"."
      ],
      "metadata": {
        "id": "2jsve5FRpoMn"
      }
    },
    {
      "cell_type": "code",
      "source": [],
      "metadata": {
        "id": "cHvG8ysIovpA"
      },
      "execution_count": null,
      "outputs": []
    },
    {
      "cell_type": "markdown",
      "source": [
        "## **Pregunta 3:**\n",
        "\n",
        "Dadas las gráficas de regresión anteriores, las \"rpm pico\" o \"mpg en carretera\" están más fuertemente correlacionadas con el \"precio\". Usa el método \".corr()\" para verificar tu respuesta.\n"
      ],
      "metadata": {
        "id": "jkQ5V8fOpzwK"
      }
    },
    {
      "cell_type": "code",
      "source": [
        "df[[\"peak-rpm\",\"highway-mpg\",\"price\"]].corr()"
      ],
      "metadata": {
        "colab": {
          "base_uri": "https://localhost:8080/",
          "height": 143
        },
        "id": "VHG2oxWQovmJ",
        "outputId": "8fe54aa8-9e89-4a0f-a262-0e9ba114f542"
      },
      "execution_count": 62,
      "outputs": [
        {
          "output_type": "execute_result",
          "data": {
            "text/plain": [
              "             peak-rpm  highway-mpg     price\n",
              "peak-rpm     1.000000    -0.058598 -0.101616\n",
              "highway-mpg -0.058598     1.000000 -0.704692\n",
              "price       -0.101616    -0.704692  1.000000"
            ],
            "text/html": [
              "\n",
              "  <div id=\"df-6441c166-f01c-478a-90eb-a2f106b9709f\">\n",
              "    <div class=\"colab-df-container\">\n",
              "      <div>\n",
              "<style scoped>\n",
              "    .dataframe tbody tr th:only-of-type {\n",
              "        vertical-align: middle;\n",
              "    }\n",
              "\n",
              "    .dataframe tbody tr th {\n",
              "        vertical-align: top;\n",
              "    }\n",
              "\n",
              "    .dataframe thead th {\n",
              "        text-align: right;\n",
              "    }\n",
              "</style>\n",
              "<table border=\"1\" class=\"dataframe\">\n",
              "  <thead>\n",
              "    <tr style=\"text-align: right;\">\n",
              "      <th></th>\n",
              "      <th>peak-rpm</th>\n",
              "      <th>highway-mpg</th>\n",
              "      <th>price</th>\n",
              "    </tr>\n",
              "  </thead>\n",
              "  <tbody>\n",
              "    <tr>\n",
              "      <th>peak-rpm</th>\n",
              "      <td>1.000000</td>\n",
              "      <td>-0.058598</td>\n",
              "      <td>-0.101616</td>\n",
              "    </tr>\n",
              "    <tr>\n",
              "      <th>highway-mpg</th>\n",
              "      <td>-0.058598</td>\n",
              "      <td>1.000000</td>\n",
              "      <td>-0.704692</td>\n",
              "    </tr>\n",
              "    <tr>\n",
              "      <th>price</th>\n",
              "      <td>-0.101616</td>\n",
              "      <td>-0.704692</td>\n",
              "      <td>1.000000</td>\n",
              "    </tr>\n",
              "  </tbody>\n",
              "</table>\n",
              "</div>\n",
              "      <button class=\"colab-df-convert\" onclick=\"convertToInteractive('df-6441c166-f01c-478a-90eb-a2f106b9709f')\"\n",
              "              title=\"Convert this dataframe to an interactive table.\"\n",
              "              style=\"display:none;\">\n",
              "        \n",
              "  <svg xmlns=\"http://www.w3.org/2000/svg\" height=\"24px\"viewBox=\"0 0 24 24\"\n",
              "       width=\"24px\">\n",
              "    <path d=\"M0 0h24v24H0V0z\" fill=\"none\"/>\n",
              "    <path d=\"M18.56 5.44l.94 2.06.94-2.06 2.06-.94-2.06-.94-.94-2.06-.94 2.06-2.06.94zm-11 1L8.5 8.5l.94-2.06 2.06-.94-2.06-.94L8.5 2.5l-.94 2.06-2.06.94zm10 10l.94 2.06.94-2.06 2.06-.94-2.06-.94-.94-2.06-.94 2.06-2.06.94z\"/><path d=\"M17.41 7.96l-1.37-1.37c-.4-.4-.92-.59-1.43-.59-.52 0-1.04.2-1.43.59L10.3 9.45l-7.72 7.72c-.78.78-.78 2.05 0 2.83L4 21.41c.39.39.9.59 1.41.59.51 0 1.02-.2 1.41-.59l7.78-7.78 2.81-2.81c.8-.78.8-2.07 0-2.86zM5.41 20L4 18.59l7.72-7.72 1.47 1.35L5.41 20z\"/>\n",
              "  </svg>\n",
              "      </button>\n",
              "      \n",
              "  <style>\n",
              "    .colab-df-container {\n",
              "      display:flex;\n",
              "      flex-wrap:wrap;\n",
              "      gap: 12px;\n",
              "    }\n",
              "\n",
              "    .colab-df-convert {\n",
              "      background-color: #E8F0FE;\n",
              "      border: none;\n",
              "      border-radius: 50%;\n",
              "      cursor: pointer;\n",
              "      display: none;\n",
              "      fill: #1967D2;\n",
              "      height: 32px;\n",
              "      padding: 0 0 0 0;\n",
              "      width: 32px;\n",
              "    }\n",
              "\n",
              "    .colab-df-convert:hover {\n",
              "      background-color: #E2EBFA;\n",
              "      box-shadow: 0px 1px 2px rgba(60, 64, 67, 0.3), 0px 1px 3px 1px rgba(60, 64, 67, 0.15);\n",
              "      fill: #174EA6;\n",
              "    }\n",
              "\n",
              "    [theme=dark] .colab-df-convert {\n",
              "      background-color: #3B4455;\n",
              "      fill: #D2E3FC;\n",
              "    }\n",
              "\n",
              "    [theme=dark] .colab-df-convert:hover {\n",
              "      background-color: #434B5C;\n",
              "      box-shadow: 0px 1px 3px 1px rgba(0, 0, 0, 0.15);\n",
              "      filter: drop-shadow(0px 1px 2px rgba(0, 0, 0, 0.3));\n",
              "      fill: #FFFFFF;\n",
              "    }\n",
              "  </style>\n",
              "\n",
              "      <script>\n",
              "        const buttonEl =\n",
              "          document.querySelector('#df-6441c166-f01c-478a-90eb-a2f106b9709f button.colab-df-convert');\n",
              "        buttonEl.style.display =\n",
              "          google.colab.kernel.accessAllowed ? 'block' : 'none';\n",
              "\n",
              "        async function convertToInteractive(key) {\n",
              "          const element = document.querySelector('#df-6441c166-f01c-478a-90eb-a2f106b9709f');\n",
              "          const dataTable =\n",
              "            await google.colab.kernel.invokeFunction('convertToInteractive',\n",
              "                                                     [key], {});\n",
              "          if (!dataTable) return;\n",
              "\n",
              "          const docLinkHtml = 'Like what you see? Visit the ' +\n",
              "            '<a target=\"_blank\" href=https://colab.research.google.com/notebooks/data_table.ipynb>data table notebook</a>'\n",
              "            + ' to learn more about interactive tables.';\n",
              "          element.innerHTML = '';\n",
              "          dataTable['output_type'] = 'display_data';\n",
              "          await google.colab.output.renderOutput(dataTable, element);\n",
              "          const docLink = document.createElement('div');\n",
              "          docLink.innerHTML = docLinkHtml;\n",
              "          element.appendChild(docLink);\n",
              "        }\n",
              "      </script>\n",
              "    </div>\n",
              "  </div>\n",
              "  "
            ]
          },
          "metadata": {},
          "execution_count": 62
        }
      ]
    },
    {
      "cell_type": "code",
      "source": [],
      "metadata": {
        "id": "TPrO5yLrovjV"
      },
      "execution_count": null,
      "outputs": []
    },
    {
      "cell_type": "markdown",
      "source": [
        "Parcela Residual\n",
        "Una buena manera de visualizar la varianza de los datos es usar una gráfica de residuos.\n",
        "\n",
        "¿Qué es un residual?\n",
        "\n",
        "La diferencia entre el valor observado (y) y el valor pronosticado (Yhat) se llama residual (e). Cuando observamos un gráfico de regresión, el residuo es la distancia desde el punto de datos hasta la línea de regresión ajustada.\n",
        "\n",
        "Entonces, ¿qué es un gráfico residual?\n",
        "\n",
        "Una gráfica de residuos es un gráfico que muestra los residuos en el eje y vertical y la variable independiente en el eje x horizontal.\n",
        "\n",
        "¿A qué prestamos atención cuando miramos una parcela residual?\n",
        "\n",
        "Nos fijamos en la dispersión de los residuos:\n",
        "\n",
        "- Si los puntos en una gráfica de residuos se distribuyen aleatoriamente alrededor del eje x, entonces un modelo lineal es apropiado para los datos. ¿Porqué es eso? La distribución aleatoria de residuos significa que la varianza es constante y, por lo tanto, el modelo lineal se ajusta bien a estos datos."
      ],
      "metadata": {
        "id": "1_bDHcZFqBjN"
      }
    },
    {
      "cell_type": "code",
      "source": [
        "width = 12\n",
        "height = 10\n",
        "plt.figure(figsize=(width, height))\n",
        "sns.residplot(df['highway-mpg'], df['price'])\n",
        "plt.show()"
      ],
      "metadata": {
        "colab": {
          "base_uri": "https://localhost:8080/",
          "height": 663
        },
        "id": "CmZsKaKgovdj",
        "outputId": "93fdfe6a-2af1-44ab-f0ef-408661ae46d3"
      },
      "execution_count": 63,
      "outputs": [
        {
          "output_type": "stream",
          "name": "stderr",
          "text": [
            "/usr/local/lib/python3.7/dist-packages/seaborn/_decorators.py:43: FutureWarning: Pass the following variables as keyword args: x, y. From version 0.12, the only valid positional argument will be `data`, and passing other arguments without an explicit keyword will result in an error or misinterpretation.\n",
            "  FutureWarning\n"
          ]
        },
        {
          "output_type": "display_data",
          "data": {
            "text/plain": [
              "<Figure size 864x720 with 1 Axes>"
            ],
            "image/png": "[encoded data removed]"
          },
          "metadata": {
            "needs_background": "light"
          }
        }
      ]
    },
    {
      "cell_type": "code",
      "source": [
        "width = 12\n",
        "height = 10\n",
        "plt.figure(figsize=(width, height))\n",
        "sns.residplot(df['peak-rpm'], df['price'])\n",
        "plt.show()"
      ],
      "metadata": {
        "colab": {
          "base_uri": "https://localhost:8080/",
          "height": 606
        },
        "id": "ijtOgXbTovam",
        "outputId": "88e90e9d-4870-4650-f7fb-78b166684e8e"
      },
      "execution_count": 64,
      "outputs": [
        {
          "output_type": "display_data",
          "data": {
            "text/plain": [
              "<Figure size 864x720 with 1 Axes>"
            ],
            "image/png": "[encoded data removed]"
          },
          "metadata": {
            "needs_background": "light"
          }
        }
      ]
    },
    {
      "cell_type": "code",
      "source": [],
      "metadata": {
        "id": "WbDBjTzdqILh"
      },
      "execution_count": null,
      "outputs": []
    },
    {
      "cell_type": "markdown",
      "source": [
        "\n",
        "¿Qué nos dice esta trama?\n",
        "\n",
        "Podemos ver en este gráfico de residuos que los residuos no se distribuyen aleatoriamente alrededor del eje x, lo que nos lleva a creer que tal vez un modelo no lineal sea más apropiado para estos datos."
      ],
      "metadata": {
        "id": "Q9CsAVwCqcBq"
      }
    },
    {
      "cell_type": "code",
      "source": [],
      "metadata": {
        "id": "jNdXNziqqIIm"
      },
      "execution_count": null,
      "outputs": []
    },
    {
      "cell_type": "markdown",
      "source": [
        "\n",
        "### **Regresión lineal múltiple**\n",
        "\n",
        "¿Cómo visualizamos un modelo de regresión lineal múltiple? Esto se vuelve un poco más complicado porque no se puede visualizar con regresión o gráfico residual.\n",
        "\n",
        "Una forma de ver el ajuste del modelo es mirar el gráfico de distribución: podemos ver la distribución de los valores ajustados que resultan del modelo y compararla con la distribución de los valores reales.\n",
        "\n",
        "Primero hagamos una predicción"
      ],
      "metadata": {
        "id": "ZEHA6aCPqiET"
      }
    },
    {
      "cell_type": "code",
      "source": [
        "Y_hat = lm.predict(Z)"
      ],
      "metadata": {
        "id": "G15sfDqcqIF2"
      },
      "execution_count": 66,
      "outputs": []
    },
    {
      "cell_type": "code",
      "source": [
        "Z.describe()"
      ],
      "metadata": {
        "colab": {
          "base_uri": "https://localhost:8080/",
          "height": 300
        },
        "id": "vtB1i_jNqICE",
        "outputId": "4f993c03-653d-426d-efe4-43eaf23d0dfd"
      },
      "execution_count": 67,
      "outputs": [
        {
          "output_type": "execute_result",
          "data": {
            "text/plain": [
              "       horsepower  curb-weight  engine-size  highway-mpg\n",
              "count  201.000000   201.000000   201.000000   201.000000\n",
              "mean   103.405534  2555.666667   126.875622    30.686567\n",
              "std     37.365700   517.296727    41.546834     6.815150\n",
              "min     48.000000  1488.000000    61.000000    16.000000\n",
              "25%     70.000000  2169.000000    98.000000    25.000000\n",
              "50%     95.000000  2414.000000   120.000000    30.000000\n",
              "75%    116.000000  2926.000000   141.000000    34.000000\n",
              "max    262.000000  4066.000000   326.000000    54.000000"
            ],
            "text/html": [
              "\n",
              "  <div id=\"df-80e90d0d-f10a-44e7-b89e-5b134d3bc2e6\">\n",
              "    <div class=\"colab-df-container\">\n",
              "      <div>\n",
              "<style scoped>\n",
              "    .dataframe tbody tr th:only-of-type {\n",
              "        vertical-align: middle;\n",
              "    }\n",
              "\n",
              "    .dataframe tbody tr th {\n",
              "        vertical-align: top;\n",
              "    }\n",
              "\n",
              "    .dataframe thead th {\n",
              "        text-align: right;\n",
              "    }\n",
              "</style>\n",
              "<table border=\"1\" class=\"dataframe\">\n",
              "  <thead>\n",
              "    <tr style=\"text-align: right;\">\n",
              "      <th></th>\n",
              "      <th>horsepower</th>\n",
              "      <th>curb-weight</th>\n",
              "      <th>engine-size</th>\n",
              "      <th>highway-mpg</th>\n",
              "    </tr>\n",
              "  </thead>\n",
              "  <tbody>\n",
              "    <tr>\n",
              "      <th>count</th>\n",
              "      <td>201.000000</td>\n",
              "      <td>201.000000</td>\n",
              "      <td>201.000000</td>\n",
              "      <td>201.000000</td>\n",
              "    </tr>\n",
              "    <tr>\n",
              "      <th>mean</th>\n",
              "      <td>103.405534</td>\n",
              "      <td>2555.666667</td>\n",
              "      <td>126.875622</td>\n",
              "      <td>30.686567</td>\n",
              "    </tr>\n",
              "    <tr>\n",
              "      <th>std</th>\n",
              "      <td>37.365700</td>\n",
              "      <td>517.296727</td>\n",
              "      <td>41.546834</td>\n",
              "      <td>6.815150</td>\n",
              "    </tr>\n",
              "    <tr>\n",
              "      <th>min</th>\n",
              "      <td>48.000000</td>\n",
              "      <td>1488.000000</td>\n",
              "      <td>61.000000</td>\n",
              "      <td>16.000000</td>\n",
              "    </tr>\n",
              "    <tr>\n",
              "      <th>25%</th>\n",
              "      <td>70.000000</td>\n",
              "      <td>2169.000000</td>\n",
              "      <td>98.000000</td>\n",
              "      <td>25.000000</td>\n",
              "    </tr>\n",
              "    <tr>\n",
              "      <th>50%</th>\n",
              "      <td>95.000000</td>\n",
              "      <td>2414.000000</td>\n",
              "      <td>120.000000</td>\n",
              "      <td>30.000000</td>\n",
              "    </tr>\n",
              "    <tr>\n",
              "      <th>75%</th>\n",
              "      <td>116.000000</td>\n",
              "      <td>2926.000000</td>\n",
              "      <td>141.000000</td>\n",
              "      <td>34.000000</td>\n",
              "    </tr>\n",
              "    <tr>\n",
              "      <th>max</th>\n",
              "      <td>262.000000</td>\n",
              "      <td>4066.000000</td>\n",
              "      <td>326.000000</td>\n",
              "      <td>54.000000</td>\n",
              "    </tr>\n",
              "  </tbody>\n",
              "</table>\n",
              "</div>\n",
              "      <button class=\"colab-df-convert\" onclick=\"convertToInteractive('df-80e90d0d-f10a-44e7-b89e-5b134d3bc2e6')\"\n",
              "              title=\"Convert this dataframe to an interactive table.\"\n",
              "              style=\"display:none;\">\n",
              "        \n",
              "  <svg xmlns=\"http://www.w3.org/2000/svg\" height=\"24px\"viewBox=\"0 0 24 24\"\n",
              "       width=\"24px\">\n",
              "    <path d=\"M0 0h24v24H0V0z\" fill=\"none\"/>\n",
              "    <path d=\"M18.56 5.44l.94 2.06.94-2.06 2.06-.94-2.06-.94-.94-2.06-.94 2.06-2.06.94zm-11 1L8.5 8.5l.94-2.06 2.06-.94-2.06-.94L8.5 2.5l-.94 2.06-2.06.94zm10 10l.94 2.06.94-2.06 2.06-.94-2.06-.94-.94-2.06-.94 2.06-2.06.94z\"/><path d=\"M17.41 7.96l-1.37-1.37c-.4-.4-.92-.59-1.43-.59-.52 0-1.04.2-1.43.59L10.3 9.45l-7.72 7.72c-.78.78-.78 2.05 0 2.83L4 21.41c.39.39.9.59 1.41.59.51 0 1.02-.2 1.41-.59l7.78-7.78 2.81-2.81c.8-.78.8-2.07 0-2.86zM5.41 20L4 18.59l7.72-7.72 1.47 1.35L5.41 20z\"/>\n",
              "  </svg>\n",
              "      </button>\n",
              "      \n",
              "  <style>\n",
              "    .colab-df-container {\n",
              "      display:flex;\n",
              "      flex-wrap:wrap;\n",
              "      gap: 12px;\n",
              "    }\n",
              "\n",
              "    .colab-df-convert {\n",
              "      background-color: #E8F0FE;\n",
              "      border: none;\n",
              "      border-radius: 50%;\n",
              "      cursor: pointer;\n",
              "      display: none;\n",
              "      fill: #1967D2;\n",
              "      height: 32px;\n",
              "      padding: 0 0 0 0;\n",
              "      width: 32px;\n",
              "    }\n",
              "\n",
              "    .colab-df-convert:hover {\n",
              "      background-color: #E2EBFA;\n",
              "      box-shadow: 0px 1px 2px rgba(60, 64, 67, 0.3), 0px 1px 3px 1px rgba(60, 64, 67, 0.15);\n",
              "      fill: #174EA6;\n",
              "    }\n",
              "\n",
              "    [theme=dark] .colab-df-convert {\n",
              "      background-color: #3B4455;\n",
              "      fill: #D2E3FC;\n",
              "    }\n",
              "\n",
              "    [theme=dark] .colab-df-convert:hover {\n",
              "      background-color: #434B5C;\n",
              "      box-shadow: 0px 1px 3px 1px rgba(0, 0, 0, 0.15);\n",
              "      filter: drop-shadow(0px 1px 2px rgba(0, 0, 0, 0.3));\n",
              "      fill: #FFFFFF;\n",
              "    }\n",
              "  </style>\n",
              "\n",
              "      <script>\n",
              "        const buttonEl =\n",
              "          document.querySelector('#df-80e90d0d-f10a-44e7-b89e-5b134d3bc2e6 button.colab-df-convert');\n",
              "        buttonEl.style.display =\n",
              "          google.colab.kernel.accessAllowed ? 'block' : 'none';\n",
              "\n",
              "        async function convertToInteractive(key) {\n",
              "          const element = document.querySelector('#df-80e90d0d-f10a-44e7-b89e-5b134d3bc2e6');\n",
              "          const dataTable =\n",
              "            await google.colab.kernel.invokeFunction('convertToInteractive',\n",
              "                                                     [key], {});\n",
              "          if (!dataTable) return;\n",
              "\n",
              "          const docLinkHtml = 'Like what you see? Visit the ' +\n",
              "            '<a target=\"_blank\" href=https://colab.research.google.com/notebooks/data_table.ipynb>data table notebook</a>'\n",
              "            + ' to learn more about interactive tables.';\n",
              "          element.innerHTML = '';\n",
              "          dataTable['output_type'] = 'display_data';\n",
              "          await google.colab.output.renderOutput(dataTable, element);\n",
              "          const docLink = document.createElement('div');\n",
              "          docLink.innerHTML = docLinkHtml;\n",
              "          element.appendChild(docLink);\n",
              "        }\n",
              "      </script>\n",
              "    </div>\n",
              "  </div>\n",
              "  "
            ]
          },
          "metadata": {},
          "execution_count": 67
        }
      ]
    },
    {
      "cell_type": "code",
      "source": [
        "Y_hat[:5]"
      ],
      "metadata": {
        "colab": {
          "base_uri": "https://localhost:8080/"
        },
        "id": "Uc4qCzMDqH5t",
        "outputId": "10ffe72c-049b-4c05-d308-63ea9036ac15"
      },
      "execution_count": 68,
      "outputs": [
        {
          "output_type": "execute_result",
          "data": {
            "text/plain": [
              "array([13699.11161184, 13699.11161184, 19051.65470233, 10620.36193015,\n",
              "       15521.31420211])"
            ]
          },
          "metadata": {},
          "execution_count": 68
        }
      ]
    },
    {
      "cell_type": "code",
      "source": [
        "plt.figure(figsize=(width, height))\n",
        "\n",
        "\n",
        "ax1 = sns.distplot(df['price'], hist=False, color=\"r\", label=\"Actual Value\")\n",
        "sns.distplot(Y_hat, hist=False, color=\"b\", label=\"Fitted Values\" , ax=ax1)\n",
        "\n",
        "\n",
        "plt.title('Actual vs Fitted Values for Price')\n",
        "plt.xlabel('Price (in dollars)')\n",
        "plt.ylabel('Proportion of Cars')\n",
        "\n",
        "plt.show()\n",
        "plt.close()"
      ],
      "metadata": {
        "colab": {
          "base_uri": "https://localhost:8080/",
          "height": 715
        },
        "id": "Mrpl02EteM3E",
        "outputId": "eb1fc66c-5784-4c36-d4e4-73b80298dedf"
      },
      "execution_count": 69,
      "outputs": [
        {
          "output_type": "stream",
          "name": "stderr",
          "text": [
            "/usr/local/lib/python3.7/dist-packages/seaborn/distributions.py:2619: FutureWarning: `distplot` is a deprecated function and will be removed in a future version. Please adapt your code to use either `displot` (a figure-level function with similar flexibility) or `kdeplot` (an axes-level function for kernel density plots).\n",
            "  warnings.warn(msg, FutureWarning)\n",
            "/usr/local/lib/python3.7/dist-packages/seaborn/distributions.py:2619: FutureWarning: `distplot` is a deprecated function and will be removed in a future version. Please adapt your code to use either `displot` (a figure-level function with similar flexibility) or `kdeplot` (an axes-level function for kernel density plots).\n",
            "  warnings.warn(msg, FutureWarning)\n"
          ]
        },
        {
          "output_type": "display_data",
          "data": {
            "text/plain": [
              "<Figure size 864x720 with 1 Axes>"
            ],
            "image/png": "[encoded data removed]"
          },
          "metadata": {
            "needs_background": "light"
          }
        }
      ]
    },
    {
      "cell_type": "code",
      "source": [
        "# Podemos ver que los valores ajustados están razonablemente cerca de los valores reales, ya que las dos distribuciones se superponen un poco. Sin embargo, definitivamente hay algo de espacio para mejorar."
      ],
      "metadata": {
        "id": "eKAfRH-veMzc"
      },
      "execution_count": null,
      "outputs": []
    },
    {
      "cell_type": "code",
      "source": [],
      "metadata": {
        "id": "__AAjoNleMw-"
      },
      "execution_count": null,
      "outputs": []
    },
    {
      "cell_type": "markdown",
      "source": [
        "\n",
        "La regresión polinomial es un caso particular del modelo de regresión lineal general o de los modelos de regresión lineal múltiple.\n",
        "\n",
        "Obtenemos relaciones no lineales elevando al cuadrado o estableciendo términos de orden superior de las variables predictoras.\n",
        "\n",
        "Hay diferentes órdenes de regresión polinomial:"
      ],
      "metadata": {
        "id": "m8xJTZ8ZrBcC"
      }
    },
    {
      "cell_type": "code",
      "source": [],
      "metadata": {
        "id": "H3mxXt5YeMtx"
      },
      "execution_count": null,
      "outputs": []
    },
    {
      "cell_type": "markdown",
      "source": [
        "\n",
        "Vimos anteriormente que un modelo lineal no proporcionaba el mejor ajuste cuando se utilizaba el mpg en carretera como variable de predicción. Veamos si podemos intentar ajustar un modelo polinomial a los datos.\n",
        "\n",
        "Usaremos la siguiente función para graficar los datos:"
      ],
      "metadata": {
        "id": "ecvtVYbbrGsU"
      }
    },
    {
      "cell_type": "code",
      "source": [
        "def PlotPolly(model, independent_variable, dependent_variabble, Name):\n",
        "    x_new = np.linspace(15, 55, 100)\n",
        "    y_new = model(x_new)\n",
        "\n",
        "    plt.plot(independent_variable, dependent_variabble, '.', x_new, y_new, '-')\n",
        "    plt.title('Polynomial Fit with Matplotlib for Price ~ Length')\n",
        "    ax = plt.gca()\n",
        "    ax.set_facecolor((0.898, 0.898, 0.898))\n",
        "    fig = plt.gcf()\n",
        "    plt.xlabel(Name)\n",
        "    plt.ylabel('Price of Cars')\n",
        "\n",
        "    plt.show()\n",
        "    plt.close()"
      ],
      "metadata": {
        "id": "GvdLKrWOeMqz"
      },
      "execution_count": 70,
      "outputs": []
    },
    {
      "cell_type": "code",
      "source": [
        "# Pongamos las variables\n",
        "x = df['highway-mpg']\n",
        "y = df['price']"
      ],
      "metadata": {
        "id": "2cLiJ1fAeMn7"
      },
      "execution_count": 71,
      "outputs": []
    },
    {
      "cell_type": "code",
      "source": [],
      "metadata": {
        "id": "BlyzkJ8_rIBq"
      },
      "execution_count": null,
      "outputs": []
    },
    {
      "cell_type": "markdown",
      "source": [
        "Ajustemos el polinomio usando la función polyfit, luego usemos la función poly1d para mostrar la función polinomial."
      ],
      "metadata": {
        "id": "mVbtThforbqv"
      }
    },
    {
      "cell_type": "code",
      "source": [
        "f = np.polyfit(x, y, 3)\n",
        "p = np.poly1d(f)\n",
        "print(p)"
      ],
      "metadata": {
        "colab": {
          "base_uri": "https://localhost:8080/"
        },
        "id": "_1C8vXXTrJUL",
        "outputId": "7536fc86-2ac8-4c5a-929e-e8555a658794"
      },
      "execution_count": 72,
      "outputs": [
        {
          "output_type": "stream",
          "name": "stdout",
          "text": [
            "        3         2\n",
            "-1.557 x + 204.8 x - 8965 x + 1.379e+05\n"
          ]
        }
      ]
    },
    {
      "cell_type": "code",
      "source": [
        "# Grafiquemos las funciones\n",
        "PlotPolly(p, x, y, 'highway-mpg')"
      ],
      "metadata": {
        "colab": {
          "base_uri": "https://localhost:8080/",
          "height": 295
        },
        "id": "KB34pwY1rJR1",
        "outputId": "f9f3226f-b3ff-4dd9-bc76-98ce74456068"
      },
      "execution_count": 73,
      "outputs": [
        {
          "output_type": "display_data",
          "data": {
            "text/plain": [
              "<Figure size 432x288 with 1 Axes>"
            ],
            "image/png": "[encoded data removed]"
          },
          "metadata": {
            "needs_background": "light"
          }
        }
      ]
    },
    {
      "cell_type": "code",
      "source": [
        "np.polyfit(x, y, 3)"
      ],
      "metadata": {
        "colab": {
          "base_uri": "https://localhost:8080/"
        },
        "id": "CRj1oHcsrJOh",
        "outputId": "3dc26c91-b9e1-4c8e-f032-2fbfac52cc5e"
      },
      "execution_count": 74,
      "outputs": [
        {
          "output_type": "execute_result",
          "data": {
            "text/plain": [
              "array([-1.55663829e+00,  2.04754306e+02, -8.96543312e+03,  1.37923594e+05])"
            ]
          },
          "metadata": {},
          "execution_count": 74
        }
      ]
    },
    {
      "cell_type": "code",
      "source": [
        "# Ya podemos ver en el gráfico que este modelo polinomial funciona mejor que el modelo lineal. Esto se debe a que la función polinomial generada \"golpea\" más puntos de datos."
      ],
      "metadata": {
        "id": "PrsQgUxArJMB"
      },
      "execution_count": null,
      "outputs": []
    },
    {
      "cell_type": "code",
      "source": [],
      "metadata": {
        "id": "J_-fpp75rJIv"
      },
      "execution_count": null,
      "outputs": []
    },
    {
      "cell_type": "markdown",
      "source": [
        "### **Pregunta #4:**\n",
        "\n",
        "¿Crear un modelo polinomial de 11 órdenes con las variables x e y de arriba?\n",
        "\n"
      ],
      "metadata": {
        "id": "HnDCc_N6r3mN"
      }
    },
    {
      "cell_type": "code",
      "source": [
        "f1 = np.polyfit(x, y, 11)\n",
        "p1 = np.poly1d(f1)\n",
        "print(p1)"
      ],
      "metadata": {
        "colab": {
          "base_uri": "https://localhost:8080/"
        },
        "id": "EIoBLjQ-rJGL",
        "outputId": "0a8f85ab-f786-43af-d5e6-382442ab4b5f"
      },
      "execution_count": 75,
      "outputs": [
        {
          "output_type": "stream",
          "name": "stdout",
          "text": [
            "            11             10             9           8         7\n",
            "-1.243e-08 x  + 4.722e-06 x  - 0.0008028 x + 0.08056 x - 5.297 x\n",
            "          6        5             4             3             2\n",
            " + 239.5 x - 7588 x + 1.684e+05 x - 2.565e+06 x + 2.551e+07 x - 1.491e+08 x + 3.879e+08\n"
          ]
        }
      ]
    },
    {
      "cell_type": "code",
      "source": [
        "PlotPolly(p1,x,y, 'Length')"
      ],
      "metadata": {
        "colab": {
          "base_uri": "https://localhost:8080/",
          "height": 295
        },
        "id": "P2bfW5HKrJDF",
        "outputId": "07ca51d1-2412-4cea-b8b6-91c41c8db725"
      },
      "execution_count": 76,
      "outputs": [
        {
          "output_type": "display_data",
          "data": {
            "text/plain": [
              "<Figure size 432x288 with 1 Axes>"
            ],
            "image/png": "[encoded data removed]"
          },
          "metadata": {
            "needs_background": "light"
          }
        }
      ]
    },
    {
      "cell_type": "code",
      "source": [],
      "metadata": {
        "id": "0kna1rzyrJAZ"
      },
      "execution_count": null,
      "outputs": []
    },
    {
      "cell_type": "markdown",
      "source": [
        "La expresión analítica para la función polinomial multivariante se complica. Por ejemplo, la expresión para un polinomio de segundo orden (grado=2) con dos variables viene dada por:\n",
        "\n",
        "Podemos realizar una transformación polinomial en múltiples características. Primero, importamos el módulo:"
      ],
      "metadata": {
        "id": "iHezKMv_sWA1"
      }
    },
    {
      "cell_type": "code",
      "source": [
        "from sklearn.preprocessing import PolynomialFeatures"
      ],
      "metadata": {
        "id": "i6pdrNTYrI9T"
      },
      "execution_count": 77,
      "outputs": []
    },
    {
      "cell_type": "code",
      "source": [
        "#Creamos un objeto PolynomialFeatures de grado 2:"
      ],
      "metadata": {
        "id": "DrVcrTg2rI6b"
      },
      "execution_count": null,
      "outputs": []
    },
    {
      "cell_type": "code",
      "source": [
        "pr=PolynomialFeatures(degree=2)\n",
        "pr"
      ],
      "metadata": {
        "colab": {
          "base_uri": "https://localhost:8080/"
        },
        "id": "Vov0OXdRrI3R",
        "outputId": "ebf04302-8336-464a-adb4-cde2ab96d6c5"
      },
      "execution_count": 78,
      "outputs": [
        {
          "output_type": "execute_result",
          "data": {
            "text/plain": [
              "PolynomialFeatures()"
            ]
          },
          "metadata": {},
          "execution_count": 78
        }
      ]
    },
    {
      "cell_type": "code",
      "source": [
        "Z_pr=pr.fit_transform(Z)"
      ],
      "metadata": {
        "id": "WOnIvdwVrI0L"
      },
      "execution_count": 79,
      "outputs": []
    },
    {
      "cell_type": "code",
      "source": [
        "# Los datos originales son de 201 muestras y 4 características."
      ],
      "metadata": {
        "id": "r434AxBIrIxP"
      },
      "execution_count": null,
      "outputs": []
    },
    {
      "cell_type": "code",
      "source": [
        "Z.shape"
      ],
      "metadata": {
        "colab": {
          "base_uri": "https://localhost:8080/"
        },
        "id": "lxOiTRwqrIuY",
        "outputId": "a2ecd58c-c1b5-4c7f-a155-f074310f3c0c"
      },
      "execution_count": 80,
      "outputs": [
        {
          "output_type": "execute_result",
          "data": {
            "text/plain": [
              "(201, 4)"
            ]
          },
          "metadata": {},
          "execution_count": 80
        }
      ]
    },
    {
      "cell_type": "code",
      "source": [
        "# después de la transformación, hay 201 muestras y 15 características\n",
        "Z_pr.shape"
      ],
      "metadata": {
        "colab": {
          "base_uri": "https://localhost:8080/"
        },
        "id": "rxOFPvyCrIrl",
        "outputId": "6a561c04-6fc1-47e9-fc11-7f04a761bade"
      },
      "execution_count": 81,
      "outputs": [
        {
          "output_type": "execute_result",
          "data": {
            "text/plain": [
              "(201, 15)"
            ]
          },
          "metadata": {},
          "execution_count": 81
        }
      ]
    },
    {
      "cell_type": "code",
      "source": [],
      "metadata": {
        "id": "p7jaX1TurIop"
      },
      "execution_count": null,
      "outputs": []
    },
    {
      "cell_type": "markdown",
      "source": [
        "### **PIPELINES**\n",
        "\n",
        "Las canalizaciones de datos simplifican los pasos para procesar los datos. Usamos el módulo Pipeline para crear un pipeline. También usamos StandardScaler como un paso en nuestra canalización."
      ],
      "metadata": {
        "id": "0hcEoINmtFRQ"
      }
    },
    {
      "cell_type": "code",
      "source": [
        "from sklearn.pipeline import Pipeline\n",
        "from sklearn.preprocessing import StandardScaler"
      ],
      "metadata": {
        "id": "E6nYjjCIrIlz"
      },
      "execution_count": 82,
      "outputs": []
    },
    {
      "cell_type": "code",
      "source": [
        "# Creamos el pipeline, creando una lista de tuplas incluyendo el nombre del modelo o estimador y su constructor correspondiente."
      ],
      "metadata": {
        "id": "ebGhmd6OrIi5"
      },
      "execution_count": null,
      "outputs": []
    },
    {
      "cell_type": "code",
      "source": [
        "Input=[('scale',StandardScaler()), ('polynomial', PolynomialFeatures(include_bias=False)), ('model',LinearRegression())]"
      ],
      "metadata": {
        "id": "GcxJ09cArIf5"
      },
      "execution_count": 85,
      "outputs": []
    },
    {
      "cell_type": "code",
      "source": [
        "# ingresamos la lista como un argumento para el constructor de pipelines"
      ],
      "metadata": {
        "id": "DX4Sxt6wrIbt"
      },
      "execution_count": null,
      "outputs": []
    },
    {
      "cell_type": "code",
      "source": [
        "pipe=Pipeline(Input)\n",
        "pipe"
      ],
      "metadata": {
        "colab": {
          "base_uri": "https://localhost:8080/"
        },
        "id": "x9gfxf5IeMkL",
        "outputId": "271a1807-9a30-4b02-fbb8-bd5887bbed5a"
      },
      "execution_count": 86,
      "outputs": [
        {
          "output_type": "execute_result",
          "data": {
            "text/plain": [
              "Pipeline(steps=[('scale', StandardScaler()),\n",
              "                ('polynomial', PolynomialFeatures(include_bias=False)),\n",
              "                ('model', LinearRegression())])"
            ]
          },
          "metadata": {},
          "execution_count": 86
        }
      ]
    },
    {
      "cell_type": "code",
      "source": [
        "#Podemos normalizar los datos, realizar una transformación y ajustar el modelo simultáneamente.\n",
        "pipe.fit(Z,y)"
      ],
      "metadata": {
        "colab": {
          "base_uri": "https://localhost:8080/"
        },
        "id": "nobwOvIkeMhd",
        "outputId": "0234b21c-89e3-4994-da46-7f996da574cc"
      },
      "execution_count": 87,
      "outputs": [
        {
          "output_type": "execute_result",
          "data": {
            "text/plain": [
              "Pipeline(steps=[('scale', StandardScaler()),\n",
              "                ('polynomial', PolynomialFeatures(include_bias=False)),\n",
              "                ('model', LinearRegression())])"
            ]
          },
          "metadata": {},
          "execution_count": 87
        }
      ]
    },
    {
      "cell_type": "code",
      "source": [
        "# y simultanemente\n",
        "ypipe=pipe.predict(Z)\n",
        "ypipe[0:4]"
      ],
      "metadata": {
        "colab": {
          "base_uri": "https://localhost:8080/"
        },
        "id": "8matVcXPt9io",
        "outputId": "05e8dc47-3c27-4b97-a097-cff45a9cf8a3"
      },
      "execution_count": 88,
      "outputs": [
        {
          "output_type": "execute_result",
          "data": {
            "text/plain": [
              "array([13102.74784201, 13102.74784201, 18225.54572197, 10390.29636555])"
            ]
          },
          "metadata": {},
          "execution_count": 88
        }
      ]
    },
    {
      "cell_type": "code",
      "source": [],
      "metadata": {
        "id": "ribe0wUDt9gC"
      },
      "execution_count": null,
      "outputs": []
    },
    {
      "cell_type": "markdown",
      "source": [
        "### **Pregunta #5:**\n",
        "\n",
        "Cree una tubería que estandarice los datos, luego realice una predicción usando un modelo de regresión lineal usando las características Z y los objetivos y"
      ],
      "metadata": {
        "id": "K54uFdfVuZKx"
      }
    },
    {
      "cell_type": "code",
      "source": [
        "Input=[('scale',StandardScaler()),('model',LinearRegression())]\n",
        "\n",
        "pipe=Pipeline(Input)\n",
        "\n",
        "pipe.fit(Z,y)\n",
        "\n",
        "ypipe=pipe.predict(Z)\n",
        "ypipe[0:10]"
      ],
      "metadata": {
        "colab": {
          "base_uri": "https://localhost:8080/"
        },
        "id": "XzZ-dA9ft9dE",
        "outputId": "8a1b830e-f496-4526-bea9-e5f3d88cacbb"
      },
      "execution_count": 89,
      "outputs": [
        {
          "output_type": "execute_result",
          "data": {
            "text/plain": [
              "array([13699.11161184, 13699.11161184, 19051.65470233, 10620.36193015,\n",
              "       15521.31420211, 13869.66673213, 15456.16196732, 15974.00907672,\n",
              "       17612.35917161, 10722.32509097])"
            ]
          },
          "metadata": {},
          "execution_count": 89
        }
      ]
    },
    {
      "cell_type": "code",
      "source": [],
      "metadata": {
        "id": "UHBXtkx9t9aM"
      },
      "execution_count": null,
      "outputs": []
    },
    {
      "cell_type": "markdown",
      "source": [
        "\n",
        "### **Parte 4: Medidas para la evaluación dentro de la muestra**\n",
        "\n",
        "Al evaluar nuestros modelos, no solo queremos visualizar los resultados, sino que también queremos una medida cuantitativa para determinar qué tan preciso es el modelo.\n",
        "\n",
        "Dos medidas muy importantes que se utilizan a menudo en Estadística para determinar la precisión de un modelo son:\n",
        "\n",
        "R^2 / R-cuadrado\n",
        "Error cuadrático medio (MSE)\n",
        "R-cuadrado\n",
        "\n",
        "R cuadrado, también conocido como coeficiente de determinación, es una medida para indicar qué tan cerca están los datos de la línea de regresión ajustada.\n",
        "\n",
        "El valor de la R-cuadrado es el porcentaje de variación de la variable de respuesta (y) que se explica mediante un modelo lineal.\n",
        "\n",
        "Error cuadrático medio (MSE)\n",
        "\n",
        "El Error Cuadrático Medio mide el promedio de los cuadrados de los errores, es decir, la diferencia entre el valor real (y) y el valor estimado (ŷ)."
      ],
      "metadata": {
        "id": "DcF56AGYuoH8"
      }
    },
    {
      "cell_type": "code",
      "source": [],
      "metadata": {
        "id": "6Q1F_bw2t9XX"
      },
      "execution_count": null,
      "outputs": []
    },
    {
      "cell_type": "markdown",
      "source": [
        "### **Modelo 1: Regresión lineal simple**\n",
        "\n",
        "Calculemos el R^2"
      ],
      "metadata": {
        "id": "9HyOdvREuyBT"
      }
    },
    {
      "cell_type": "code",
      "source": [
        "#highway_mpg_fit\n",
        "X = df[['highway-mpg']]\n",
        "lm.fit(X, Y)\n",
        "# Find the R^2\n",
        "print('The R-square is: ', lm.score(X, Y))"
      ],
      "metadata": {
        "colab": {
          "base_uri": "https://localhost:8080/"
        },
        "id": "D5WH6Z6vt9U9",
        "outputId": "12358a71-d9ae-4251-afd3-0ce3606bd7ee"
      },
      "execution_count": 90,
      "outputs": [
        {
          "output_type": "stream",
          "name": "stdout",
          "text": [
            "The R-square is:  0.4965911884339176\n"
          ]
        }
      ]
    },
    {
      "cell_type": "code",
      "source": [
        "# Podemos decir que ~49,659% de la variación del precio se explica por este modelo lineal simple \"horsepower_fit\".\n",
        "\n",
        "# Calculemos el MSE\n",
        "\n",
        "# Podemos predecir la salida, es decir, \"yhat\" usando el método de predicción, donde X es la variable de entrada:"
      ],
      "metadata": {
        "id": "wO_1ZjW0t9Ro"
      },
      "execution_count": null,
      "outputs": []
    },
    {
      "cell_type": "code",
      "source": [
        "Yhat=lm.predict(X)\n",
        "print('The output of the first four predicted value is: ', Yhat[0:4])"
      ],
      "metadata": {
        "colab": {
          "base_uri": "https://localhost:8080/"
        },
        "id": "Vgp263Ctt9O-",
        "outputId": "ed59d381-7d5d-4264-b2bb-e9f2ae803410"
      },
      "execution_count": 91,
      "outputs": [
        {
          "output_type": "stream",
          "name": "stdout",
          "text": [
            "The output of the first four predicted value is:  [[16236.50464347]\n",
            " [16236.50464347]\n",
            " [17058.23802179]\n",
            " [13771.3045085 ]]\n"
          ]
        }
      ]
    },
    {
      "cell_type": "code",
      "source": [
        "# Importemos la función mean_squared_error de las métricas del módulo."
      ],
      "metadata": {
        "id": "_bGnatq3t9L2"
      },
      "execution_count": null,
      "outputs": []
    },
    {
      "cell_type": "code",
      "source": [
        "from sklearn.metrics import mean_squared_error"
      ],
      "metadata": {
        "id": "C49t5y67vLFh"
      },
      "execution_count": 92,
      "outputs": []
    },
    {
      "cell_type": "code",
      "source": [
        "# comparamos los resultados previstos con los resultados reales"
      ],
      "metadata": {
        "id": "vQ6Tz0m0vLAZ"
      },
      "execution_count": null,
      "outputs": []
    },
    {
      "cell_type": "code",
      "source": [
        "mse = mean_squared_error(df['price'], Yhat)\n",
        "print('The mean square error of price and predicted value is: ', mse)"
      ],
      "metadata": {
        "colab": {
          "base_uri": "https://localhost:8080/"
        },
        "id": "KoehrNj2vK9p",
        "outputId": "5b857470-8147-4d2c-8972-49dc75541651"
      },
      "execution_count": 93,
      "outputs": [
        {
          "output_type": "stream",
          "name": "stdout",
          "text": [
            "The mean square error of price and predicted value is:  31635042.944639888\n"
          ]
        }
      ]
    },
    {
      "cell_type": "code",
      "source": [],
      "metadata": {
        "id": "H08opXmevK6p"
      },
      "execution_count": null,
      "outputs": []
    },
    {
      "cell_type": "markdown",
      "source": [
        "### **Modelo 2: Regresión Lineal Múltiple**\n",
        "\n",
        "Calculemos el R^2"
      ],
      "metadata": {
        "id": "FRANg5_TvoqU"
      }
    },
    {
      "cell_type": "code",
      "source": [
        "# fit the model \n",
        "lm.fit(Z, df['price'])\n",
        "# Find the R^2\n",
        "print('The R-square is: ', lm.score(Z, df['price']))"
      ],
      "metadata": {
        "colab": {
          "base_uri": "https://localhost:8080/"
        },
        "id": "4XurkLQGvK39",
        "outputId": "27f71563-3aa8-434e-a87d-138ba079e386"
      },
      "execution_count": 94,
      "outputs": [
        {
          "output_type": "stream",
          "name": "stdout",
          "text": [
            "The R-square is:  0.8093562806577457\n"
          ]
        }
      ]
    },
    {
      "cell_type": "code",
      "source": [],
      "metadata": {
        "id": "Zr0WXArLvK1F"
      },
      "execution_count": null,
      "outputs": []
    },
    {
      "cell_type": "markdown",
      "source": [
        "\n",
        "Podemos decir que ~80.896 % de la variación del precio se explica por esta regresión lineal múltiple \"multi_fit\".\n",
        "\n",
        "Calculemos el MSE\n",
        "\n",
        "producimos una predicción"
      ],
      "metadata": {
        "id": "V7nQYNsLv4HP"
      }
    },
    {
      "cell_type": "code",
      "source": [
        "Y_predict_multifit = lm.predict(Z)"
      ],
      "metadata": {
        "id": "vPLEDMfcvyH3"
      },
      "execution_count": 95,
      "outputs": []
    },
    {
      "cell_type": "code",
      "source": [],
      "metadata": {
        "id": "n6djElDzvyFj"
      },
      "execution_count": null,
      "outputs": []
    },
    {
      "cell_type": "markdown",
      "source": [
        "\n",
        "comparamos los resultados previstos con los resultados reales"
      ],
      "metadata": {
        "id": "EUayFWNQwBcj"
      }
    },
    {
      "cell_type": "code",
      "source": [
        "print('El error cuadrático medio del precio y el valor predicho usando multifit es: ', \\\n",
        "      mean_squared_error(df['price'], Y_predict_multifit))"
      ],
      "metadata": {
        "colab": {
          "base_uri": "https://localhost:8080/"
        },
        "id": "1v6f2dD7vyCM",
        "outputId": "4d7dc02c-8ca9-45c0-bc98-db40148dfafd"
      },
      "execution_count": 97,
      "outputs": [
        {
          "output_type": "stream",
          "name": "stdout",
          "text": [
            "El error cuadrático medio del precio y el valor predicho usando multifit es:  11980366.87072649\n"
          ]
        }
      ]
    },
    {
      "cell_type": "code",
      "source": [],
      "metadata": {
        "id": "SOoGzdD4vx_Y"
      },
      "execution_count": null,
      "outputs": []
    },
    {
      "cell_type": "markdown",
      "source": [
        "\n",
        "### **Modelo 3: Ajuste polinomial**\n",
        "Calculemos el R^2\n",
        "\n",
        "importemos la función r2_score de las métricas del módulo ya que estamos usando una función diferente"
      ],
      "metadata": {
        "id": "9hpsBoKfwVad"
      }
    },
    {
      "cell_type": "code",
      "source": [
        "from sklearn.metrics import r2_score"
      ],
      "metadata": {
        "id": "3wyOP255vx8b"
      },
      "execution_count": 98,
      "outputs": []
    },
    {
      "cell_type": "code",
      "source": [
        "# Aplicamos la función para obtener el valor de r^2"
      ],
      "metadata": {
        "id": "zy8pQ_g-vx4B"
      },
      "execution_count": null,
      "outputs": []
    },
    {
      "cell_type": "code",
      "source": [
        "r_squared = r2_score(y, p(x))\n",
        "print('The R-square value is: ', r_squared)"
      ],
      "metadata": {
        "colab": {
          "base_uri": "https://localhost:8080/"
        },
        "id": "3WDsQyWUvKyX",
        "outputId": "1d3d3730-b043-4c0f-d992-0b497791e1c9"
      },
      "execution_count": 99,
      "outputs": [
        {
          "output_type": "stream",
          "name": "stdout",
          "text": [
            "The R-square value is:  0.674194666390652\n"
          ]
        }
      ]
    },
    {
      "cell_type": "code",
      "source": [
        "# Podemos decir que ~67.419 % de la variación del precio se explica por este ajuste polinomial"
      ],
      "metadata": {
        "id": "dIbPw8LQvKvb"
      },
      "execution_count": null,
      "outputs": []
    },
    {
      "cell_type": "code",
      "source": [],
      "metadata": {
        "id": "VYwIemX-wkWx"
      },
      "execution_count": null,
      "outputs": []
    },
    {
      "cell_type": "markdown",
      "source": [
        "### **MSE**\n",
        "También podemos calcular el MSE:"
      ],
      "metadata": {
        "id": "Oy8tO709xFek"
      }
    },
    {
      "cell_type": "code",
      "source": [
        "mean_squared_error(df['price'], p(x))"
      ],
      "metadata": {
        "colab": {
          "base_uri": "https://localhost:8080/"
        },
        "id": "NuFQy7viwkUJ",
        "outputId": "614549b1-7fd7-4b44-b5c7-8b9729dd0b02"
      },
      "execution_count": 100,
      "outputs": [
        {
          "output_type": "execute_result",
          "data": {
            "text/plain": [
              "20474146.426361218"
            ]
          },
          "metadata": {},
          "execution_count": 100
        }
      ]
    },
    {
      "cell_type": "code",
      "source": [
        "p(x)"
      ],
      "metadata": {
        "colab": {
          "base_uri": "https://localhost:8080/"
        },
        "id": "KZ7WxBJYwkQx",
        "outputId": "becad1b3-d72e-42fc-c9dc-0badee2fdfc8"
      },
      "execution_count": 101,
      "outputs": [
        {
          "output_type": "execute_result",
          "data": {
            "text/plain": [
              "array([14483.47732606, 14483.47732606, 15876.76908652, 11210.24198667,\n",
              "       23210.06482402, 17436.73388684, 17436.73388684, 17436.73388684,\n",
              "       28063.54752614, 12159.55360585, 12159.55360585, 13247.51877574,\n",
              "       13247.51877574, 17436.73388684, 23210.06482402, 23210.06482402,\n",
              "       28063.54752614,  6162.84640189,  7237.04153267,  7237.04153267,\n",
              "        7247.75722475,  7486.4972933 , 11210.24198667,  7486.4972933 ,\n",
              "        7486.4972933 ,  7486.4972933 , 11210.24198667, 11210.24198667,\n",
              "       19172.71155671,  5739.27108586,  7486.4972933 ,  7233.78149649,\n",
              "        8612.73442281,  8612.73442281,  8612.73442281,  8612.73442281,\n",
              "        9100.83013627,  9100.83013627,  9100.83013627,  9100.83013627,\n",
              "       13247.51877574, 10390.24408849, 12159.55360585, 12159.55360585,\n",
              "       30819.68698954, 30819.68698954, 37037.46128959, 10390.24408849,\n",
              "        7486.4972933 ,  7486.4972933 ,  7486.4972933 ,  7486.4972933 ,\n",
              "       21094.04192587, 21094.04192587, 21094.04192587, 21094.04192587,\n",
              "        9690.22008159,  9690.22008159,  9690.22008159,  9690.22008159,\n",
              "        7233.78149649,  9690.22008159, 14483.47732606,  7364.77529344,\n",
              "       17436.73388684, 17436.73388684, 17436.73388684, 17436.73388684,\n",
              "       33807.87830079, 33807.87830079, 40517.77578567, 40517.77578567,\n",
              "       19172.71155671,  7247.75722475,  7486.4972933 ,  7486.4972933 ,\n",
              "       11210.24198667, 11210.24198667,  9690.22008159, 19172.71155671,\n",
              "       19172.71155671, 19172.71155671,  9690.22008159,  9690.22008159,\n",
              "       11210.24198667, 11210.24198667,  7662.81437645,  6957.91749442,\n",
              "        7662.81437645,  7662.81437645,  7662.81437645,  7662.81437645,\n",
              "        7662.81437645,  7662.81437645,  7662.81437645,  7662.81437645,\n",
              "        8612.73442281,  8612.73442281, 23210.06482402, 23210.06482402,\n",
              "       17436.73388684, 17436.73388684, 21094.04192587, 17436.73388684,\n",
              "       19172.71155671,  9100.83013627, 19172.71155671, 17436.73388684,\n",
              "       19172.71155671,  9100.83013627, 19172.71155671, 17436.73388684,\n",
              "       19172.71155671,  9100.83013627, 19172.71155671,  7247.75722475,\n",
              "       11210.24198667,  7486.4972933 ,  7486.4972933 ,  7486.4972933 ,\n",
              "       11210.24198667, 19172.71155671, 14483.47732606, 17436.73388684,\n",
              "       17436.73388684, 17436.73388684, 10390.24408849, 10390.24408849,\n",
              "       13247.51877574, 13247.51877574, 13247.51877574, 13247.51877574,\n",
              "       15876.76908652, 15876.76908652,  7903.06637261, 10390.24408849,\n",
              "       10390.24408849,  7662.81437645,  9100.83013627,  9690.22008159,\n",
              "       17436.73388684, 12159.55360585,  9690.22008159, 10390.24408849,\n",
              "       12159.55360585, 21094.04192587,  7364.77529344,  7486.4972933 ,\n",
              "        7486.4972933 ,  7662.81437645,  9690.22008159,  9690.22008159,\n",
              "        7662.81437645,  7662.81437645,  7903.06637261,  7235.64272756,\n",
              "        7235.64272756,  8612.73442281,  8612.73442281,  8612.73442281,\n",
              "        8612.73442281, 12159.55360585, 12159.55360585, 11210.24198667,\n",
              "       11210.24198667, 11210.24198667, 11210.24198667, 11210.24198667,\n",
              "       11210.24198667,  8612.73442281,  9100.83013627,  9690.22008159,\n",
              "        9690.22008159,  9690.22008159, 19172.71155671, 19172.71155671,\n",
              "       19172.71155671, 19172.71155671,  7256.83793074,  8612.73442281,\n",
              "        7256.83793074,  8612.73442281,  8612.73442281,  7233.78149649,\n",
              "        9690.22008159, 12159.55360585, 12159.55360585, 19172.71155671,\n",
              "        7486.4972933 , 10390.24408849, 13247.51877574, 13247.51877574,\n",
              "       13247.51877574, 13247.51877574, 23210.06482402, 23210.06482402,\n",
              "       13247.51877574, 17436.73388684, 21094.04192587, 14483.47732606,\n",
              "       17436.73388684])"
            ]
          },
          "metadata": {},
          "execution_count": 101
        }
      ]
    },
    {
      "cell_type": "code",
      "source": [],
      "metadata": {
        "id": "RUgbcg70wkOK"
      },
      "execution_count": null,
      "outputs": []
    },
    {
      "cell_type": "markdown",
      "source": [
        "### **Part 5: Prediction and Decision Making**"
      ],
      "metadata": {
        "id": "0lh6-Iv3xSPq"
      }
    },
    {
      "cell_type": "code",
      "source": [],
      "metadata": {
        "id": "VC_Tm2sHwkLC"
      },
      "execution_count": null,
      "outputs": []
    },
    {
      "cell_type": "markdown",
      "source": [
        "\n",
        "### **Predicción**\n",
        "\n",
        "En la sección anterior, entrenamos el modelo usando el método de ajuste. Ahora usaremos el método predict para producir una predicción. Permite importar pyplot para trazar; también usaremos algunas funciones de numpy."
      ],
      "metadata": {
        "id": "A0EnnZAdxhHH"
      }
    },
    {
      "cell_type": "code",
      "source": [
        "import matplotlib.pyplot as plt\n",
        "import numpy as np\n",
        "\n",
        "%matplotlib inline "
      ],
      "metadata": {
        "id": "B4g6iFb8wkIG"
      },
      "execution_count": 102,
      "outputs": []
    },
    {
      "cell_type": "code",
      "source": [
        "# Creaamos una nueva entrada\n",
        "new_input=np.arange(1, 100, 1).reshape(-1, 1)"
      ],
      "metadata": {
        "id": "HxffQECaxnZf"
      },
      "execution_count": 103,
      "outputs": []
    },
    {
      "cell_type": "code",
      "source": [
        "new_input"
      ],
      "metadata": {
        "colab": {
          "base_uri": "https://localhost:8080/"
        },
        "id": "Lvx_9D_ZxnWJ",
        "outputId": "c3aefe67-da30-4c53-a487-5999cb2406ee"
      },
      "execution_count": 104,
      "outputs": [
        {
          "output_type": "execute_result",
          "data": {
            "text/plain": [
              "array([[ 1],\n",
              "       [ 2],\n",
              "       [ 3],\n",
              "       [ 4],\n",
              "       [ 5],\n",
              "       [ 6],\n",
              "       [ 7],\n",
              "       [ 8],\n",
              "       [ 9],\n",
              "       [10],\n",
              "       [11],\n",
              "       [12],\n",
              "       [13],\n",
              "       [14],\n",
              "       [15],\n",
              "       [16],\n",
              "       [17],\n",
              "       [18],\n",
              "       [19],\n",
              "       [20],\n",
              "       [21],\n",
              "       [22],\n",
              "       [23],\n",
              "       [24],\n",
              "       [25],\n",
              "       [26],\n",
              "       [27],\n",
              "       [28],\n",
              "       [29],\n",
              "       [30],\n",
              "       [31],\n",
              "       [32],\n",
              "       [33],\n",
              "       [34],\n",
              "       [35],\n",
              "       [36],\n",
              "       [37],\n",
              "       [38],\n",
              "       [39],\n",
              "       [40],\n",
              "       [41],\n",
              "       [42],\n",
              "       [43],\n",
              "       [44],\n",
              "       [45],\n",
              "       [46],\n",
              "       [47],\n",
              "       [48],\n",
              "       [49],\n",
              "       [50],\n",
              "       [51],\n",
              "       [52],\n",
              "       [53],\n",
              "       [54],\n",
              "       [55],\n",
              "       [56],\n",
              "       [57],\n",
              "       [58],\n",
              "       [59],\n",
              "       [60],\n",
              "       [61],\n",
              "       [62],\n",
              "       [63],\n",
              "       [64],\n",
              "       [65],\n",
              "       [66],\n",
              "       [67],\n",
              "       [68],\n",
              "       [69],\n",
              "       [70],\n",
              "       [71],\n",
              "       [72],\n",
              "       [73],\n",
              "       [74],\n",
              "       [75],\n",
              "       [76],\n",
              "       [77],\n",
              "       [78],\n",
              "       [79],\n",
              "       [80],\n",
              "       [81],\n",
              "       [82],\n",
              "       [83],\n",
              "       [84],\n",
              "       [85],\n",
              "       [86],\n",
              "       [87],\n",
              "       [88],\n",
              "       [89],\n",
              "       [90],\n",
              "       [91],\n",
              "       [92],\n",
              "       [93],\n",
              "       [94],\n",
              "       [95],\n",
              "       [96],\n",
              "       [97],\n",
              "       [98],\n",
              "       [99]])"
            ]
          },
          "metadata": {},
          "execution_count": 104
        }
      ]
    },
    {
      "cell_type": "code",
      "source": [],
      "metadata": {
        "id": "FmTwv7ZcxnTW"
      },
      "execution_count": null,
      "outputs": []
    },
    {
      "cell_type": "markdown",
      "source": [
        "### **Ajuste del modelo**"
      ],
      "metadata": {
        "id": "oi0MdJ8Tx00r"
      }
    },
    {
      "cell_type": "code",
      "source": [
        "lm.fit(X, Y)\n",
        "lm"
      ],
      "metadata": {
        "colab": {
          "base_uri": "https://localhost:8080/"
        },
        "id": "qn5Y4sGVxnRV",
        "outputId": "9029f060-7a20-4d6e-ac32-9d36e3f50bc7"
      },
      "execution_count": 105,
      "outputs": [
        {
          "output_type": "execute_result",
          "data": {
            "text/plain": [
              "LinearRegression()"
            ]
          },
          "metadata": {},
          "execution_count": 105
        }
      ]
    },
    {
      "cell_type": "code",
      "source": [
        "# Generamos la prediccion\n",
        "yhat=lm.predict(new_input)\n",
        "yhat[0:5]"
      ],
      "metadata": {
        "colab": {
          "base_uri": "https://localhost:8080/"
        },
        "id": "DFK13ttexnOF",
        "outputId": "432c01f9-8cbc-4a53-aef3-eef79983abc7"
      },
      "execution_count": 106,
      "outputs": [
        {
          "output_type": "stream",
          "name": "stderr",
          "text": [
            "/usr/local/lib/python3.7/dist-packages/sklearn/base.py:451: UserWarning: X does not have valid feature names, but LinearRegression was fitted with feature names\n",
            "  \"X does not have valid feature names, but\"\n"
          ]
        },
        {
          "output_type": "execute_result",
          "data": {
            "text/plain": [
              "array([[37601.57247984],\n",
              "       [36779.83910151],\n",
              "       [35958.10572319],\n",
              "       [35136.37234487],\n",
              "       [34314.63896655]])"
            ]
          },
          "metadata": {},
          "execution_count": 106
        }
      ]
    },
    {
      "cell_type": "code",
      "source": [
        "# Podemos graficar los datos\n",
        "plt.plot(new_input, yhat)\n",
        "plt.show()"
      ],
      "metadata": {
        "colab": {
          "base_uri": "https://localhost:8080/",
          "height": 265
        },
        "id": "XVPIlzzkxnLa",
        "outputId": "d0ea1011-b82a-46ee-d538-0ed68889aabd"
      },
      "execution_count": 107,
      "outputs": [
        {
          "output_type": "display_data",
          "data": {
            "text/plain": [
              "<Figure size 432x288 with 1 Axes>"
            ],
            "image/png": "[encoded data removed]"
          },
          "metadata": {
            "needs_background": "light"
          }
        }
      ]
    },
    {
      "cell_type": "code",
      "source": [],
      "metadata": {
        "id": "qBmubQIexnIr"
      },
      "execution_count": null,
      "outputs": []
    },
    {
      "cell_type": "markdown",
      "source": [
        "### **Toma de decisiones: determinación de un buen ajuste del modelo**\n",
        "\n",
        "Ahora que hemos visualizado los diferentes modelos y generado los valores R-cuadrado y MSE para los ajustes, ¿cómo determinamos un buen ajuste del modelo?\n",
        "\n",
        "¿Cuál es un buen valor de R-cuadrado?\n",
        "Al comparar modelos, el modelo con el valor R cuadrado más alto se ajusta mejor a los datos.\n",
        "\n",
        "### **¿Qué es una buena MSE?**\n",
        "\n",
        "Al comparar modelos, el modelo con el valor MSE más pequeño se ajusta mejor a los datos.\n",
        "\n",
        "Echemos un vistazo a los valores para los diferentes modelos.\n",
        "Regresión lineal simple: uso de Highway-mpg como variable predictora del precio.\n",
        "\n",
        "R-cuadrado: 0,49659118843391759\n",
        "MSE: 3,16x10^7\n",
        "Regresión lineal múltiple: uso de caballos de fuerza, peso en orden de marcha, tamaño del motor y mpg en carretera como variables predictoras del precio.\n",
        "\n",
        "R-cuadrado: 0.80896354913783497\n",
        "MSE: 1,2x10^7\n",
        "Ajuste polinomial: Uso de Highway-mpg como variable predictora de precio.\n",
        "\n",
        "R-cuadrado: 0,6741946663906514\n",
        "MSE: 2,05 x 10^7"
      ],
      "metadata": {
        "id": "2fzTgfMAyPa9"
      }
    },
    {
      "cell_type": "code",
      "source": [],
      "metadata": {
        "id": "ha_NUagNxnDY"
      },
      "execution_count": null,
      "outputs": []
    },
    {
      "cell_type": "markdown",
      "source": [
        "### **Modelo de regresión lineal simple (SLR) frente a modelo de regresión lineal múltiple (MLR)**\n",
        "\n",
        "Por lo general, cuantas más variables tenga, mejor será su modelo para predecir, pero esto no siempre es cierto. A veces, es posible que no tenga suficientes datos, que se encuentre con problemas numéricos o que muchas de las variables no sean útiles e incluso actúen como ruido. Como resultado, siempre debe verificar el MSE y el R^2.\n",
        "\n",
        "Entonces, para poder comparar los resultados de los modelos MLR y SLR, observamos una combinación de R-squared y MSE para llegar a la mejor conclusión sobre el ajuste del modelo.\n",
        "\n",
        "MSEEl MSE de SLR es 3,16x10^7 mientras que MLR tiene un MSE de 1,2x10^7. El MSE de MLR es mucho más pequeño.\n",
        "R-cuadrado: En este caso también podemos ver que hay una gran diferencia entre el R-cuadrado de la SLR y el R-cuadrado de la MLR. El R-cuadrado de la SLR (~0,497) es muy pequeño en comparación con el R-cuadrado de la MLR (~0,809).\n",
        "Este R-cuadrado en combinación con el MSE muestra que MLR parece ser el mejor ajuste del modelo en este caso, en comparación con SLR.\n",
        "\n",
        "## **Modelo lineal simple (SLR) frente a ajuste polinomial**\n",
        "\n",
        "MSE: Podemos ver que Polynomial Fit redujo el MSE, ya que este MSE es más pequeño que el de SLR.\n",
        "R-cuadrado: El R-cuadrado para Polyfit es más grande que el R-cuadrado para SLR, por lo que Polynomial Fit también aumentó bastante el R-cuadrado.\n",
        "Dado que el ajuste polinomial resultó en un MSE más bajo y un R-cuadrado más alto, podemos concluir que este fue un modelo de mejor ajuste que la regresión lineal simple para predecir el precio con Highway-mpg como variable de predicción.\n",
        "\n",
        "## **Regresión lineal múltiple (MLR) frente a ajuste polinomial**\n",
        "\n",
        "MSE: El MSE para MLR es más pequeño que el MSE para Polynomial Fit.\n",
        "R-cuadrado: El R-cuadrado para el MLR también es mucho mayor que para el Ajuste polinomial.\n",
        "\n",
        "## **Conclusión:**\n",
        "\n",
        "Comparando estos tres modelos, concluimos que el modelo MLR es el mejor modelo para poder predecir el precio a partir de nuestro conjunto de datos. Este resultado tiene sentido, ya que tenemos 27 variables en total y sabemos que más de una de esas variables son predictores potenciales del precio final del automóvil."
      ],
      "metadata": {
        "id": "NhAVToY9y-Cc"
      }
    },
    {
      "cell_type": "code",
      "source": [],
      "metadata": {
        "id": "bn1MyJAdt9DI"
      },
      "execution_count": null,
      "outputs": []
    }
  ]
}