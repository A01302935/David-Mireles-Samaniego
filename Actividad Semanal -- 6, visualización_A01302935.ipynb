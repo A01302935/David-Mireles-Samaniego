{
  "nbformat": 4,
  "nbformat_minor": 0,
  "metadata": {
    "colab": {
      "provenance": [],
      "authorship_tag": "ABX9TyMCenZT49xw0T9fBncHLXje",
      "include_colab_link": true
    },
    "kernelspec": {
      "name": "python3",
      "display_name": "Python 3"
    },
    "language_info": {
      "name": "python"
    }
  },
  "cells": [
    {
      "cell_type": "markdown",
      "metadata": {
        "id": "view-in-github",
        "colab_type": "text"
      },
      "source": [
        "<a href=\"https://colab.research.google.com/github/A01302935/David-Mireles-Samaniego/blob/main/Actividad%20Semanal%20--%206%2C%20visualizaci%C3%B3n_A01302935.ipynb\" target=\"_parent\"><img src=\"https://colab.research.google.com/assets/colab-badge.svg\" alt=\"Open In Colab\"/></a>"
      ]
    },
    {
      "cell_type": "code",
      "source": [],
      "metadata": {
        "id": "Fi9HiPJU_q-R"
      },
      "execution_count": null,
      "outputs": []
    },
    {
      "cell_type": "markdown",
      "source": [
        "### **CIENCIA Y ANALITICA DE DATOS**\n",
        "\n",
        "Actividad Semanal -- 6, visualización\n",
        "\n",
        "David Mireles Samaniego A01302935\n",
        "\n",
        "Martes 1o de Noviembre de 2022"
      ],
      "metadata": {
        "id": "vp6srwpsB_oc"
      }
    },
    {
      "cell_type": "code",
      "source": [],
      "metadata": {
        "id": "z4tfGYDi_thh"
      },
      "execution_count": null,
      "outputs": []
    },
    {
      "cell_type": "code",
      "source": [
        "RA"
      ],
      "metadata": {
        "id": "0M8cAf8cFMXW"
      },
      "execution_count": null,
      "outputs": []
    },
    {
      "cell_type": "markdown",
      "source": [
        "0.- Primero se importa el primer conjunto de librerías para manejar datos, hacer cálculos y desplegar gráficos"
      ],
      "metadata": {
        "id": "rnXWDdIYCof5"
      }
    },
    {
      "cell_type": "code",
      "source": [
        "# Primer conjunto de librerías para manejar datos, hacer cálculos y desplegar gráficos\n",
        "import numpy as np\n",
        "import pandas as pd\n",
        "import matplotlib.pyplot as plot \n",
        "import seaborn as sns   # para un mejor despliegue de los gráficos"
      ],
      "metadata": {
        "id": "REK3XO5T_tel"
      },
      "execution_count": 88,
      "outputs": []
    },
    {
      "cell_type": "code",
      "source": [],
      "metadata": {
        "id": "zWebhKHl_tbf"
      },
      "execution_count": null,
      "outputs": []
    },
    {
      "cell_type": "markdown",
      "source": [
        "1.- Descarga los datosEnlaces a un sitio externo. y carga el dataset en tu libreta. Descripción aquí. \n",
        "\n",
        "Se leen los datos del archivo default of credit card clients.csv que se subió al directorio de trabajo, y se verifica que estén disponibles en un DataFrame de Pandas"
      ],
      "metadata": {
        "id": "1Z0dw0mtCUKT"
      }
    },
    {
      "cell_type": "code",
      "source": [
        "# Leer datos del archivo y comprobar contenido\n",
        "datos = pd.read_csv('https://raw.githubusercontent.com/PosgradoMNA/Actividades_Aprendizaje-/main/default%20of%20credit%20card%20clients.csv', sep=',')\n",
        "datos.head()"
      ],
      "metadata": {
        "colab": {
          "base_uri": "https://localhost:8080/",
          "height": 235
        },
        "id": "86t0Rvlg_tYa",
        "outputId": "5eb1dfc9-af46-4534-8905-3712f73089c9"
      },
      "execution_count": 89,
      "outputs": [
        {
          "output_type": "execute_result",
          "data": {
            "text/plain": [
              "   ID      X1   X2   X3   X4    X5   X6   X7   X8   X9  ...      X15      X16  \\\n",
              "0   1   20000  2.0  2.0  1.0  24.0  2.0  2.0 -1.0 -1.0  ...      0.0      0.0   \n",
              "1   2  120000  2.0  2.0  2.0  26.0 -1.0  2.0  0.0  0.0  ...   3272.0   3455.0   \n",
              "2   3   90000  2.0  2.0  2.0  34.0  0.0  0.0  0.0  0.0  ...  14331.0  14948.0   \n",
              "3   4   50000  2.0  2.0  1.0  37.0  0.0  0.0  0.0  0.0  ...  28314.0  28959.0   \n",
              "4   5   50000  1.0  2.0  1.0  57.0 -1.0  0.0 -1.0  0.0  ...  20940.0  19146.0   \n",
              "\n",
              "       X17     X18      X19      X20     X21     X22     X23    Y  \n",
              "0      0.0     0.0    689.0      0.0     0.0     0.0     0.0  1.0  \n",
              "1   3261.0     0.0   1000.0   1000.0  1000.0     0.0  2000.0  1.0  \n",
              "2  15549.0  1518.0   1500.0   1000.0  1000.0  1000.0  5000.0  0.0  \n",
              "3  29547.0  2000.0   2019.0   1200.0  1100.0  1069.0  1000.0  0.0  \n",
              "4  19131.0  2000.0  36681.0  10000.0  9000.0   689.0   679.0  0.0  \n",
              "\n",
              "[5 rows x 25 columns]"
            ],
            "text/html": [
              "\n",
              "  <div id=\"df-eedc01f7-f40a-48fd-95b2-3a978c6c844f\">\n",
              "    <div class=\"colab-df-container\">\n",
              "      <div>\n",
              "<style scoped>\n",
              "    .dataframe tbody tr th:only-of-type {\n",
              "        vertical-align: middle;\n",
              "    }\n",
              "\n",
              "    .dataframe tbody tr th {\n",
              "        vertical-align: top;\n",
              "    }\n",
              "\n",
              "    .dataframe thead th {\n",
              "        text-align: right;\n",
              "    }\n",
              "</style>\n",
              "<table border=\"1\" class=\"dataframe\">\n",
              "  <thead>\n",
              "    <tr style=\"text-align: right;\">\n",
              "      <th></th>\n",
              "      <th>ID</th>\n",
              "      <th>X1</th>\n",
              "      <th>X2</th>\n",
              "      <th>X3</th>\n",
              "      <th>X4</th>\n",
              "      <th>X5</th>\n",
              "      <th>X6</th>\n",
              "      <th>X7</th>\n",
              "      <th>X8</th>\n",
              "      <th>X9</th>\n",
              "      <th>...</th>\n",
              "      <th>X15</th>\n",
              "      <th>X16</th>\n",
              "      <th>X17</th>\n",
              "      <th>X18</th>\n",
              "      <th>X19</th>\n",
              "      <th>X20</th>\n",
              "      <th>X21</th>\n",
              "      <th>X22</th>\n",
              "      <th>X23</th>\n",
              "      <th>Y</th>\n",
              "    </tr>\n",
              "  </thead>\n",
              "  <tbody>\n",
              "    <tr>\n",
              "      <th>0</th>\n",
              "      <td>1</td>\n",
              "      <td>20000</td>\n",
              "      <td>2.0</td>\n",
              "      <td>2.0</td>\n",
              "      <td>1.0</td>\n",
              "      <td>24.0</td>\n",
              "      <td>2.0</td>\n",
              "      <td>2.0</td>\n",
              "      <td>-1.0</td>\n",
              "      <td>-1.0</td>\n",
              "      <td>...</td>\n",
              "      <td>0.0</td>\n",
              "      <td>0.0</td>\n",
              "      <td>0.0</td>\n",
              "      <td>0.0</td>\n",
              "      <td>689.0</td>\n",
              "      <td>0.0</td>\n",
              "      <td>0.0</td>\n",
              "      <td>0.0</td>\n",
              "      <td>0.0</td>\n",
              "      <td>1.0</td>\n",
              "    </tr>\n",
              "    <tr>\n",
              "      <th>1</th>\n",
              "      <td>2</td>\n",
              "      <td>120000</td>\n",
              "      <td>2.0</td>\n",
              "      <td>2.0</td>\n",
              "      <td>2.0</td>\n",
              "      <td>26.0</td>\n",
              "      <td>-1.0</td>\n",
              "      <td>2.0</td>\n",
              "      <td>0.0</td>\n",
              "      <td>0.0</td>\n",
              "      <td>...</td>\n",
              "      <td>3272.0</td>\n",
              "      <td>3455.0</td>\n",
              "      <td>3261.0</td>\n",
              "      <td>0.0</td>\n",
              "      <td>1000.0</td>\n",
              "      <td>1000.0</td>\n",
              "      <td>1000.0</td>\n",
              "      <td>0.0</td>\n",
              "      <td>2000.0</td>\n",
              "      <td>1.0</td>\n",
              "    </tr>\n",
              "    <tr>\n",
              "      <th>2</th>\n",
              "      <td>3</td>\n",
              "      <td>90000</td>\n",
              "      <td>2.0</td>\n",
              "      <td>2.0</td>\n",
              "      <td>2.0</td>\n",
              "      <td>34.0</td>\n",
              "      <td>0.0</td>\n",
              "      <td>0.0</td>\n",
              "      <td>0.0</td>\n",
              "      <td>0.0</td>\n",
              "      <td>...</td>\n",
              "      <td>14331.0</td>\n",
              "      <td>14948.0</td>\n",
              "      <td>15549.0</td>\n",
              "      <td>1518.0</td>\n",
              "      <td>1500.0</td>\n",
              "      <td>1000.0</td>\n",
              "      <td>1000.0</td>\n",
              "      <td>1000.0</td>\n",
              "      <td>5000.0</td>\n",
              "      <td>0.0</td>\n",
              "    </tr>\n",
              "    <tr>\n",
              "      <th>3</th>\n",
              "      <td>4</td>\n",
              "      <td>50000</td>\n",
              "      <td>2.0</td>\n",
              "      <td>2.0</td>\n",
              "      <td>1.0</td>\n",
              "      <td>37.0</td>\n",
              "      <td>0.0</td>\n",
              "      <td>0.0</td>\n",
              "      <td>0.0</td>\n",
              "      <td>0.0</td>\n",
              "      <td>...</td>\n",
              "      <td>28314.0</td>\n",
              "      <td>28959.0</td>\n",
              "      <td>29547.0</td>\n",
              "      <td>2000.0</td>\n",
              "      <td>2019.0</td>\n",
              "      <td>1200.0</td>\n",
              "      <td>1100.0</td>\n",
              "      <td>1069.0</td>\n",
              "      <td>1000.0</td>\n",
              "      <td>0.0</td>\n",
              "    </tr>\n",
              "    <tr>\n",
              "      <th>4</th>\n",
              "      <td>5</td>\n",
              "      <td>50000</td>\n",
              "      <td>1.0</td>\n",
              "      <td>2.0</td>\n",
              "      <td>1.0</td>\n",
              "      <td>57.0</td>\n",
              "      <td>-1.0</td>\n",
              "      <td>0.0</td>\n",
              "      <td>-1.0</td>\n",
              "      <td>0.0</td>\n",
              "      <td>...</td>\n",
              "      <td>20940.0</td>\n",
              "      <td>19146.0</td>\n",
              "      <td>19131.0</td>\n",
              "      <td>2000.0</td>\n",
              "      <td>36681.0</td>\n",
              "      <td>10000.0</td>\n",
              "      <td>9000.0</td>\n",
              "      <td>689.0</td>\n",
              "      <td>679.0</td>\n",
              "      <td>0.0</td>\n",
              "    </tr>\n",
              "  </tbody>\n",
              "</table>\n",
              "<p>5 rows × 25 columns</p>\n",
              "</div>\n",
              "      <button class=\"colab-df-convert\" onclick=\"convertToInteractive('df-eedc01f7-f40a-48fd-95b2-3a978c6c844f')\"\n",
              "              title=\"Convert this dataframe to an interactive table.\"\n",
              "              style=\"display:none;\">\n",
              "        \n",
              "  <svg xmlns=\"http://www.w3.org/2000/svg\" height=\"24px\"viewBox=\"0 0 24 24\"\n",
              "       width=\"24px\">\n",
              "    <path d=\"M0 0h24v24H0V0z\" fill=\"none\"/>\n",
              "    <path d=\"M18.56 5.44l.94 2.06.94-2.06 2.06-.94-2.06-.94-.94-2.06-.94 2.06-2.06.94zm-11 1L8.5 8.5l.94-2.06 2.06-.94-2.06-.94L8.5 2.5l-.94 2.06-2.06.94zm10 10l.94 2.06.94-2.06 2.06-.94-2.06-.94-.94-2.06-.94 2.06-2.06.94z\"/><path d=\"M17.41 7.96l-1.37-1.37c-.4-.4-.92-.59-1.43-.59-.52 0-1.04.2-1.43.59L10.3 9.45l-7.72 7.72c-.78.78-.78 2.05 0 2.83L4 21.41c.39.39.9.59 1.41.59.51 0 1.02-.2 1.41-.59l7.78-7.78 2.81-2.81c.8-.78.8-2.07 0-2.86zM5.41 20L4 18.59l7.72-7.72 1.47 1.35L5.41 20z\"/>\n",
              "  </svg>\n",
              "      </button>\n",
              "      \n",
              "  <style>\n",
              "    .colab-df-container {\n",
              "      display:flex;\n",
              "      flex-wrap:wrap;\n",
              "      gap: 12px;\n",
              "    }\n",
              "\n",
              "    .colab-df-convert {\n",
              "      background-color: #E8F0FE;\n",
              "      border: none;\n",
              "      border-radius: 50%;\n",
              "      cursor: pointer;\n",
              "      display: none;\n",
              "      fill: #1967D2;\n",
              "      height: 32px;\n",
              "      padding: 0 0 0 0;\n",
              "      width: 32px;\n",
              "    }\n",
              "\n",
              "    .colab-df-convert:hover {\n",
              "      background-color: #E2EBFA;\n",
              "      box-shadow: 0px 1px 2px rgba(60, 64, 67, 0.3), 0px 1px 3px 1px rgba(60, 64, 67, 0.15);\n",
              "      fill: #174EA6;\n",
              "    }\n",
              "\n",
              "    [theme=dark] .colab-df-convert {\n",
              "      background-color: #3B4455;\n",
              "      fill: #D2E3FC;\n",
              "    }\n",
              "\n",
              "    [theme=dark] .colab-df-convert:hover {\n",
              "      background-color: #434B5C;\n",
              "      box-shadow: 0px 1px 3px 1px rgba(0, 0, 0, 0.15);\n",
              "      filter: drop-shadow(0px 1px 2px rgba(0, 0, 0, 0.3));\n",
              "      fill: #FFFFFF;\n",
              "    }\n",
              "  </style>\n",
              "\n",
              "      <script>\n",
              "        const buttonEl =\n",
              "          document.querySelector('#df-eedc01f7-f40a-48fd-95b2-3a978c6c844f button.colab-df-convert');\n",
              "        buttonEl.style.display =\n",
              "          google.colab.kernel.accessAllowed ? 'block' : 'none';\n",
              "\n",
              "        async function convertToInteractive(key) {\n",
              "          const element = document.querySelector('#df-eedc01f7-f40a-48fd-95b2-3a978c6c844f');\n",
              "          const dataTable =\n",
              "            await google.colab.kernel.invokeFunction('convertToInteractive',\n",
              "                                                     [key], {});\n",
              "          if (!dataTable) return;\n",
              "\n",
              "          const docLinkHtml = 'Like what you see? Visit the ' +\n",
              "            '<a target=\"_blank\" href=https://colab.research.google.com/notebooks/data_table.ipynb>data table notebook</a>'\n",
              "            + ' to learn more about interactive tables.';\n",
              "          element.innerHTML = '';\n",
              "          dataTable['output_type'] = 'display_data';\n",
              "          await google.colab.output.renderOutput(dataTable, element);\n",
              "          const docLink = document.createElement('div');\n",
              "          docLink.innerHTML = docLinkHtml;\n",
              "          element.appendChild(docLink);\n",
              "        }\n",
              "      </script>\n",
              "    </div>\n",
              "  </div>\n",
              "  "
            ]
          },
          "metadata": {},
          "execution_count": 89
        }
      ]
    },
    {
      "cell_type": "markdown",
      "source": [
        "2.- Obten la información del DataFrame con los métodos y propiedades: shape, columns, head(), dtypes, info(), isna()"
      ],
      "metadata": {
        "id": "pY1LVEhRFXkL"
      }
    },
    {
      "cell_type": "code",
      "source": [
        "datos.info()"
      ],
      "metadata": {
        "colab": {
          "base_uri": "https://localhost:8080/"
        },
        "id": "_Ey6Svg9_tVW",
        "outputId": "f92500d2-19ea-4071-93d4-96042e47202d"
      },
      "execution_count": 90,
      "outputs": [
        {
          "output_type": "stream",
          "name": "stdout",
          "text": [
            "<class 'pandas.core.frame.DataFrame'>\n",
            "RangeIndex: 30000 entries, 0 to 29999\n",
            "Data columns (total 25 columns):\n",
            " #   Column  Non-Null Count  Dtype  \n",
            "---  ------  --------------  -----  \n",
            " 0   ID      30000 non-null  int64  \n",
            " 1   X1      30000 non-null  int64  \n",
            " 2   X2      29999 non-null  float64\n",
            " 3   X3      29998 non-null  float64\n",
            " 4   X4      29998 non-null  float64\n",
            " 5   X5      29995 non-null  float64\n",
            " 6   X6      29997 non-null  float64\n",
            " 7   X7      29995 non-null  float64\n",
            " 8   X8      29993 non-null  float64\n",
            " 9   X9      29991 non-null  float64\n",
            " 10  X10     29984 non-null  float64\n",
            " 11  X11     29986 non-null  float64\n",
            " 12  X12     29989 non-null  float64\n",
            " 13  X13     29989 non-null  float64\n",
            " 14  X14     29987 non-null  float64\n",
            " 15  X15     29985 non-null  float64\n",
            " 16  X16     29983 non-null  float64\n",
            " 17  X17     29990 non-null  float64\n",
            " 18  X18     29992 non-null  float64\n",
            " 19  X19     29991 non-null  float64\n",
            " 20  X20     29992 non-null  float64\n",
            " 21  X21     29989 non-null  float64\n",
            " 22  X22     29989 non-null  float64\n",
            " 23  X23     29995 non-null  float64\n",
            " 24  Y       29997 non-null  float64\n",
            "dtypes: float64(23), int64(2)\n",
            "memory usage: 5.7 MB\n"
          ]
        }
      ]
    },
    {
      "cell_type": "markdown",
      "source": [
        "La primera correción en los datos es hacer la columna ID el índice del DataFrame"
      ],
      "metadata": {
        "id": "7kh1YhwjHUce"
      }
    },
    {
      "cell_type": "code",
      "source": [
        "# Primera corrección es hacer la columna ID el índice\n",
        "datos = datos.set_index('ID')\n",
        "datos.head()"
      ],
      "metadata": {
        "colab": {
          "base_uri": "https://localhost:8080/",
          "height": 267
        },
        "id": "loN7kmEa_q15",
        "outputId": "ebd88467-69f7-4be1-d2b8-293b9046f6c3"
      },
      "execution_count": 91,
      "outputs": [
        {
          "output_type": "execute_result",
          "data": {
            "text/plain": [
              "        X1   X2   X3   X4    X5   X6   X7   X8   X9  X10  ...      X15  \\\n",
              "ID                                                        ...            \n",
              "1    20000  2.0  2.0  1.0  24.0  2.0  2.0 -1.0 -1.0 -2.0  ...      0.0   \n",
              "2   120000  2.0  2.0  2.0  26.0 -1.0  2.0  0.0  0.0  0.0  ...   3272.0   \n",
              "3    90000  2.0  2.0  2.0  34.0  0.0  0.0  0.0  0.0  0.0  ...  14331.0   \n",
              "4    50000  2.0  2.0  1.0  37.0  0.0  0.0  0.0  0.0  0.0  ...  28314.0   \n",
              "5    50000  1.0  2.0  1.0  57.0 -1.0  0.0 -1.0  0.0  0.0  ...  20940.0   \n",
              "\n",
              "        X16      X17     X18      X19      X20     X21     X22     X23    Y  \n",
              "ID                                                                           \n",
              "1       0.0      0.0     0.0    689.0      0.0     0.0     0.0     0.0  1.0  \n",
              "2    3455.0   3261.0     0.0   1000.0   1000.0  1000.0     0.0  2000.0  1.0  \n",
              "3   14948.0  15549.0  1518.0   1500.0   1000.0  1000.0  1000.0  5000.0  0.0  \n",
              "4   28959.0  29547.0  2000.0   2019.0   1200.0  1100.0  1069.0  1000.0  0.0  \n",
              "5   19146.0  19131.0  2000.0  36681.0  10000.0  9000.0   689.0   679.0  0.0  \n",
              "\n",
              "[5 rows x 24 columns]"
            ],
            "text/html": [
              "\n",
              "  <div id=\"df-ba16cd5e-e992-4e62-a355-4d64c347bbf1\">\n",
              "    <div class=\"colab-df-container\">\n",
              "      <div>\n",
              "<style scoped>\n",
              "    .dataframe tbody tr th:only-of-type {\n",
              "        vertical-align: middle;\n",
              "    }\n",
              "\n",
              "    .dataframe tbody tr th {\n",
              "        vertical-align: top;\n",
              "    }\n",
              "\n",
              "    .dataframe thead th {\n",
              "        text-align: right;\n",
              "    }\n",
              "</style>\n",
              "<table border=\"1\" class=\"dataframe\">\n",
              "  <thead>\n",
              "    <tr style=\"text-align: right;\">\n",
              "      <th></th>\n",
              "      <th>X1</th>\n",
              "      <th>X2</th>\n",
              "      <th>X3</th>\n",
              "      <th>X4</th>\n",
              "      <th>X5</th>\n",
              "      <th>X6</th>\n",
              "      <th>X7</th>\n",
              "      <th>X8</th>\n",
              "      <th>X9</th>\n",
              "      <th>X10</th>\n",
              "      <th>...</th>\n",
              "      <th>X15</th>\n",
              "      <th>X16</th>\n",
              "      <th>X17</th>\n",
              "      <th>X18</th>\n",
              "      <th>X19</th>\n",
              "      <th>X20</th>\n",
              "      <th>X21</th>\n",
              "      <th>X22</th>\n",
              "      <th>X23</th>\n",
              "      <th>Y</th>\n",
              "    </tr>\n",
              "    <tr>\n",
              "      <th>ID</th>\n",
              "      <th></th>\n",
              "      <th></th>\n",
              "      <th></th>\n",
              "      <th></th>\n",
              "      <th></th>\n",
              "      <th></th>\n",
              "      <th></th>\n",
              "      <th></th>\n",
              "      <th></th>\n",
              "      <th></th>\n",
              "      <th></th>\n",
              "      <th></th>\n",
              "      <th></th>\n",
              "      <th></th>\n",
              "      <th></th>\n",
              "      <th></th>\n",
              "      <th></th>\n",
              "      <th></th>\n",
              "      <th></th>\n",
              "      <th></th>\n",
              "      <th></th>\n",
              "    </tr>\n",
              "  </thead>\n",
              "  <tbody>\n",
              "    <tr>\n",
              "      <th>1</th>\n",
              "      <td>20000</td>\n",
              "      <td>2.0</td>\n",
              "      <td>2.0</td>\n",
              "      <td>1.0</td>\n",
              "      <td>24.0</td>\n",
              "      <td>2.0</td>\n",
              "      <td>2.0</td>\n",
              "      <td>-1.0</td>\n",
              "      <td>-1.0</td>\n",
              "      <td>-2.0</td>\n",
              "      <td>...</td>\n",
              "      <td>0.0</td>\n",
              "      <td>0.0</td>\n",
              "      <td>0.0</td>\n",
              "      <td>0.0</td>\n",
              "      <td>689.0</td>\n",
              "      <td>0.0</td>\n",
              "      <td>0.0</td>\n",
              "      <td>0.0</td>\n",
              "      <td>0.0</td>\n",
              "      <td>1.0</td>\n",
              "    </tr>\n",
              "    <tr>\n",
              "      <th>2</th>\n",
              "      <td>120000</td>\n",
              "      <td>2.0</td>\n",
              "      <td>2.0</td>\n",
              "      <td>2.0</td>\n",
              "      <td>26.0</td>\n",
              "      <td>-1.0</td>\n",
              "      <td>2.0</td>\n",
              "      <td>0.0</td>\n",
              "      <td>0.0</td>\n",
              "      <td>0.0</td>\n",
              "      <td>...</td>\n",
              "      <td>3272.0</td>\n",
              "      <td>3455.0</td>\n",
              "      <td>3261.0</td>\n",
              "      <td>0.0</td>\n",
              "      <td>1000.0</td>\n",
              "      <td>1000.0</td>\n",
              "      <td>1000.0</td>\n",
              "      <td>0.0</td>\n",
              "      <td>2000.0</td>\n",
              "      <td>1.0</td>\n",
              "    </tr>\n",
              "    <tr>\n",
              "      <th>3</th>\n",
              "      <td>90000</td>\n",
              "      <td>2.0</td>\n",
              "      <td>2.0</td>\n",
              "      <td>2.0</td>\n",
              "      <td>34.0</td>\n",
              "      <td>0.0</td>\n",
              "      <td>0.0</td>\n",
              "      <td>0.0</td>\n",
              "      <td>0.0</td>\n",
              "      <td>0.0</td>\n",
              "      <td>...</td>\n",
              "      <td>14331.0</td>\n",
              "      <td>14948.0</td>\n",
              "      <td>15549.0</td>\n",
              "      <td>1518.0</td>\n",
              "      <td>1500.0</td>\n",
              "      <td>1000.0</td>\n",
              "      <td>1000.0</td>\n",
              "      <td>1000.0</td>\n",
              "      <td>5000.0</td>\n",
              "      <td>0.0</td>\n",
              "    </tr>\n",
              "    <tr>\n",
              "      <th>4</th>\n",
              "      <td>50000</td>\n",
              "      <td>2.0</td>\n",
              "      <td>2.0</td>\n",
              "      <td>1.0</td>\n",
              "      <td>37.0</td>\n",
              "      <td>0.0</td>\n",
              "      <td>0.0</td>\n",
              "      <td>0.0</td>\n",
              "      <td>0.0</td>\n",
              "      <td>0.0</td>\n",
              "      <td>...</td>\n",
              "      <td>28314.0</td>\n",
              "      <td>28959.0</td>\n",
              "      <td>29547.0</td>\n",
              "      <td>2000.0</td>\n",
              "      <td>2019.0</td>\n",
              "      <td>1200.0</td>\n",
              "      <td>1100.0</td>\n",
              "      <td>1069.0</td>\n",
              "      <td>1000.0</td>\n",
              "      <td>0.0</td>\n",
              "    </tr>\n",
              "    <tr>\n",
              "      <th>5</th>\n",
              "      <td>50000</td>\n",
              "      <td>1.0</td>\n",
              "      <td>2.0</td>\n",
              "      <td>1.0</td>\n",
              "      <td>57.0</td>\n",
              "      <td>-1.0</td>\n",
              "      <td>0.0</td>\n",
              "      <td>-1.0</td>\n",
              "      <td>0.0</td>\n",
              "      <td>0.0</td>\n",
              "      <td>...</td>\n",
              "      <td>20940.0</td>\n",
              "      <td>19146.0</td>\n",
              "      <td>19131.0</td>\n",
              "      <td>2000.0</td>\n",
              "      <td>36681.0</td>\n",
              "      <td>10000.0</td>\n",
              "      <td>9000.0</td>\n",
              "      <td>689.0</td>\n",
              "      <td>679.0</td>\n",
              "      <td>0.0</td>\n",
              "    </tr>\n",
              "  </tbody>\n",
              "</table>\n",
              "<p>5 rows × 24 columns</p>\n",
              "</div>\n",
              "      <button class=\"colab-df-convert\" onclick=\"convertToInteractive('df-ba16cd5e-e992-4e62-a355-4d64c347bbf1')\"\n",
              "              title=\"Convert this dataframe to an interactive table.\"\n",
              "              style=\"display:none;\">\n",
              "        \n",
              "  <svg xmlns=\"http://www.w3.org/2000/svg\" height=\"24px\"viewBox=\"0 0 24 24\"\n",
              "       width=\"24px\">\n",
              "    <path d=\"M0 0h24v24H0V0z\" fill=\"none\"/>\n",
              "    <path d=\"M18.56 5.44l.94 2.06.94-2.06 2.06-.94-2.06-.94-.94-2.06-.94 2.06-2.06.94zm-11 1L8.5 8.5l.94-2.06 2.06-.94-2.06-.94L8.5 2.5l-.94 2.06-2.06.94zm10 10l.94 2.06.94-2.06 2.06-.94-2.06-.94-.94-2.06-.94 2.06-2.06.94z\"/><path d=\"M17.41 7.96l-1.37-1.37c-.4-.4-.92-.59-1.43-.59-.52 0-1.04.2-1.43.59L10.3 9.45l-7.72 7.72c-.78.78-.78 2.05 0 2.83L4 21.41c.39.39.9.59 1.41.59.51 0 1.02-.2 1.41-.59l7.78-7.78 2.81-2.81c.8-.78.8-2.07 0-2.86zM5.41 20L4 18.59l7.72-7.72 1.47 1.35L5.41 20z\"/>\n",
              "  </svg>\n",
              "      </button>\n",
              "      \n",
              "  <style>\n",
              "    .colab-df-container {\n",
              "      display:flex;\n",
              "      flex-wrap:wrap;\n",
              "      gap: 12px;\n",
              "    }\n",
              "\n",
              "    .colab-df-convert {\n",
              "      background-color: #E8F0FE;\n",
              "      border: none;\n",
              "      border-radius: 50%;\n",
              "      cursor: pointer;\n",
              "      display: none;\n",
              "      fill: #1967D2;\n",
              "      height: 32px;\n",
              "      padding: 0 0 0 0;\n",
              "      width: 32px;\n",
              "    }\n",
              "\n",
              "    .colab-df-convert:hover {\n",
              "      background-color: #E2EBFA;\n",
              "      box-shadow: 0px 1px 2px rgba(60, 64, 67, 0.3), 0px 1px 3px 1px rgba(60, 64, 67, 0.15);\n",
              "      fill: #174EA6;\n",
              "    }\n",
              "\n",
              "    [theme=dark] .colab-df-convert {\n",
              "      background-color: #3B4455;\n",
              "      fill: #D2E3FC;\n",
              "    }\n",
              "\n",
              "    [theme=dark] .colab-df-convert:hover {\n",
              "      background-color: #434B5C;\n",
              "      box-shadow: 0px 1px 3px 1px rgba(0, 0, 0, 0.15);\n",
              "      filter: drop-shadow(0px 1px 2px rgba(0, 0, 0, 0.3));\n",
              "      fill: #FFFFFF;\n",
              "    }\n",
              "  </style>\n",
              "\n",
              "      <script>\n",
              "        const buttonEl =\n",
              "          document.querySelector('#df-ba16cd5e-e992-4e62-a355-4d64c347bbf1 button.colab-df-convert');\n",
              "        buttonEl.style.display =\n",
              "          google.colab.kernel.accessAllowed ? 'block' : 'none';\n",
              "\n",
              "        async function convertToInteractive(key) {\n",
              "          const element = document.querySelector('#df-ba16cd5e-e992-4e62-a355-4d64c347bbf1');\n",
              "          const dataTable =\n",
              "            await google.colab.kernel.invokeFunction('convertToInteractive',\n",
              "                                                     [key], {});\n",
              "          if (!dataTable) return;\n",
              "\n",
              "          const docLinkHtml = 'Like what you see? Visit the ' +\n",
              "            '<a target=\"_blank\" href=https://colab.research.google.com/notebooks/data_table.ipynb>data table notebook</a>'\n",
              "            + ' to learn more about interactive tables.';\n",
              "          element.innerHTML = '';\n",
              "          dataTable['output_type'] = 'display_data';\n",
              "          await google.colab.output.renderOutput(dataTable, element);\n",
              "          const docLink = document.createElement('div');\n",
              "          docLink.innerHTML = docLinkHtml;\n",
              "          element.appendChild(docLink);\n",
              "        }\n",
              "      </script>\n",
              "    </div>\n",
              "  </div>\n",
              "  "
            ]
          },
          "metadata": {},
          "execution_count": 91
        }
      ]
    },
    {
      "cell_type": "code",
      "source": [],
      "metadata": {
        "id": "RIutWxfA_qwJ"
      },
      "execution_count": null,
      "outputs": []
    },
    {
      "cell_type": "markdown",
      "source": [
        "Se prepara la ventana de desplegado de gráficos para una mejor presentación"
      ],
      "metadata": {
        "id": "5qsNWOHXHxmw"
      }
    },
    {
      "cell_type": "code",
      "source": [
        "# A continuación se presentant visualizaciones de los diferentes columnas de la base de datos\n",
        "# Configuración de la ventana de desplegado\n",
        "sns.set(rc={'figure.figsize':(20,15)})"
      ],
      "metadata": {
        "id": "49QV3FKDGQcM"
      },
      "execution_count": 92,
      "outputs": []
    },
    {
      "cell_type": "code",
      "source": [],
      "metadata": {
        "id": "oKnekuyaGQY_"
      },
      "execution_count": null,
      "outputs": []
    },
    {
      "cell_type": "markdown",
      "source": [
        "Se despliegan en un arreglo de 4 x 6 los graficos mostrando las distribuciones de todas las columnas disponibles en el conjunto de datos"
      ],
      "metadata": {
        "id": "qOx2Al9LH3NO"
      }
    },
    {
      "cell_type": "code",
      "source": [
        "# Se define una ventana de 4 x 6 para desplegar una gráfica de cada columna\n",
        "# Esta gráfica se usará como referencia para verificar que los cambios no afectaron\n",
        "# significativamente la distribución de los datos\n",
        "figura, ejes = plot.subplots(4, 6)\n",
        "for subi in range(0,24):\n",
        "  plot.subplot(4, 6, (subi + 1))\n",
        "  plot.hist(datos[datos.columns[subi]], bins=25)\n",
        "  plot.xlabel(datos.columns[subi])\n",
        "plot.show()"
      ],
      "metadata": {
        "colab": {
          "base_uri": "https://localhost:8080/",
          "height": 883
        },
        "id": "AyO3VqLBGQV6",
        "outputId": "6d91b1c6-16e6-448b-8f47-6ecdc6bff9c7"
      },
      "execution_count": 93,
      "outputs": [
        {
          "output_type": "display_data",
          "data": {
            "text/plain": [
              "<Figure size 1440x1080 with 24 Axes>"
            ],
            "image/png": "[encoded data removed]"
          },
          "metadata": {}
        }
      ]
    },
    {
      "cell_type": "code",
      "source": [],
      "metadata": {
        "id": "dWjioYMzGQSX"
      },
      "execution_count": null,
      "outputs": []
    },
    {
      "cell_type": "markdown",
      "source": [
        "Se despliegan los indicadores estadísticos de los datos"
      ],
      "metadata": {
        "id": "MCc-WeSZIB8W"
      }
    },
    {
      "cell_type": "code",
      "source": [
        "# Se despliegan los indicadores estadísticos de los datos\n",
        "datos.describe(include='all')"
      ],
      "metadata": {
        "colab": {
          "base_uri": "https://localhost:8080/",
          "height": 393
        },
        "id": "PasstRv0GQPB",
        "outputId": "ef529bce-8e42-496d-8172-a2964e2fdd06"
      },
      "execution_count": 94,
      "outputs": [
        {
          "output_type": "execute_result",
          "data": {
            "text/plain": [
              "                   X1            X2            X3            X4            X5  \\\n",
              "count    30000.000000  29999.000000  29998.000000  29998.000000  29995.000000   \n",
              "mean    167484.322667      1.603753      1.853057      1.551903     35.484214   \n",
              "std     129747.661567      0.489125      0.790320      0.521968      9.218024   \n",
              "min      10000.000000      1.000000      0.000000      0.000000     21.000000   \n",
              "25%      50000.000000      1.000000      1.000000      1.000000     28.000000   \n",
              "50%     140000.000000      2.000000      2.000000      2.000000     34.000000   \n",
              "75%     240000.000000      2.000000      2.000000      2.000000     41.000000   \n",
              "max    1000000.000000      2.000000      6.000000      3.000000     79.000000   \n",
              "\n",
              "                 X6            X7            X8            X9           X10  \\\n",
              "count  29997.000000  29995.000000  29993.000000  29991.000000  29984.000000   \n",
              "mean      -0.016635     -0.133689     -0.166405     -0.220800     -0.266342   \n",
              "std        1.123829      1.197254      1.196048      1.169153      1.133296   \n",
              "min       -2.000000     -2.000000     -2.000000     -2.000000     -2.000000   \n",
              "25%       -1.000000     -1.000000     -1.000000     -1.000000     -1.000000   \n",
              "50%        0.000000      0.000000      0.000000      0.000000      0.000000   \n",
              "75%        0.000000      0.000000      0.000000      0.000000      0.000000   \n",
              "max        8.000000      8.000000      8.000000      8.000000      8.000000   \n",
              "\n",
              "       ...            X15            X16            X17            X18  \\\n",
              "count  ...   29985.000000   29983.000000   29990.000000   29992.000000   \n",
              "mean   ...   43275.652326   40324.493980   38881.135745    5662.945886   \n",
              "std    ...   64345.500073   60809.984983   59561.312967   16564.165089   \n",
              "min    ... -170000.000000  -81334.000000 -339603.000000       0.000000   \n",
              "25%    ...    2329.000000    1763.500000    1256.250000    1000.000000   \n",
              "50%    ...   19052.000000   18107.000000   17081.000000    2100.000000   \n",
              "75%    ...   54560.000000   50213.000000   49208.250000    5006.000000   \n",
              "max    ...  891586.000000  927171.000000  961664.000000  873552.000000   \n",
              "\n",
              "                X19            X20            X21            X22  \\\n",
              "count  2.999100e+04   29992.000000   29989.000000   29989.000000   \n",
              "mean   5.922489e+03    5225.623400    4827.252526    4800.297209   \n",
              "std    2.304418e+04   17608.422625   15668.751975   15280.842069   \n",
              "min    0.000000e+00       0.000000       0.000000       0.000000   \n",
              "25%    8.355000e+02     390.000000     296.000000     251.000000   \n",
              "50%    2.009000e+03    1800.000000    1500.000000    1500.000000   \n",
              "75%    5.000000e+03    4505.500000    4014.000000    4033.000000   \n",
              "max    1.684259e+06  896040.000000  621000.000000  426529.000000   \n",
              "\n",
              "                 X23             Y  \n",
              "count   29995.000000  29997.000000  \n",
              "mean     5216.259977      0.221189  \n",
              "std     17778.848359      0.415054  \n",
              "min         0.000000      0.000000  \n",
              "25%       118.000000      0.000000  \n",
              "50%      1500.000000      0.000000  \n",
              "75%      4000.000000      0.000000  \n",
              "max    528666.000000      1.000000  \n",
              "\n",
              "[8 rows x 24 columns]"
            ],
            "text/html": [
              "\n",
              "  <div id=\"df-e369194a-ae34-49d1-b610-066da7b5b741\">\n",
              "    <div class=\"colab-df-container\">\n",
              "      <div>\n",
              "<style scoped>\n",
              "    .dataframe tbody tr th:only-of-type {\n",
              "        vertical-align: middle;\n",
              "    }\n",
              "\n",
              "    .dataframe tbody tr th {\n",
              "        vertical-align: top;\n",
              "    }\n",
              "\n",
              "    .dataframe thead th {\n",
              "        text-align: right;\n",
              "    }\n",
              "</style>\n",
              "<table border=\"1\" class=\"dataframe\">\n",
              "  <thead>\n",
              "    <tr style=\"text-align: right;\">\n",
              "      <th></th>\n",
              "      <th>X1</th>\n",
              "      <th>X2</th>\n",
              "      <th>X3</th>\n",
              "      <th>X4</th>\n",
              "      <th>X5</th>\n",
              "      <th>X6</th>\n",
              "      <th>X7</th>\n",
              "      <th>X8</th>\n",
              "      <th>X9</th>\n",
              "      <th>X10</th>\n",
              "      <th>...</th>\n",
              "      <th>X15</th>\n",
              "      <th>X16</th>\n",
              "      <th>X17</th>\n",
              "      <th>X18</th>\n",
              "      <th>X19</th>\n",
              "      <th>X20</th>\n",
              "      <th>X21</th>\n",
              "      <th>X22</th>\n",
              "      <th>X23</th>\n",
              "      <th>Y</th>\n",
              "    </tr>\n",
              "  </thead>\n",
              "  <tbody>\n",
              "    <tr>\n",
              "      <th>count</th>\n",
              "      <td>30000.000000</td>\n",
              "      <td>29999.000000</td>\n",
              "      <td>29998.000000</td>\n",
              "      <td>29998.000000</td>\n",
              "      <td>29995.000000</td>\n",
              "      <td>29997.000000</td>\n",
              "      <td>29995.000000</td>\n",
              "      <td>29993.000000</td>\n",
              "      <td>29991.000000</td>\n",
              "      <td>29984.000000</td>\n",
              "      <td>...</td>\n",
              "      <td>29985.000000</td>\n",
              "      <td>29983.000000</td>\n",
              "      <td>29990.000000</td>\n",
              "      <td>29992.000000</td>\n",
              "      <td>2.999100e+04</td>\n",
              "      <td>29992.000000</td>\n",
              "      <td>29989.000000</td>\n",
              "      <td>29989.000000</td>\n",
              "      <td>29995.000000</td>\n",
              "      <td>29997.000000</td>\n",
              "    </tr>\n",
              "    <tr>\n",
              "      <th>mean</th>\n",
              "      <td>167484.322667</td>\n",
              "      <td>1.603753</td>\n",
              "      <td>1.853057</td>\n",
              "      <td>1.551903</td>\n",
              "      <td>35.484214</td>\n",
              "      <td>-0.016635</td>\n",
              "      <td>-0.133689</td>\n",
              "      <td>-0.166405</td>\n",
              "      <td>-0.220800</td>\n",
              "      <td>-0.266342</td>\n",
              "      <td>...</td>\n",
              "      <td>43275.652326</td>\n",
              "      <td>40324.493980</td>\n",
              "      <td>38881.135745</td>\n",
              "      <td>5662.945886</td>\n",
              "      <td>5.922489e+03</td>\n",
              "      <td>5225.623400</td>\n",
              "      <td>4827.252526</td>\n",
              "      <td>4800.297209</td>\n",
              "      <td>5216.259977</td>\n",
              "      <td>0.221189</td>\n",
              "    </tr>\n",
              "    <tr>\n",
              "      <th>std</th>\n",
              "      <td>129747.661567</td>\n",
              "      <td>0.489125</td>\n",
              "      <td>0.790320</td>\n",
              "      <td>0.521968</td>\n",
              "      <td>9.218024</td>\n",
              "      <td>1.123829</td>\n",
              "      <td>1.197254</td>\n",
              "      <td>1.196048</td>\n",
              "      <td>1.169153</td>\n",
              "      <td>1.133296</td>\n",
              "      <td>...</td>\n",
              "      <td>64345.500073</td>\n",
              "      <td>60809.984983</td>\n",
              "      <td>59561.312967</td>\n",
              "      <td>16564.165089</td>\n",
              "      <td>2.304418e+04</td>\n",
              "      <td>17608.422625</td>\n",
              "      <td>15668.751975</td>\n",
              "      <td>15280.842069</td>\n",
              "      <td>17778.848359</td>\n",
              "      <td>0.415054</td>\n",
              "    </tr>\n",
              "    <tr>\n",
              "      <th>min</th>\n",
              "      <td>10000.000000</td>\n",
              "      <td>1.000000</td>\n",
              "      <td>0.000000</td>\n",
              "      <td>0.000000</td>\n",
              "      <td>21.000000</td>\n",
              "      <td>-2.000000</td>\n",
              "      <td>-2.000000</td>\n",
              "      <td>-2.000000</td>\n",
              "      <td>-2.000000</td>\n",
              "      <td>-2.000000</td>\n",
              "      <td>...</td>\n",
              "      <td>-170000.000000</td>\n",
              "      <td>-81334.000000</td>\n",
              "      <td>-339603.000000</td>\n",
              "      <td>0.000000</td>\n",
              "      <td>0.000000e+00</td>\n",
              "      <td>0.000000</td>\n",
              "      <td>0.000000</td>\n",
              "      <td>0.000000</td>\n",
              "      <td>0.000000</td>\n",
              "      <td>0.000000</td>\n",
              "    </tr>\n",
              "    <tr>\n",
              "      <th>25%</th>\n",
              "      <td>50000.000000</td>\n",
              "      <td>1.000000</td>\n",
              "      <td>1.000000</td>\n",
              "      <td>1.000000</td>\n",
              "      <td>28.000000</td>\n",
              "      <td>-1.000000</td>\n",
              "      <td>-1.000000</td>\n",
              "      <td>-1.000000</td>\n",
              "      <td>-1.000000</td>\n",
              "      <td>-1.000000</td>\n",
              "      <td>...</td>\n",
              "      <td>2329.000000</td>\n",
              "      <td>1763.500000</td>\n",
              "      <td>1256.250000</td>\n",
              "      <td>1000.000000</td>\n",
              "      <td>8.355000e+02</td>\n",
              "      <td>390.000000</td>\n",
              "      <td>296.000000</td>\n",
              "      <td>251.000000</td>\n",
              "      <td>118.000000</td>\n",
              "      <td>0.000000</td>\n",
              "    </tr>\n",
              "    <tr>\n",
              "      <th>50%</th>\n",
              "      <td>140000.000000</td>\n",
              "      <td>2.000000</td>\n",
              "      <td>2.000000</td>\n",
              "      <td>2.000000</td>\n",
              "      <td>34.000000</td>\n",
              "      <td>0.000000</td>\n",
              "      <td>0.000000</td>\n",
              "      <td>0.000000</td>\n",
              "      <td>0.000000</td>\n",
              "      <td>0.000000</td>\n",
              "      <td>...</td>\n",
              "      <td>19052.000000</td>\n",
              "      <td>18107.000000</td>\n",
              "      <td>17081.000000</td>\n",
              "      <td>2100.000000</td>\n",
              "      <td>2.009000e+03</td>\n",
              "      <td>1800.000000</td>\n",
              "      <td>1500.000000</td>\n",
              "      <td>1500.000000</td>\n",
              "      <td>1500.000000</td>\n",
              "      <td>0.000000</td>\n",
              "    </tr>\n",
              "    <tr>\n",
              "      <th>75%</th>\n",
              "      <td>240000.000000</td>\n",
              "      <td>2.000000</td>\n",
              "      <td>2.000000</td>\n",
              "      <td>2.000000</td>\n",
              "      <td>41.000000</td>\n",
              "      <td>0.000000</td>\n",
              "      <td>0.000000</td>\n",
              "      <td>0.000000</td>\n",
              "      <td>0.000000</td>\n",
              "      <td>0.000000</td>\n",
              "      <td>...</td>\n",
              "      <td>54560.000000</td>\n",
              "      <td>50213.000000</td>\n",
              "      <td>49208.250000</td>\n",
              "      <td>5006.000000</td>\n",
              "      <td>5.000000e+03</td>\n",
              "      <td>4505.500000</td>\n",
              "      <td>4014.000000</td>\n",
              "      <td>4033.000000</td>\n",
              "      <td>4000.000000</td>\n",
              "      <td>0.000000</td>\n",
              "    </tr>\n",
              "    <tr>\n",
              "      <th>max</th>\n",
              "      <td>1000000.000000</td>\n",
              "      <td>2.000000</td>\n",
              "      <td>6.000000</td>\n",
              "      <td>3.000000</td>\n",
              "      <td>79.000000</td>\n",
              "      <td>8.000000</td>\n",
              "      <td>8.000000</td>\n",
              "      <td>8.000000</td>\n",
              "      <td>8.000000</td>\n",
              "      <td>8.000000</td>\n",
              "      <td>...</td>\n",
              "      <td>891586.000000</td>\n",
              "      <td>927171.000000</td>\n",
              "      <td>961664.000000</td>\n",
              "      <td>873552.000000</td>\n",
              "      <td>1.684259e+06</td>\n",
              "      <td>896040.000000</td>\n",
              "      <td>621000.000000</td>\n",
              "      <td>426529.000000</td>\n",
              "      <td>528666.000000</td>\n",
              "      <td>1.000000</td>\n",
              "    </tr>\n",
              "  </tbody>\n",
              "</table>\n",
              "<p>8 rows × 24 columns</p>\n",
              "</div>\n",
              "      <button class=\"colab-df-convert\" onclick=\"convertToInteractive('df-e369194a-ae34-49d1-b610-066da7b5b741')\"\n",
              "              title=\"Convert this dataframe to an interactive table.\"\n",
              "              style=\"display:none;\">\n",
              "        \n",
              "  <svg xmlns=\"http://www.w3.org/2000/svg\" height=\"24px\"viewBox=\"0 0 24 24\"\n",
              "       width=\"24px\">\n",
              "    <path d=\"M0 0h24v24H0V0z\" fill=\"none\"/>\n",
              "    <path d=\"M18.56 5.44l.94 2.06.94-2.06 2.06-.94-2.06-.94-.94-2.06-.94 2.06-2.06.94zm-11 1L8.5 8.5l.94-2.06 2.06-.94-2.06-.94L8.5 2.5l-.94 2.06-2.06.94zm10 10l.94 2.06.94-2.06 2.06-.94-2.06-.94-.94-2.06-.94 2.06-2.06.94z\"/><path d=\"M17.41 7.96l-1.37-1.37c-.4-.4-.92-.59-1.43-.59-.52 0-1.04.2-1.43.59L10.3 9.45l-7.72 7.72c-.78.78-.78 2.05 0 2.83L4 21.41c.39.39.9.59 1.41.59.51 0 1.02-.2 1.41-.59l7.78-7.78 2.81-2.81c.8-.78.8-2.07 0-2.86zM5.41 20L4 18.59l7.72-7.72 1.47 1.35L5.41 20z\"/>\n",
              "  </svg>\n",
              "      </button>\n",
              "      \n",
              "  <style>\n",
              "    .colab-df-container {\n",
              "      display:flex;\n",
              "      flex-wrap:wrap;\n",
              "      gap: 12px;\n",
              "    }\n",
              "\n",
              "    .colab-df-convert {\n",
              "      background-color: #E8F0FE;\n",
              "      border: none;\n",
              "      border-radius: 50%;\n",
              "      cursor: pointer;\n",
              "      display: none;\n",
              "      fill: #1967D2;\n",
              "      height: 32px;\n",
              "      padding: 0 0 0 0;\n",
              "      width: 32px;\n",
              "    }\n",
              "\n",
              "    .colab-df-convert:hover {\n",
              "      background-color: #E2EBFA;\n",
              "      box-shadow: 0px 1px 2px rgba(60, 64, 67, 0.3), 0px 1px 3px 1px rgba(60, 64, 67, 0.15);\n",
              "      fill: #174EA6;\n",
              "    }\n",
              "\n",
              "    [theme=dark] .colab-df-convert {\n",
              "      background-color: #3B4455;\n",
              "      fill: #D2E3FC;\n",
              "    }\n",
              "\n",
              "    [theme=dark] .colab-df-convert:hover {\n",
              "      background-color: #434B5C;\n",
              "      box-shadow: 0px 1px 3px 1px rgba(0, 0, 0, 0.15);\n",
              "      filter: drop-shadow(0px 1px 2px rgba(0, 0, 0, 0.3));\n",
              "      fill: #FFFFFF;\n",
              "    }\n",
              "  </style>\n",
              "\n",
              "      <script>\n",
              "        const buttonEl =\n",
              "          document.querySelector('#df-e369194a-ae34-49d1-b610-066da7b5b741 button.colab-df-convert');\n",
              "        buttonEl.style.display =\n",
              "          google.colab.kernel.accessAllowed ? 'block' : 'none';\n",
              "\n",
              "        async function convertToInteractive(key) {\n",
              "          const element = document.querySelector('#df-e369194a-ae34-49d1-b610-066da7b5b741');\n",
              "          const dataTable =\n",
              "            await google.colab.kernel.invokeFunction('convertToInteractive',\n",
              "                                                     [key], {});\n",
              "          if (!dataTable) return;\n",
              "\n",
              "          const docLinkHtml = 'Like what you see? Visit the ' +\n",
              "            '<a target=\"_blank\" href=https://colab.research.google.com/notebooks/data_table.ipynb>data table notebook</a>'\n",
              "            + ' to learn more about interactive tables.';\n",
              "          element.innerHTML = '';\n",
              "          dataTable['output_type'] = 'display_data';\n",
              "          await google.colab.output.renderOutput(dataTable, element);\n",
              "          const docLink = document.createElement('div');\n",
              "          docLink.innerHTML = docLinkHtml;\n",
              "          element.appendChild(docLink);\n",
              "        }\n",
              "      </script>\n",
              "    </div>\n",
              "  </div>\n",
              "  "
            ]
          },
          "metadata": {},
          "execution_count": 94
        }
      ]
    },
    {
      "cell_type": "code",
      "source": [],
      "metadata": {
        "id": "1UpiNQdEGQLz"
      },
      "execution_count": null,
      "outputs": []
    },
    {
      "cell_type": "markdown",
      "source": [
        "Y se obtienen una lista de medias, medianas y modas para cada columna. Esta información se usará más tarde para determinar la mejor técnica para limpiar datos"
      ],
      "metadata": {
        "id": "_MRM74K2IKNm"
      }
    },
    {
      "cell_type": "code",
      "source": [
        "for columna in datos.columns:\n",
        "  print(columna, ' Media: ', datos[columna].mean(), 'Mediana:', datos[columna].median(), 'Moda: ', datos[columna].mode()[0])"
      ],
      "metadata": {
        "colab": {
          "base_uri": "https://localhost:8080/"
        },
        "id": "ekmLSFX5GQIx",
        "outputId": "4841d9b0-665a-4287-b00d-783e6cb916b3"
      },
      "execution_count": 95,
      "outputs": [
        {
          "output_type": "stream",
          "name": "stdout",
          "text": [
            "X1  Media:  167484.32266666667 Mediana: 140000.0 Moda:  50000\n",
            "X2  Media:  1.603753458448615 Mediana: 2.0 Moda:  2.0\n",
            "X3  Media:  1.8530568704580306 Mediana: 2.0 Moda:  2.0\n",
            "X4  Media:  1.551903460230682 Mediana: 2.0 Moda:  2.0\n",
            "X5  Media:  35.484214035672615 Mediana: 34.0 Moda:  29.0\n",
            "X6  Media:  -0.016634996833016634 Mediana: 0.0 Moda:  0.0\n",
            "X7  Media:  -0.13368894815802634 Mediana: 0.0 Moda:  0.0\n",
            "X8  Media:  -0.16640549461541027 Mediana: 0.0 Moda:  0.0\n",
            "X9  Media:  -0.22079957320529492 Mediana: 0.0 Moda:  0.0\n",
            "X10  Media:  -0.26634204909284953 Mediana: 0.0 Moda:  0.0\n",
            "X11  Media:  -0.29113586340292136 Mediana: 0.0 Moda:  0.0\n",
            "X12  Media:  51236.86274967488 Mediana: 22387.0 Moda:  0.0\n",
            "X13  Media:  49190.73466937877 Mediana: 21207.0 Moda:  0.0\n",
            "X14  Media:  47025.35015173242 Mediana: 20089.0 Moda:  0.0\n",
            "X15  Media:  43275.65232616308 Mediana: 19052.0 Moda:  0.0\n",
            "X16  Media:  40324.49397992196 Mediana: 18107.0 Moda:  0.0\n",
            "X17  Media:  38881.135745248415 Mediana: 17081.0 Moda:  0.0\n",
            "X18  Media:  5662.945885569485 Mediana: 2100.0 Moda:  0.0\n",
            "X19  Media:  5922.488913340669 Mediana: 2009.0 Moda:  0.0\n",
            "X20  Media:  5225.623399573219 Mediana: 1800.0 Moda:  0.0\n",
            "X21  Media:  4827.252525926173 Mediana: 1500.0 Moda:  0.0\n",
            "X22  Media:  4800.2972089766245 Mediana: 1500.0 Moda:  0.0\n",
            "X23  Media:  5216.259976662777 Mediana: 1500.0 Moda:  0.0\n",
            "Y  Media:  0.2211887855452212 Mediana: 0.0 Moda:  0.0\n"
          ]
        }
      ]
    },
    {
      "cell_type": "code",
      "source": [],
      "metadata": {
        "id": "Ih45YUljGQFs"
      },
      "execution_count": null,
      "outputs": []
    },
    {
      "cell_type": "markdown",
      "source": [
        "Como medida precautoria se confirma la existencia de valores nulos, u omitidos en todas las columnas con la excepción de la columna X1 o monto del préstamo"
      ],
      "metadata": {
        "id": "GIcCm1I-IQYb"
      }
    },
    {
      "cell_type": "code",
      "source": [
        "datos.isna().any()"
      ],
      "metadata": {
        "colab": {
          "base_uri": "https://localhost:8080/"
        },
        "id": "Q8VHxMS7GQCm",
        "outputId": "2453effe-9830-4824-df90-9cf80d2fc04a"
      },
      "execution_count": 96,
      "outputs": [
        {
          "output_type": "execute_result",
          "data": {
            "text/plain": [
              "X1     False\n",
              "X2      True\n",
              "X3      True\n",
              "X4      True\n",
              "X5      True\n",
              "X6      True\n",
              "X7      True\n",
              "X8      True\n",
              "X9      True\n",
              "X10     True\n",
              "X11     True\n",
              "X12     True\n",
              "X13     True\n",
              "X14     True\n",
              "X15     True\n",
              "X16     True\n",
              "X17     True\n",
              "X18     True\n",
              "X19     True\n",
              "X20     True\n",
              "X21     True\n",
              "X22     True\n",
              "X23     True\n",
              "Y       True\n",
              "dtype: bool"
            ]
          },
          "metadata": {},
          "execution_count": 96
        }
      ]
    },
    {
      "cell_type": "code",
      "source": [],
      "metadata": {
        "id": "49tjKPInGP_q"
      },
      "execution_count": null,
      "outputs": []
    },
    {
      "cell_type": "markdown",
      "source": [
        "Dado que todas los campos tienen valores omitidos o nulos, incluyendo el resultado Y (cumplió o incumplió el pago del crédito) habrá que hacer limpieza de datos:\n",
        "\n",
        "Definitivamente hay datos faltantes al azar, o MAR por sus siglas en inglés, en todos los campos\n",
        "\n",
        "Por el momento se asume que no hay datos faltantes completamente al azar, o MCAR por sus siglas en inglés\n",
        "Definitivamente hay datos faltantes al azar, o MAR por sus siglas en inglés, en todos las columnas\n",
        "Con la excepción de la columna X5 o edad, se puede usar la moda de la columna como el valor de imputación para los datos faltantes. Con respecto a la columna X5 se usará la mediana ya que se ajusta mejor a la distribución de los datos\n",
        "Los registros con valores de Y faltantes se pueden separar como datos de prueba para probar algún modelo de aprendizaje automático"
      ],
      "metadata": {
        "id": "4XpCE6IsIaiq"
      }
    },
    {
      "cell_type": "code",
      "source": [
        "# Dado que todos los valores tienen valores omitidos habrá que hacer limpieza de datos\n",
        "for columna in datos.columns:\n",
        "  if (columna != 'Y'):\n",
        "    if (columna != 'X5'):\n",
        "      # Con la excepción de la columna de edad X5 todos los demás valores pueden usar la moda\n",
        "      # o valor más común, basados en el análisis de datos previo\n",
        "      valor = datos[columna].mode()[0]\n",
        "    else:\n",
        "      # Por lo que respecta a la variable de edad X5 se usará la la mediana de 34 ya que parece\n",
        "      # ser un valor apropiado basado en la distribución presentada en su gráfico \n",
        "      valor = datos[columna].median()\n",
        "    datos[columna].fillna(value = valor, inplace = True)\n",
        "    if (columna in {'X6','X7','X8','X9','X10','X11'}):\n",
        "      # Para las columnas X6 a X11 hay que asegurarse que los valores son positivos para\n",
        "      # valores diferentes de -1\n",
        "      datos.loc[datos[columna] < -1, columna] = -1*datos.loc[datos[columna] < -1, columna]\n",
        "datos.isna().any()"
      ],
      "metadata": {
        "colab": {
          "base_uri": "https://localhost:8080/"
        },
        "id": "E6GOQvdSGP8k",
        "outputId": "214143b2-2127-42b2-f893-520a661ca2fb"
      },
      "execution_count": 97,
      "outputs": [
        {
          "output_type": "execute_result",
          "data": {
            "text/plain": [
              "X1     False\n",
              "X2     False\n",
              "X3     False\n",
              "X4     False\n",
              "X5     False\n",
              "X6     False\n",
              "X7     False\n",
              "X8     False\n",
              "X9     False\n",
              "X10    False\n",
              "X11    False\n",
              "X12    False\n",
              "X13    False\n",
              "X14    False\n",
              "X15    False\n",
              "X16    False\n",
              "X17    False\n",
              "X18    False\n",
              "X19    False\n",
              "X20    False\n",
              "X21    False\n",
              "X22    False\n",
              "X23    False\n",
              "Y       True\n",
              "dtype: bool"
            ]
          },
          "metadata": {},
          "execution_count": 97
        }
      ]
    },
    {
      "cell_type": "code",
      "source": [],
      "metadata": {
        "id": "VioYDlc5GP6A"
      },
      "execution_count": null,
      "outputs": []
    },
    {
      "cell_type": "markdown",
      "source": [
        "La columna X3 o estado marital tiene valores inválidos o mayores a 4. Esos valores serán reeplazados por la moda"
      ],
      "metadata": {
        "id": "j7fJUKM3Ipas"
      }
    },
    {
      "cell_type": "code",
      "source": [
        "# La columna X3 tiene valores invalidos o mayores a 4 por lo que habrá que reemplazarlos\n",
        "# con la moda\n",
        "valor = datos['X3'].mode()[0]\n",
        "datos.loc[datos['X3'] > 4, 'X3'] = valor\n",
        "datos[datos['X3']>4]"
      ],
      "metadata": {
        "colab": {
          "base_uri": "https://localhost:8080/",
          "height": 110
        },
        "id": "t2o5Rs5iGP3T",
        "outputId": "9835e867-def4-487e-d78d-b36d89f7eaff"
      },
      "execution_count": 98,
      "outputs": [
        {
          "output_type": "execute_result",
          "data": {
            "text/plain": [
              "Empty DataFrame\n",
              "Columns: [X1, X2, X3, X4, X5, X6, X7, X8, X9, X10, X11, X12, X13, X14, X15, X16, X17, X18, X19, X20, X21, X22, X23, Y]\n",
              "Index: []\n",
              "\n",
              "[0 rows x 24 columns]"
            ],
            "text/html": [
              "\n",
              "  <div id=\"df-029da08f-80a1-41f2-8c4f-a7ffa0e319da\">\n",
              "    <div class=\"colab-df-container\">\n",
              "      <div>\n",
              "<style scoped>\n",
              "    .dataframe tbody tr th:only-of-type {\n",
              "        vertical-align: middle;\n",
              "    }\n",
              "\n",
              "    .dataframe tbody tr th {\n",
              "        vertical-align: top;\n",
              "    }\n",
              "\n",
              "    .dataframe thead th {\n",
              "        text-align: right;\n",
              "    }\n",
              "</style>\n",
              "<table border=\"1\" class=\"dataframe\">\n",
              "  <thead>\n",
              "    <tr style=\"text-align: right;\">\n",
              "      <th></th>\n",
              "      <th>X1</th>\n",
              "      <th>X2</th>\n",
              "      <th>X3</th>\n",
              "      <th>X4</th>\n",
              "      <th>X5</th>\n",
              "      <th>X6</th>\n",
              "      <th>X7</th>\n",
              "      <th>X8</th>\n",
              "      <th>X9</th>\n",
              "      <th>X10</th>\n",
              "      <th>...</th>\n",
              "      <th>X15</th>\n",
              "      <th>X16</th>\n",
              "      <th>X17</th>\n",
              "      <th>X18</th>\n",
              "      <th>X19</th>\n",
              "      <th>X20</th>\n",
              "      <th>X21</th>\n",
              "      <th>X22</th>\n",
              "      <th>X23</th>\n",
              "      <th>Y</th>\n",
              "    </tr>\n",
              "    <tr>\n",
              "      <th>ID</th>\n",
              "      <th></th>\n",
              "      <th></th>\n",
              "      <th></th>\n",
              "      <th></th>\n",
              "      <th></th>\n",
              "      <th></th>\n",
              "      <th></th>\n",
              "      <th></th>\n",
              "      <th></th>\n",
              "      <th></th>\n",
              "      <th></th>\n",
              "      <th></th>\n",
              "      <th></th>\n",
              "      <th></th>\n",
              "      <th></th>\n",
              "      <th></th>\n",
              "      <th></th>\n",
              "      <th></th>\n",
              "      <th></th>\n",
              "      <th></th>\n",
              "      <th></th>\n",
              "    </tr>\n",
              "  </thead>\n",
              "  <tbody>\n",
              "  </tbody>\n",
              "</table>\n",
              "<p>0 rows × 24 columns</p>\n",
              "</div>\n",
              "      <button class=\"colab-df-convert\" onclick=\"convertToInteractive('df-029da08f-80a1-41f2-8c4f-a7ffa0e319da')\"\n",
              "              title=\"Convert this dataframe to an interactive table.\"\n",
              "              style=\"display:none;\">\n",
              "        \n",
              "  <svg xmlns=\"http://www.w3.org/2000/svg\" height=\"24px\"viewBox=\"0 0 24 24\"\n",
              "       width=\"24px\">\n",
              "    <path d=\"M0 0h24v24H0V0z\" fill=\"none\"/>\n",
              "    <path d=\"M18.56 5.44l.94 2.06.94-2.06 2.06-.94-2.06-.94-.94-2.06-.94 2.06-2.06.94zm-11 1L8.5 8.5l.94-2.06 2.06-.94-2.06-.94L8.5 2.5l-.94 2.06-2.06.94zm10 10l.94 2.06.94-2.06 2.06-.94-2.06-.94-.94-2.06-.94 2.06-2.06.94z\"/><path d=\"M17.41 7.96l-1.37-1.37c-.4-.4-.92-.59-1.43-.59-.52 0-1.04.2-1.43.59L10.3 9.45l-7.72 7.72c-.78.78-.78 2.05 0 2.83L4 21.41c.39.39.9.59 1.41.59.51 0 1.02-.2 1.41-.59l7.78-7.78 2.81-2.81c.8-.78.8-2.07 0-2.86zM5.41 20L4 18.59l7.72-7.72 1.47 1.35L5.41 20z\"/>\n",
              "  </svg>\n",
              "      </button>\n",
              "      \n",
              "  <style>\n",
              "    .colab-df-container {\n",
              "      display:flex;\n",
              "      flex-wrap:wrap;\n",
              "      gap: 12px;\n",
              "    }\n",
              "\n",
              "    .colab-df-convert {\n",
              "      background-color: #E8F0FE;\n",
              "      border: none;\n",
              "      border-radius: 50%;\n",
              "      cursor: pointer;\n",
              "      display: none;\n",
              "      fill: #1967D2;\n",
              "      height: 32px;\n",
              "      padding: 0 0 0 0;\n",
              "      width: 32px;\n",
              "    }\n",
              "\n",
              "    .colab-df-convert:hover {\n",
              "      background-color: #E2EBFA;\n",
              "      box-shadow: 0px 1px 2px rgba(60, 64, 67, 0.3), 0px 1px 3px 1px rgba(60, 64, 67, 0.15);\n",
              "      fill: #174EA6;\n",
              "    }\n",
              "\n",
              "    [theme=dark] .colab-df-convert {\n",
              "      background-color: #3B4455;\n",
              "      fill: #D2E3FC;\n",
              "    }\n",
              "\n",
              "    [theme=dark] .colab-df-convert:hover {\n",
              "      background-color: #434B5C;\n",
              "      box-shadow: 0px 1px 3px 1px rgba(0, 0, 0, 0.15);\n",
              "      filter: drop-shadow(0px 1px 2px rgba(0, 0, 0, 0.3));\n",
              "      fill: #FFFFFF;\n",
              "    }\n",
              "  </style>\n",
              "\n",
              "      <script>\n",
              "        const buttonEl =\n",
              "          document.querySelector('#df-029da08f-80a1-41f2-8c4f-a7ffa0e319da button.colab-df-convert');\n",
              "        buttonEl.style.display =\n",
              "          google.colab.kernel.accessAllowed ? 'block' : 'none';\n",
              "\n",
              "        async function convertToInteractive(key) {\n",
              "          const element = document.querySelector('#df-029da08f-80a1-41f2-8c4f-a7ffa0e319da');\n",
              "          const dataTable =\n",
              "            await google.colab.kernel.invokeFunction('convertToInteractive',\n",
              "                                                     [key], {});\n",
              "          if (!dataTable) return;\n",
              "\n",
              "          const docLinkHtml = 'Like what you see? Visit the ' +\n",
              "            '<a target=\"_blank\" href=https://colab.research.google.com/notebooks/data_table.ipynb>data table notebook</a>'\n",
              "            + ' to learn more about interactive tables.';\n",
              "          element.innerHTML = '';\n",
              "          dataTable['output_type'] = 'display_data';\n",
              "          await google.colab.output.renderOutput(dataTable, element);\n",
              "          const docLink = document.createElement('div');\n",
              "          docLink.innerHTML = docLinkHtml;\n",
              "          element.appendChild(docLink);\n",
              "        }\n",
              "      </script>\n",
              "    </div>\n",
              "  </div>\n",
              "  "
            ]
          },
          "metadata": {},
          "execution_count": 98
        }
      ]
    },
    {
      "cell_type": "code",
      "source": [],
      "metadata": {
        "id": "iwMMm1alInBV"
      },
      "execution_count": null,
      "outputs": []
    },
    {
      "cell_type": "markdown",
      "source": [
        "Finalmente se remueven los registros con valores omitidos para la columna Y"
      ],
      "metadata": {
        "id": "WA7YLprcJfN-"
      }
    },
    {
      "cell_type": "code",
      "source": [
        "# Finalmente se remueven los registros con valores omitidos para la columna Y\n",
        "datos.dropna(inplace = True)\n",
        "datos[datos.Y.isna()]"
      ],
      "metadata": {
        "colab": {
          "base_uri": "https://localhost:8080/",
          "height": 110
        },
        "id": "kwsvPogXIm-g",
        "outputId": "b9432d37-aaad-407e-b271-1e302822c034"
      },
      "execution_count": 99,
      "outputs": [
        {
          "output_type": "execute_result",
          "data": {
            "text/plain": [
              "Empty DataFrame\n",
              "Columns: [X1, X2, X3, X4, X5, X6, X7, X8, X9, X10, X11, X12, X13, X14, X15, X16, X17, X18, X19, X20, X21, X22, X23, Y]\n",
              "Index: []\n",
              "\n",
              "[0 rows x 24 columns]"
            ],
            "text/html": [
              "\n",
              "  <div id=\"df-cd90ffa3-3e32-493e-a51c-4ed2ffbcc308\">\n",
              "    <div class=\"colab-df-container\">\n",
              "      <div>\n",
              "<style scoped>\n",
              "    .dataframe tbody tr th:only-of-type {\n",
              "        vertical-align: middle;\n",
              "    }\n",
              "\n",
              "    .dataframe tbody tr th {\n",
              "        vertical-align: top;\n",
              "    }\n",
              "\n",
              "    .dataframe thead th {\n",
              "        text-align: right;\n",
              "    }\n",
              "</style>\n",
              "<table border=\"1\" class=\"dataframe\">\n",
              "  <thead>\n",
              "    <tr style=\"text-align: right;\">\n",
              "      <th></th>\n",
              "      <th>X1</th>\n",
              "      <th>X2</th>\n",
              "      <th>X3</th>\n",
              "      <th>X4</th>\n",
              "      <th>X5</th>\n",
              "      <th>X6</th>\n",
              "      <th>X7</th>\n",
              "      <th>X8</th>\n",
              "      <th>X9</th>\n",
              "      <th>X10</th>\n",
              "      <th>...</th>\n",
              "      <th>X15</th>\n",
              "      <th>X16</th>\n",
              "      <th>X17</th>\n",
              "      <th>X18</th>\n",
              "      <th>X19</th>\n",
              "      <th>X20</th>\n",
              "      <th>X21</th>\n",
              "      <th>X22</th>\n",
              "      <th>X23</th>\n",
              "      <th>Y</th>\n",
              "    </tr>\n",
              "    <tr>\n",
              "      <th>ID</th>\n",
              "      <th></th>\n",
              "      <th></th>\n",
              "      <th></th>\n",
              "      <th></th>\n",
              "      <th></th>\n",
              "      <th></th>\n",
              "      <th></th>\n",
              "      <th></th>\n",
              "      <th></th>\n",
              "      <th></th>\n",
              "      <th></th>\n",
              "      <th></th>\n",
              "      <th></th>\n",
              "      <th></th>\n",
              "      <th></th>\n",
              "      <th></th>\n",
              "      <th></th>\n",
              "      <th></th>\n",
              "      <th></th>\n",
              "      <th></th>\n",
              "      <th></th>\n",
              "    </tr>\n",
              "  </thead>\n",
              "  <tbody>\n",
              "  </tbody>\n",
              "</table>\n",
              "<p>0 rows × 24 columns</p>\n",
              "</div>\n",
              "      <button class=\"colab-df-convert\" onclick=\"convertToInteractive('df-cd90ffa3-3e32-493e-a51c-4ed2ffbcc308')\"\n",
              "              title=\"Convert this dataframe to an interactive table.\"\n",
              "              style=\"display:none;\">\n",
              "        \n",
              "  <svg xmlns=\"http://www.w3.org/2000/svg\" height=\"24px\"viewBox=\"0 0 24 24\"\n",
              "       width=\"24px\">\n",
              "    <path d=\"M0 0h24v24H0V0z\" fill=\"none\"/>\n",
              "    <path d=\"M18.56 5.44l.94 2.06.94-2.06 2.06-.94-2.06-.94-.94-2.06-.94 2.06-2.06.94zm-11 1L8.5 8.5l.94-2.06 2.06-.94-2.06-.94L8.5 2.5l-.94 2.06-2.06.94zm10 10l.94 2.06.94-2.06 2.06-.94-2.06-.94-.94-2.06-.94 2.06-2.06.94z\"/><path d=\"M17.41 7.96l-1.37-1.37c-.4-.4-.92-.59-1.43-.59-.52 0-1.04.2-1.43.59L10.3 9.45l-7.72 7.72c-.78.78-.78 2.05 0 2.83L4 21.41c.39.39.9.59 1.41.59.51 0 1.02-.2 1.41-.59l7.78-7.78 2.81-2.81c.8-.78.8-2.07 0-2.86zM5.41 20L4 18.59l7.72-7.72 1.47 1.35L5.41 20z\"/>\n",
              "  </svg>\n",
              "      </button>\n",
              "      \n",
              "  <style>\n",
              "    .colab-df-container {\n",
              "      display:flex;\n",
              "      flex-wrap:wrap;\n",
              "      gap: 12px;\n",
              "    }\n",
              "\n",
              "    .colab-df-convert {\n",
              "      background-color: #E8F0FE;\n",
              "      border: none;\n",
              "      border-radius: 50%;\n",
              "      cursor: pointer;\n",
              "      display: none;\n",
              "      fill: #1967D2;\n",
              "      height: 32px;\n",
              "      padding: 0 0 0 0;\n",
              "      width: 32px;\n",
              "    }\n",
              "\n",
              "    .colab-df-convert:hover {\n",
              "      background-color: #E2EBFA;\n",
              "      box-shadow: 0px 1px 2px rgba(60, 64, 67, 0.3), 0px 1px 3px 1px rgba(60, 64, 67, 0.15);\n",
              "      fill: #174EA6;\n",
              "    }\n",
              "\n",
              "    [theme=dark] .colab-df-convert {\n",
              "      background-color: #3B4455;\n",
              "      fill: #D2E3FC;\n",
              "    }\n",
              "\n",
              "    [theme=dark] .colab-df-convert:hover {\n",
              "      background-color: #434B5C;\n",
              "      box-shadow: 0px 1px 3px 1px rgba(0, 0, 0, 0.15);\n",
              "      filter: drop-shadow(0px 1px 2px rgba(0, 0, 0, 0.3));\n",
              "      fill: #FFFFFF;\n",
              "    }\n",
              "  </style>\n",
              "\n",
              "      <script>\n",
              "        const buttonEl =\n",
              "          document.querySelector('#df-cd90ffa3-3e32-493e-a51c-4ed2ffbcc308 button.colab-df-convert');\n",
              "        buttonEl.style.display =\n",
              "          google.colab.kernel.accessAllowed ? 'block' : 'none';\n",
              "\n",
              "        async function convertToInteractive(key) {\n",
              "          const element = document.querySelector('#df-cd90ffa3-3e32-493e-a51c-4ed2ffbcc308');\n",
              "          const dataTable =\n",
              "            await google.colab.kernel.invokeFunction('convertToInteractive',\n",
              "                                                     [key], {});\n",
              "          if (!dataTable) return;\n",
              "\n",
              "          const docLinkHtml = 'Like what you see? Visit the ' +\n",
              "            '<a target=\"_blank\" href=https://colab.research.google.com/notebooks/data_table.ipynb>data table notebook</a>'\n",
              "            + ' to learn more about interactive tables.';\n",
              "          element.innerHTML = '';\n",
              "          dataTable['output_type'] = 'display_data';\n",
              "          await google.colab.output.renderOutput(dataTable, element);\n",
              "          const docLink = document.createElement('div');\n",
              "          docLink.innerHTML = docLinkHtml;\n",
              "          element.appendChild(docLink);\n",
              "        }\n",
              "      </script>\n",
              "    </div>\n",
              "  </div>\n",
              "  "
            ]
          },
          "metadata": {},
          "execution_count": 99
        }
      ]
    },
    {
      "cell_type": "code",
      "source": [],
      "metadata": {
        "id": "Ie3pW1syIm7c"
      },
      "execution_count": null,
      "outputs": []
    },
    {
      "cell_type": "markdown",
      "source": [
        "Se generan los gráficos de cada columna para verificar que no se haya afectado significativamente la distribución de los datos"
      ],
      "metadata": {
        "id": "FBezcTw_JmTs"
      }
    },
    {
      "cell_type": "code",
      "source": [
        "# Se define una ventana de 4 x 6 para desplegar una gráfica muesta de cada columna.\n",
        "# Los gráficos resultantes deberán mostrar distribuciones muy similares a las obtenidas\n",
        "# inicialmente\n",
        "figura, ejes = plot.subplots(4, 6)\n",
        "for subi in range(0,24):\n",
        "  plot.subplot(4, 6, (subi + 1))\n",
        "  plot.hist(datos[datos.columns[subi]], bins=25)\n",
        "  plot.xlabel(datos.columns[subi])\n",
        "plot.show()"
      ],
      "metadata": {
        "colab": {
          "base_uri": "https://localhost:8080/",
          "height": 883
        },
        "id": "ZX7aS33vIm4e",
        "outputId": "9e012ee4-35de-495b-e02f-2bc34da04a3c"
      },
      "execution_count": 100,
      "outputs": [
        {
          "output_type": "display_data",
          "data": {
            "text/plain": [
              "<Figure size 1440x1080 with 24 Axes>"
            ],
            "image/png": "[encoded data removed]"
          },
          "metadata": {}
        }
      ]
    },
    {
      "cell_type": "code",
      "source": [],
      "metadata": {
        "id": "0eRzmZcgIm1k"
      },
      "execution_count": null,
      "outputs": []
    },
    {
      "cell_type": "markdown",
      "source": [
        "Como último paso se salvan los datos limpios en otro archivo"
      ],
      "metadata": {
        "id": "Ai60QUTvJvrX"
      }
    },
    {
      "cell_type": "code",
      "source": [
        "# Se salvan los datos limpios\n",
        "datos.to_csv('default of credit card clients clean.csv', sep = ',')"
      ],
      "metadata": {
        "id": "ayvU236_Imyj"
      },
      "execution_count": 101,
      "outputs": []
    },
    {
      "cell_type": "code",
      "source": [],
      "metadata": {
        "id": "7lgQwkjiImvX"
      },
      "execution_count": null,
      "outputs": []
    },
    {
      "cell_type": "markdown",
      "source": [
        "### **Parte 1: Ejercicio guiado**\n",
        "\n",
        "Importando las librería de normalización y PCA necesarias"
      ],
      "metadata": {
        "id": "YsLZI_JBLPDM"
      }
    },
    {
      "cell_type": "code",
      "source": [
        "from sklearn.preprocessing import MinMaxScaler, StandardScaler\n",
        "from sklearn.compose import ColumnTransformer\n",
        "from sklearn.pipeline import Pipeline\n",
        "from sklearn.decomposition import PCA"
      ],
      "metadata": {
        "id": "RRAhdQSXImsj"
      },
      "execution_count": 102,
      "outputs": []
    },
    {
      "cell_type": "code",
      "source": [],
      "metadata": {
        "id": "AjFdFwopImpe"
      },
      "execution_count": null,
      "outputs": []
    },
    {
      "cell_type": "markdown",
      "source": [
        "Se normalizan los datos usando MinMaxScaler o StandardScaler. El objetivo es normalizar el valor del préstamo (X1 o X01), los saldos por mes (X12 a X17) y los pagos por mes (X18 a X23), al igual que la edad (X5)."
      ],
      "metadata": {
        "id": "9iJlG9wILZS2"
      }
    },
    {
      "cell_type": "code",
      "source": [
        "ajustador = MinMaxScaler()\n",
        "datos_escala = datos.copy()\n",
        "columnas_escala = ['X1','X5','X12','X13','X14','X15','X16','X17','X18','X19','X20','X21','X22','X23']\n",
        "columnas_ignora = ['X2','X4','X6','X7','X8','X9','X10','X11','Y']\n",
        "pipeline_escala = Pipeline(steps = [('escalaNum', ajustador)])\n",
        "columnas_escaladas = ColumnTransformer(transformers = [('numpipe', ajustador, columnas_escala)], remainder = 'passthrough')"
      ],
      "metadata": {
        "id": "zkW3m7k0Immc"
      },
      "execution_count": 106,
      "outputs": []
    },
    {
      "cell_type": "code",
      "source": [],
      "metadata": {
        "id": "ixfM2wTbImjt"
      },
      "execution_count": 25,
      "outputs": []
    },
    {
      "cell_type": "markdown",
      "source": [
        "El resultado de la transformación se convierte a un data frame de Pandas y se ordenan las columnas para reflejar el orden original"
      ],
      "metadata": {
        "id": "mCQRKtR8LgOv"
      }
    },
    {
      "cell_type": "code",
      "source": [
        "datos_escala = pd.DataFrame(\n",
        "    columnas_escaladas.fit_transform(datos_escala),\n",
        "    columns =\n",
        "     ['X01','X05','X12','X13','X14','X15','X16','X17','X18','X19','X20','X21','X22','X23'] + \n",
        "     ['X02','X03','X04','X06','X07','X08','X09','X10','X11','Y']\n",
        ")\n",
        "datos_escala = datos_escala.reindex(sorted(datos_escala.columns), axis=1)\n",
        "datos_escala.head()"
      ],
      "metadata": {
        "colab": {
          "base_uri": "https://localhost:8080/",
          "height": 235
        },
        "id": "DeIhA41uR5Ii",
        "outputId": "a47e5b2d-1bab-46f9-df5e-ddeb92f34791"
      },
      "execution_count": 107,
      "outputs": [
        {
          "output_type": "execute_result",
          "data": {
            "text/plain": [
              "        X01  X02  X03  X04       X05  X06  X07  X08  X09  X10  ...       X15  \\\n",
              "0  0.010101  2.0  2.0  1.0  0.051724  2.0  2.0 -1.0 -1.0  2.0  ...  0.160138   \n",
              "1  0.111111  2.0  2.0  2.0  0.086207 -1.0  2.0  0.0  0.0  0.0  ...  0.163220   \n",
              "2  0.080808  2.0  2.0  2.0  0.224138  0.0  0.0  0.0  0.0  0.0  ...  0.173637   \n",
              "3  0.040404  2.0  2.0  1.0  0.275862  0.0  0.0  0.0  0.0  0.0  ...  0.186809   \n",
              "4  0.040404  1.0  2.0  1.0  0.620690 -1.0  0.0 -1.0  0.0  0.0  ...  0.179863   \n",
              "\n",
              "        X16       X17       X18       X19       X20       X21       X22  \\\n",
              "0  0.080648  0.260979  0.000000  0.000409  0.000000  0.000000  0.000000   \n",
              "1  0.084074  0.263485  0.000000  0.000594  0.001116  0.001610  0.000000   \n",
              "2  0.095470  0.272928  0.001738  0.000891  0.001116  0.001610  0.002345   \n",
              "3  0.109363  0.283685  0.002290  0.001199  0.001339  0.001771  0.002506   \n",
              "4  0.099633  0.275681  0.002290  0.021779  0.011160  0.014493  0.001615   \n",
              "\n",
              "        X23    Y  \n",
              "0  0.000000  1.0  \n",
              "1  0.003783  1.0  \n",
              "2  0.009458  0.0  \n",
              "3  0.001892  0.0  \n",
              "4  0.001284  0.0  \n",
              "\n",
              "[5 rows x 24 columns]"
            ],
            "text/html": [
              "\n",
              "  <div id=\"df-638e23e2-6cb2-44d7-9f8c-681f0ab42491\">\n",
              "    <div class=\"colab-df-container\">\n",
              "      <div>\n",
              "<style scoped>\n",
              "    .dataframe tbody tr th:only-of-type {\n",
              "        vertical-align: middle;\n",
              "    }\n",
              "\n",
              "    .dataframe tbody tr th {\n",
              "        vertical-align: top;\n",
              "    }\n",
              "\n",
              "    .dataframe thead th {\n",
              "        text-align: right;\n",
              "    }\n",
              "</style>\n",
              "<table border=\"1\" class=\"dataframe\">\n",
              "  <thead>\n",
              "    <tr style=\"text-align: right;\">\n",
              "      <th></th>\n",
              "      <th>X01</th>\n",
              "      <th>X02</th>\n",
              "      <th>X03</th>\n",
              "      <th>X04</th>\n",
              "      <th>X05</th>\n",
              "      <th>X06</th>\n",
              "      <th>X07</th>\n",
              "      <th>X08</th>\n",
              "      <th>X09</th>\n",
              "      <th>X10</th>\n",
              "      <th>...</th>\n",
              "      <th>X15</th>\n",
              "      <th>X16</th>\n",
              "      <th>X17</th>\n",
              "      <th>X18</th>\n",
              "      <th>X19</th>\n",
              "      <th>X20</th>\n",
              "      <th>X21</th>\n",
              "      <th>X22</th>\n",
              "      <th>X23</th>\n",
              "      <th>Y</th>\n",
              "    </tr>\n",
              "  </thead>\n",
              "  <tbody>\n",
              "    <tr>\n",
              "      <th>0</th>\n",
              "      <td>0.010101</td>\n",
              "      <td>2.0</td>\n",
              "      <td>2.0</td>\n",
              "      <td>1.0</td>\n",
              "      <td>0.051724</td>\n",
              "      <td>2.0</td>\n",
              "      <td>2.0</td>\n",
              "      <td>-1.0</td>\n",
              "      <td>-1.0</td>\n",
              "      <td>2.0</td>\n",
              "      <td>...</td>\n",
              "      <td>0.160138</td>\n",
              "      <td>0.080648</td>\n",
              "      <td>0.260979</td>\n",
              "      <td>0.000000</td>\n",
              "      <td>0.000409</td>\n",
              "      <td>0.000000</td>\n",
              "      <td>0.000000</td>\n",
              "      <td>0.000000</td>\n",
              "      <td>0.000000</td>\n",
              "      <td>1.0</td>\n",
              "    </tr>\n",
              "    <tr>\n",
              "      <th>1</th>\n",
              "      <td>0.111111</td>\n",
              "      <td>2.0</td>\n",
              "      <td>2.0</td>\n",
              "      <td>2.0</td>\n",
              "      <td>0.086207</td>\n",
              "      <td>-1.0</td>\n",
              "      <td>2.0</td>\n",
              "      <td>0.0</td>\n",
              "      <td>0.0</td>\n",
              "      <td>0.0</td>\n",
              "      <td>...</td>\n",
              "      <td>0.163220</td>\n",
              "      <td>0.084074</td>\n",
              "      <td>0.263485</td>\n",
              "      <td>0.000000</td>\n",
              "      <td>0.000594</td>\n",
              "      <td>0.001116</td>\n",
              "      <td>0.001610</td>\n",
              "      <td>0.000000</td>\n",
              "      <td>0.003783</td>\n",
              "      <td>1.0</td>\n",
              "    </tr>\n",
              "    <tr>\n",
              "      <th>2</th>\n",
              "      <td>0.080808</td>\n",
              "      <td>2.0</td>\n",
              "      <td>2.0</td>\n",
              "      <td>2.0</td>\n",
              "      <td>0.224138</td>\n",
              "      <td>0.0</td>\n",
              "      <td>0.0</td>\n",
              "      <td>0.0</td>\n",
              "      <td>0.0</td>\n",
              "      <td>0.0</td>\n",
              "      <td>...</td>\n",
              "      <td>0.173637</td>\n",
              "      <td>0.095470</td>\n",
              "      <td>0.272928</td>\n",
              "      <td>0.001738</td>\n",
              "      <td>0.000891</td>\n",
              "      <td>0.001116</td>\n",
              "      <td>0.001610</td>\n",
              "      <td>0.002345</td>\n",
              "      <td>0.009458</td>\n",
              "      <td>0.0</td>\n",
              "    </tr>\n",
              "    <tr>\n",
              "      <th>3</th>\n",
              "      <td>0.040404</td>\n",
              "      <td>2.0</td>\n",
              "      <td>2.0</td>\n",
              "      <td>1.0</td>\n",
              "      <td>0.275862</td>\n",
              "      <td>0.0</td>\n",
              "      <td>0.0</td>\n",
              "      <td>0.0</td>\n",
              "      <td>0.0</td>\n",
              "      <td>0.0</td>\n",
              "      <td>...</td>\n",
              "      <td>0.186809</td>\n",
              "      <td>0.109363</td>\n",
              "      <td>0.283685</td>\n",
              "      <td>0.002290</td>\n",
              "      <td>0.001199</td>\n",
              "      <td>0.001339</td>\n",
              "      <td>0.001771</td>\n",
              "      <td>0.002506</td>\n",
              "      <td>0.001892</td>\n",
              "      <td>0.0</td>\n",
              "    </tr>\n",
              "    <tr>\n",
              "      <th>4</th>\n",
              "      <td>0.040404</td>\n",
              "      <td>1.0</td>\n",
              "      <td>2.0</td>\n",
              "      <td>1.0</td>\n",
              "      <td>0.620690</td>\n",
              "      <td>-1.0</td>\n",
              "      <td>0.0</td>\n",
              "      <td>-1.0</td>\n",
              "      <td>0.0</td>\n",
              "      <td>0.0</td>\n",
              "      <td>...</td>\n",
              "      <td>0.179863</td>\n",
              "      <td>0.099633</td>\n",
              "      <td>0.275681</td>\n",
              "      <td>0.002290</td>\n",
              "      <td>0.021779</td>\n",
              "      <td>0.011160</td>\n",
              "      <td>0.014493</td>\n",
              "      <td>0.001615</td>\n",
              "      <td>0.001284</td>\n",
              "      <td>0.0</td>\n",
              "    </tr>\n",
              "  </tbody>\n",
              "</table>\n",
              "<p>5 rows × 24 columns</p>\n",
              "</div>\n",
              "      <button class=\"colab-df-convert\" onclick=\"convertToInteractive('df-638e23e2-6cb2-44d7-9f8c-681f0ab42491')\"\n",
              "              title=\"Convert this dataframe to an interactive table.\"\n",
              "              style=\"display:none;\">\n",
              "        \n",
              "  <svg xmlns=\"http://www.w3.org/2000/svg\" height=\"24px\"viewBox=\"0 0 24 24\"\n",
              "       width=\"24px\">\n",
              "    <path d=\"M0 0h24v24H0V0z\" fill=\"none\"/>\n",
              "    <path d=\"M18.56 5.44l.94 2.06.94-2.06 2.06-.94-2.06-.94-.94-2.06-.94 2.06-2.06.94zm-11 1L8.5 8.5l.94-2.06 2.06-.94-2.06-.94L8.5 2.5l-.94 2.06-2.06.94zm10 10l.94 2.06.94-2.06 2.06-.94-2.06-.94-.94-2.06-.94 2.06-2.06.94z\"/><path d=\"M17.41 7.96l-1.37-1.37c-.4-.4-.92-.59-1.43-.59-.52 0-1.04.2-1.43.59L10.3 9.45l-7.72 7.72c-.78.78-.78 2.05 0 2.83L4 21.41c.39.39.9.59 1.41.59.51 0 1.02-.2 1.41-.59l7.78-7.78 2.81-2.81c.8-.78.8-2.07 0-2.86zM5.41 20L4 18.59l7.72-7.72 1.47 1.35L5.41 20z\"/>\n",
              "  </svg>\n",
              "      </button>\n",
              "      \n",
              "  <style>\n",
              "    .colab-df-container {\n",
              "      display:flex;\n",
              "      flex-wrap:wrap;\n",
              "      gap: 12px;\n",
              "    }\n",
              "\n",
              "    .colab-df-convert {\n",
              "      background-color: #E8F0FE;\n",
              "      border: none;\n",
              "      border-radius: 50%;\n",
              "      cursor: pointer;\n",
              "      display: none;\n",
              "      fill: #1967D2;\n",
              "      height: 32px;\n",
              "      padding: 0 0 0 0;\n",
              "      width: 32px;\n",
              "    }\n",
              "\n",
              "    .colab-df-convert:hover {\n",
              "      background-color: #E2EBFA;\n",
              "      box-shadow: 0px 1px 2px rgba(60, 64, 67, 0.3), 0px 1px 3px 1px rgba(60, 64, 67, 0.15);\n",
              "      fill: #174EA6;\n",
              "    }\n",
              "\n",
              "    [theme=dark] .colab-df-convert {\n",
              "      background-color: #3B4455;\n",
              "      fill: #D2E3FC;\n",
              "    }\n",
              "\n",
              "    [theme=dark] .colab-df-convert:hover {\n",
              "      background-color: #434B5C;\n",
              "      box-shadow: 0px 1px 3px 1px rgba(0, 0, 0, 0.15);\n",
              "      filter: drop-shadow(0px 1px 2px rgba(0, 0, 0, 0.3));\n",
              "      fill: #FFFFFF;\n",
              "    }\n",
              "  </style>\n",
              "\n",
              "      <script>\n",
              "        const buttonEl =\n",
              "          document.querySelector('#df-638e23e2-6cb2-44d7-9f8c-681f0ab42491 button.colab-df-convert');\n",
              "        buttonEl.style.display =\n",
              "          google.colab.kernel.accessAllowed ? 'block' : 'none';\n",
              "\n",
              "        async function convertToInteractive(key) {\n",
              "          const element = document.querySelector('#df-638e23e2-6cb2-44d7-9f8c-681f0ab42491');\n",
              "          const dataTable =\n",
              "            await google.colab.kernel.invokeFunction('convertToInteractive',\n",
              "                                                     [key], {});\n",
              "          if (!dataTable) return;\n",
              "\n",
              "          const docLinkHtml = 'Like what you see? Visit the ' +\n",
              "            '<a target=\"_blank\" href=https://colab.research.google.com/notebooks/data_table.ipynb>data table notebook</a>'\n",
              "            + ' to learn more about interactive tables.';\n",
              "          element.innerHTML = '';\n",
              "          dataTable['output_type'] = 'display_data';\n",
              "          await google.colab.output.renderOutput(dataTable, element);\n",
              "          const docLink = document.createElement('div');\n",
              "          docLink.innerHTML = docLinkHtml;\n",
              "          element.appendChild(docLink);\n",
              "        }\n",
              "      </script>\n",
              "    </div>\n",
              "  </div>\n",
              "  "
            ]
          },
          "metadata": {},
          "execution_count": 107
        }
      ]
    },
    {
      "cell_type": "code",
      "source": [],
      "metadata": {
        "id": "dImUP92ZR5Fe"
      },
      "execution_count": null,
      "outputs": []
    },
    {
      "cell_type": "markdown",
      "source": [
        "Se realiza un análisis de componentes principales con el objetivo de obtener hasta un 95% de la variación. Dependiendo del metodo de normalización de datos PCA puede seleccionar 8 valores con la función MinMaxScaler o 15 columnas si se usa la función StandardScaler."
      ],
      "metadata": {
        "id": "5eKrGL_lTRUJ"
      }
    },
    {
      "cell_type": "code",
      "source": [
        "pca = PCA(n_components=0.95) #n_components=0.95\n",
        "pca.fit(datos_escala.drop(columns=['Y']))\n",
        "pca_resumen = pd.DataFrame({'Standard deviation': np.sqrt(pca.explained_variance_),\n",
        "                          'Proportion of variance': pca.explained_variance_ratio_,\n",
        "                          'Cumulative proportion': np.cumsum(pca.explained_variance_ratio_) \n",
        "                          }\n",
        "                          )\n",
        "pca_resumen.transpose().round(2) #.set_axis(pca.feature_names_in_, axis='columns')"
      ],
      "metadata": {
        "colab": {
          "base_uri": "https://localhost:8080/",
          "height": 143
        },
        "id": "Y_YCATpsR5Cf",
        "outputId": "5cf93fe4-5536-4072-83b0-55df970cf7f9"
      },
      "execution_count": 108,
      "outputs": [
        {
          "output_type": "execute_result",
          "data": {
            "text/plain": [
              "                           0     1     2     3     4     5     6     7\n",
              "Standard deviation      2.23  1.03  0.76  0.72  0.64  0.54  0.51  0.50\n",
              "Proportion of variance  0.58  0.12  0.07  0.06  0.05  0.03  0.03  0.03\n",
              "Cumulative proportion   0.58  0.70  0.77  0.83  0.87  0.91  0.94  0.97"
            ],
            "text/html": [
              "\n",
              "  <div id=\"df-d4aae2fc-edcb-4a3a-b2c1-eee167451943\">\n",
              "    <div class=\"colab-df-container\">\n",
              "      <div>\n",
              "<style scoped>\n",
              "    .dataframe tbody tr th:only-of-type {\n",
              "        vertical-align: middle;\n",
              "    }\n",
              "\n",
              "    .dataframe tbody tr th {\n",
              "        vertical-align: top;\n",
              "    }\n",
              "\n",
              "    .dataframe thead th {\n",
              "        text-align: right;\n",
              "    }\n",
              "</style>\n",
              "<table border=\"1\" class=\"dataframe\">\n",
              "  <thead>\n",
              "    <tr style=\"text-align: right;\">\n",
              "      <th></th>\n",
              "      <th>0</th>\n",
              "      <th>1</th>\n",
              "      <th>2</th>\n",
              "      <th>3</th>\n",
              "      <th>4</th>\n",
              "      <th>5</th>\n",
              "      <th>6</th>\n",
              "      <th>7</th>\n",
              "    </tr>\n",
              "  </thead>\n",
              "  <tbody>\n",
              "    <tr>\n",
              "      <th>Standard deviation</th>\n",
              "      <td>2.23</td>\n",
              "      <td>1.03</td>\n",
              "      <td>0.76</td>\n",
              "      <td>0.72</td>\n",
              "      <td>0.64</td>\n",
              "      <td>0.54</td>\n",
              "      <td>0.51</td>\n",
              "      <td>0.50</td>\n",
              "    </tr>\n",
              "    <tr>\n",
              "      <th>Proportion of variance</th>\n",
              "      <td>0.58</td>\n",
              "      <td>0.12</td>\n",
              "      <td>0.07</td>\n",
              "      <td>0.06</td>\n",
              "      <td>0.05</td>\n",
              "      <td>0.03</td>\n",
              "      <td>0.03</td>\n",
              "      <td>0.03</td>\n",
              "    </tr>\n",
              "    <tr>\n",
              "      <th>Cumulative proportion</th>\n",
              "      <td>0.58</td>\n",
              "      <td>0.70</td>\n",
              "      <td>0.77</td>\n",
              "      <td>0.83</td>\n",
              "      <td>0.87</td>\n",
              "      <td>0.91</td>\n",
              "      <td>0.94</td>\n",
              "      <td>0.97</td>\n",
              "    </tr>\n",
              "  </tbody>\n",
              "</table>\n",
              "</div>\n",
              "      <button class=\"colab-df-convert\" onclick=\"convertToInteractive('df-d4aae2fc-edcb-4a3a-b2c1-eee167451943')\"\n",
              "              title=\"Convert this dataframe to an interactive table.\"\n",
              "              style=\"display:none;\">\n",
              "        \n",
              "  <svg xmlns=\"http://www.w3.org/2000/svg\" height=\"24px\"viewBox=\"0 0 24 24\"\n",
              "       width=\"24px\">\n",
              "    <path d=\"M0 0h24v24H0V0z\" fill=\"none\"/>\n",
              "    <path d=\"M18.56 5.44l.94 2.06.94-2.06 2.06-.94-2.06-.94-.94-2.06-.94 2.06-2.06.94zm-11 1L8.5 8.5l.94-2.06 2.06-.94-2.06-.94L8.5 2.5l-.94 2.06-2.06.94zm10 10l.94 2.06.94-2.06 2.06-.94-2.06-.94-.94-2.06-.94 2.06-2.06.94z\"/><path d=\"M17.41 7.96l-1.37-1.37c-.4-.4-.92-.59-1.43-.59-.52 0-1.04.2-1.43.59L10.3 9.45l-7.72 7.72c-.78.78-.78 2.05 0 2.83L4 21.41c.39.39.9.59 1.41.59.51 0 1.02-.2 1.41-.59l7.78-7.78 2.81-2.81c.8-.78.8-2.07 0-2.86zM5.41 20L4 18.59l7.72-7.72 1.47 1.35L5.41 20z\"/>\n",
              "  </svg>\n",
              "      </button>\n",
              "      \n",
              "  <style>\n",
              "    .colab-df-container {\n",
              "      display:flex;\n",
              "      flex-wrap:wrap;\n",
              "      gap: 12px;\n",
              "    }\n",
              "\n",
              "    .colab-df-convert {\n",
              "      background-color: #E8F0FE;\n",
              "      border: none;\n",
              "      border-radius: 50%;\n",
              "      cursor: pointer;\n",
              "      display: none;\n",
              "      fill: #1967D2;\n",
              "      height: 32px;\n",
              "      padding: 0 0 0 0;\n",
              "      width: 32px;\n",
              "    }\n",
              "\n",
              "    .colab-df-convert:hover {\n",
              "      background-color: #E2EBFA;\n",
              "      box-shadow: 0px 1px 2px rgba(60, 64, 67, 0.3), 0px 1px 3px 1px rgba(60, 64, 67, 0.15);\n",
              "      fill: #174EA6;\n",
              "    }\n",
              "\n",
              "    [theme=dark] .colab-df-convert {\n",
              "      background-color: #3B4455;\n",
              "      fill: #D2E3FC;\n",
              "    }\n",
              "\n",
              "    [theme=dark] .colab-df-convert:hover {\n",
              "      background-color: #434B5C;\n",
              "      box-shadow: 0px 1px 3px 1px rgba(0, 0, 0, 0.15);\n",
              "      filter: drop-shadow(0px 1px 2px rgba(0, 0, 0, 0.3));\n",
              "      fill: #FFFFFF;\n",
              "    }\n",
              "  </style>\n",
              "\n",
              "      <script>\n",
              "        const buttonEl =\n",
              "          document.querySelector('#df-d4aae2fc-edcb-4a3a-b2c1-eee167451943 button.colab-df-convert');\n",
              "        buttonEl.style.display =\n",
              "          google.colab.kernel.accessAllowed ? 'block' : 'none';\n",
              "\n",
              "        async function convertToInteractive(key) {\n",
              "          const element = document.querySelector('#df-d4aae2fc-edcb-4a3a-b2c1-eee167451943');\n",
              "          const dataTable =\n",
              "            await google.colab.kernel.invokeFunction('convertToInteractive',\n",
              "                                                     [key], {});\n",
              "          if (!dataTable) return;\n",
              "\n",
              "          const docLinkHtml = 'Like what you see? Visit the ' +\n",
              "            '<a target=\"_blank\" href=https://colab.research.google.com/notebooks/data_table.ipynb>data table notebook</a>'\n",
              "            + ' to learn more about interactive tables.';\n",
              "          element.innerHTML = '';\n",
              "          dataTable['output_type'] = 'display_data';\n",
              "          await google.colab.output.renderOutput(dataTable, element);\n",
              "          const docLink = document.createElement('div');\n",
              "          docLink.innerHTML = docLinkHtml;\n",
              "          element.appendChild(docLink);\n",
              "        }\n",
              "      </script>\n",
              "    </div>\n",
              "  </div>\n",
              "  "
            ]
          },
          "metadata": {},
          "execution_count": 108
        }
      ]
    },
    {
      "cell_type": "code",
      "source": [
        "pca.feature_names_in_"
      ],
      "metadata": {
        "colab": {
          "base_uri": "https://localhost:8080/"
        },
        "id": "gtHMw3E_R4_U",
        "outputId": "bf908e1a-df5b-4dfd-a757-bccf2b38dd07"
      },
      "execution_count": 109,
      "outputs": [
        {
          "output_type": "execute_result",
          "data": {
            "text/plain": [
              "array(['X01', 'X02', 'X03', 'X04', 'X05', 'X06', 'X07', 'X08', 'X09',\n",
              "       'X10', 'X11', 'X12', 'X13', 'X14', 'X15', 'X16', 'X17', 'X18',\n",
              "       'X19', 'X20', 'X21', 'X22', 'X23'], dtype=object)"
            ]
          },
          "metadata": {},
          "execution_count": 109
        }
      ]
    },
    {
      "cell_type": "code",
      "source": [
        "PC_components = np.arange(pca.n_components_) + 1\n",
        "#PC_components\n",
        "\n",
        "_ = sns.set(style = 'whitegrid', \n",
        "            font_scale = 1.2\n",
        "            )\n",
        "\n",
        "fig, ax = plot.subplots(figsize=(10, 7))\n",
        "\n",
        "_ = sns.barplot(x = PC_components, \n",
        "                y = pca.explained_variance_ratio_, \n",
        "                color = 'b'\n",
        "                )\n",
        "\n",
        "_ = sns.lineplot(x = PC_components-1, \n",
        "                 y = np.cumsum(pca.explained_variance_ratio_), \n",
        "                 color = 'black', \n",
        "                 linestyle = '-', \n",
        "                 linewidth = 2, \n",
        "                 marker = 'o', \n",
        "                 markersize = 8\n",
        "                 )\n",
        "\n",
        "plot.title('Scree Plot')\n",
        "plot.xlabel('N-th Principal Component')\n",
        "plot.ylabel('Variance Explained')\n",
        "plot.ylim(0, 1)\n",
        "plot.show()"
      ],
      "metadata": {
        "colab": {
          "base_uri": "https://localhost:8080/",
          "height": 469
        },
        "id": "aVosOrJkR48B",
        "outputId": "3f87f159-6556-4a0a-b24b-c9c074b2e86c"
      },
      "execution_count": 110,
      "outputs": [
        {
          "output_type": "display_data",
          "data": {
            "text/plain": [
              "<Figure size 720x504 with 1 Axes>"
            ],
            "image/png": "[encoded data removed]"
          },
          "metadata": {}
        }
      ]
    },
    {
      "cell_type": "code",
      "source": [
        "pca.components_"
      ],
      "metadata": {
        "colab": {
          "base_uri": "https://localhost:8080/"
        },
        "id": "339NCOkfR4zj",
        "outputId": "977554a4-2b40-42c9-d129-37dd3cbc9a32"
      },
      "execution_count": 111,
      "outputs": [
        {
          "output_type": "execute_result",
          "data": {
            "text/plain": [
              "array([[-5.26155212e-03, -2.57950738e-03,  9.70904657e-03,\n",
              "        -4.09072737e-03,  9.52925660e-04,  3.64545146e-01,\n",
              "         4.13698249e-01,  4.30328155e-01,  4.33791581e-01,\n",
              "         4.15135164e-01,  3.87430108e-01, -1.84702475e-03,\n",
              "        -1.87750955e-03, -1.01613591e-03, -1.47234690e-03,\n",
              "        -1.18247542e-03, -7.86823064e-04, -8.31132254e-04,\n",
              "        -4.93851048e-04, -8.78283637e-04, -9.98265463e-04,\n",
              "        -1.31857989e-03, -1.00241341e-03],\n",
              "       [ 2.60185830e-03, -4.19981048e-03, -4.97825920e-02,\n",
              "         4.15892558e-03, -1.79751929e-03, -4.62472557e-01,\n",
              "        -5.24587752e-01, -1.79279654e-01,  2.14534505e-01,\n",
              "         4.27476063e-01,  4.97396246e-01, -4.24599623e-03,\n",
              "        -4.62670859e-03, -2.60167727e-03, -3.98225893e-03,\n",
              "        -4.18678677e-03, -3.16594789e-03,  7.54327925e-04,\n",
              "         1.12594631e-04, -2.78042668e-04, -1.52445975e-03,\n",
              "        -2.35804523e-03, -6.04993009e-04],\n",
              "       [ 2.15191415e-03,  3.95745567e-03, -7.18144441e-02,\n",
              "         1.48667966e-02, -2.67886390e-03, -4.12465415e-01,\n",
              "        -1.78827231e-01,  5.90651013e-01,  4.54485777e-01,\n",
              "        -1.00288571e-01, -4.76418983e-01, -2.25322805e-03,\n",
              "        -1.95606868e-03, -1.29893970e-03, -1.88317774e-03,\n",
              "        -1.76216038e-03, -9.03630116e-04,  6.97983923e-04,\n",
              "        -9.60249072e-04, -1.27122592e-03,  2.20077633e-04,\n",
              "         2.65410006e-03,  5.79005527e-04],\n",
              "       [-3.91085880e-02,  2.16155054e-02,  9.65299897e-01,\n",
              "        -2.31124292e-01,  5.68734162e-02, -3.30166954e-02,\n",
              "        -6.29679418e-02,  1.80364128e-02,  6.01808656e-02,\n",
              "         5.50618768e-03, -2.22040449e-02,  3.42617457e-04,\n",
              "         1.47162976e-05, -2.27589357e-04, -1.28437585e-03,\n",
              "        -1.60251391e-03, -1.06616350e-03, -8.72268674e-04,\n",
              "        -6.88480142e-04, -1.45929508e-03, -1.44927923e-03,\n",
              "        -2.21889649e-03, -2.23852124e-03],\n",
              "       [-7.85555957e-03, -5.20343452e-03,  3.31380666e-02,\n",
              "         1.17809739e-02, -3.99397588e-03, -3.37202655e-01,\n",
              "         1.20889455e-01,  5.27509739e-01, -4.89609209e-01,\n",
              "        -3.24327998e-01,  4.97095498e-01, -2.44566043e-03,\n",
              "        -2.44586542e-03, -2.18646504e-03, -2.66840880e-03,\n",
              "        -2.06450244e-03, -1.98397424e-03, -5.29974333e-04,\n",
              "        -1.70650092e-03,  1.14866173e-03,  1.61788346e-03,\n",
              "        -4.43115060e-03, -1.82576835e-03],\n",
              "       [ 2.85064314e-03, -1.32815622e-02, -1.40437987e-03,\n",
              "        -1.17096041e-01,  1.55821797e-02, -5.74315534e-01,\n",
              "         6.48521637e-01, -2.06153975e-01, -1.16832859e-01,\n",
              "         3.75355556e-01, -1.95845178e-01, -1.40487370e-03,\n",
              "        -2.92600169e-03, -1.17788291e-03, -1.94360926e-03,\n",
              "        -2.68312875e-03, -1.60282926e-03, -3.07073072e-03,\n",
              "         4.97321512e-04,  2.61946661e-04, -2.69495907e-03,\n",
              "         1.19037301e-03, -4.11474167e-04],\n",
              "       [-5.17221763e-02, -2.43474318e-01,  2.27674082e-01,\n",
              "         9.09039139e-01, -1.04087574e-01, -9.42697028e-02,\n",
              "         1.16755946e-01, -9.60579021e-02,  1.07013401e-01,\n",
              "        -7.03740175e-02,  2.80407474e-02, -3.10014387e-03,\n",
              "        -3.54025116e-03, -2.28750106e-03, -4.15044089e-03,\n",
              "        -4.46399246e-03, -2.96491755e-03, -1.55686113e-03,\n",
              "        -4.22723484e-04, -1.48946033e-03, -1.09310410e-03,\n",
              "        -1.92145216e-03, -1.91705847e-03],\n",
              "       [ 7.36646187e-03, -1.20989428e-01, -5.66653548e-02,\n",
              "        -2.16134323e-01,  2.98870381e-02, -1.63293355e-01,\n",
              "         2.52343144e-01, -3.14723675e-01,  5.31874499e-01,\n",
              "        -6.13159387e-01,  2.93586059e-01, -3.98677199e-04,\n",
              "        -1.32345647e-03, -2.27001156e-04, -1.23348283e-03,\n",
              "         2.46749280e-04, -3.75743551e-04, -1.60228631e-03,\n",
              "         6.04718265e-04, -3.04598121e-03,  4.43541648e-03,\n",
              "        -3.56467562e-03, -5.56678091e-04]])"
            ]
          },
          "metadata": {},
          "execution_count": 111
        }
      ]
    },
    {
      "cell_type": "code",
      "source": [
        "pca.explained_variance_"
      ],
      "metadata": {
        "colab": {
          "base_uri": "https://localhost:8080/"
        },
        "id": "6ANiXMjtImXh",
        "outputId": "c8d86477-db42-4e08-d0d8-fa738ef66cec"
      },
      "execution_count": 112,
      "outputs": [
        {
          "output_type": "execute_result",
          "data": {
            "text/plain": [
              "array([4.99354515, 1.05469615, 0.58075309, 0.51579438, 0.40598241,\n",
              "       0.2890952 , 0.26499476, 0.24811841])"
            ]
          },
          "metadata": {},
          "execution_count": 112
        }
      ]
    },
    {
      "cell_type": "code",
      "source": [],
      "metadata": {
        "id": "BXrXhU6iImU_"
      },
      "execution_count": null,
      "outputs": []
    },
    {
      "cell_type": "markdown",
      "source": [
        "A continuación se despliegan las gráficas de caja y bigotes"
      ],
      "metadata": {
        "id": "Qzf-p0ntTnDg"
      }
    },
    {
      "cell_type": "code",
      "source": [
        "# Se define una ventana de 4 x 6 para desplegar una gráfica muesta de cada columna.\n",
        "# Los gráficos resultantes deberán mostrar distribuciones muy similares a las obtenidas\n",
        "# inicialmente\n",
        "figura, ejes = plot.subplots(4, 6)\n",
        "for subi in range(0,24):\n",
        "  plot.subplot(4, 6, (subi + 1))\n",
        "  plot.boxplot(datos_escala[datos_escala.columns[subi]])\n",
        "  plot.xlabel(datos_escala.columns[subi])\n",
        "plot.show()"
      ],
      "metadata": {
        "colab": {
          "base_uri": "https://localhost:8080/",
          "height": 887
        },
        "id": "XLJGdHHmImRv",
        "outputId": "ff819862-1e22-474b-a023-4fb7c719194d"
      },
      "execution_count": 113,
      "outputs": [
        {
          "output_type": "display_data",
          "data": {
            "text/plain": [
              "<Figure size 1440x1080 with 24 Axes>"
            ],
            "image/png": "[encoded data removed]"
          },
          "metadata": {}
        }
      ]
    },
    {
      "cell_type": "code",
      "source": [],
      "metadata": {
        "id": "g35YRpgyTiJS"
      },
      "execution_count": null,
      "outputs": []
    },
    {
      "cell_type": "code",
      "source": [],
      "metadata": {
        "id": "GSFAKAUYTiHI"
      },
      "execution_count": null,
      "outputs": []
    },
    {
      "cell_type": "code",
      "source": [],
      "metadata": {
        "id": "Y8rBOev2TiER"
      },
      "execution_count": null,
      "outputs": []
    },
    {
      "cell_type": "markdown",
      "source": [
        "Parte 2: Responde las siguientes preguntas en una celda de texto en Jupyter Notebook\n",
        "¿Cuál es el número de componentes mínimo y por qué?\n",
        "\n",
        "El número mínimo de componentes depende de la función de normalización utilizada. En nuestro caso usamos el método MixMaxScaler de scikit-learn y el número de componentes mínimo fue 8, 'X1', 'X2', 'X3', 'X4', 'X5', 'X6', 'X7', 'X8', 'X9'. Si se usa el método StandardScaler de scikit-learn el número de componentes se incrementa a 15. ¿Cuál es la variación de los datos que representan esos componentes? Los componentes seleccionados representan el 97% de la variación de los datos.\n",
        "\n",
        "¿Cuál es la pérdida de información después de realizar PCA?\n",
        "\n",
        "Se estima una pérdida del 3%\n",
        "\n",
        "De las variables originales, ¿Cuál tiene mayor y cuál tiene menor importancia en los componentes principales?\n",
        "\n",
        "La variable X1-X01, o el monto del préstamo, tiene la mayor importancia, seguida por sexo del cliente o X2/X02. Por lo que respecta a las variables menos importantes los saldos a pagar en los últimos 5 meses, o los pagos hechos en los últimos 5 meses prácticamente no tiene importancia desde el punto de vista de variación de datos.\n",
        "\n",
        "¿Cuándo se recomienda realizar un PCA y qué beneficios ofrece para Machine Learning?\n",
        "\n",
        "El uso de PCA y/o otras técnicas de reducción de dimensiones es recomendado solo cuando el conjunto de datos de entrenamiento tiene muchas características y hace el entrenamiento de los modelos muy lento, o complica el proceso de encontrar un buen modelo (Géron, 2019).\n",
        "\n",
        "Además de reducir el tiempo de entrenamiento y facilitar el proceso de determinar el mejor modelo a través de conjuntos de datos más sencillos, las técnicas de reducción de dimensiones también pueden mejorar la visualización de datos y la identificación de patrones (Géron, 2019).\n",
        "\n",
        "Referencias.\n",
        "\n",
        "Géron, A., (2019), “Hands-On Machine Learning with Scikit-Learn, Keras, and TensorFlow”, O´Reilly"
      ],
      "metadata": {
        "id": "z3zQD8PvTzm_"
      }
    },
    {
      "cell_type": "code",
      "source": [],
      "metadata": {
        "id": "qqwsLqBbTiBS"
      },
      "execution_count": null,
      "outputs": []
    },
    {
      "cell_type": "code",
      "source": [],
      "metadata": {
        "id": "-amfds5JTh-U"
      },
      "execution_count": null,
      "outputs": []
    },
    {
      "cell_type": "code",
      "source": [],
      "metadata": {
        "id": "X5LYdXR-Th7g"
      },
      "execution_count": null,
      "outputs": []
    },
    {
      "cell_type": "code",
      "source": [],
      "metadata": {
        "id": "PmIFlsZLTh4q"
      },
      "execution_count": null,
      "outputs": []
    },
    {
      "cell_type": "code",
      "source": [],
      "metadata": {
        "id": "pnrzAXr8Th1v"
      },
      "execution_count": null,
      "outputs": []
    },
    {
      "cell_type": "code",
      "source": [],
      "metadata": {
        "id": "T-D3hPZxThtW"
      },
      "execution_count": null,
      "outputs": []
    },
    {
      "cell_type": "code",
      "source": [],
      "metadata": {
        "id": "5Sg_JahBImO7"
      },
      "execution_count": null,
      "outputs": []
    },
    {
      "cell_type": "code",
      "source": [],
      "metadata": {
        "id": "n1bqYGnyGP0H"
      },
      "execution_count": null,
      "outputs": []
    }
  ]
}