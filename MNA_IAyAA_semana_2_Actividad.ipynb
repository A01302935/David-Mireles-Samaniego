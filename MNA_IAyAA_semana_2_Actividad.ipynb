{
  "nbformat": 4,
  "nbformat_minor": 0,
  "metadata": {
    "colab": {
      "provenance": [],
      "collapsed_sections": [
        "PZ-e_gK8dIqV",
        "gn3kKEGSI-rB",
        "4mzuVEV76Owg",
        "MWnC5yszs7VR"
      ],
      "include_colab_link": true
    },
    "kernelspec": {
      "name": "python3",
      "display_name": "Python 3"
    }
  },
  "cells": [
    {
      "cell_type": "markdown",
      "metadata": {
        "id": "view-in-github",
        "colab_type": "text"
      },
      "source": [
        "<a href=\"https://colab.research.google.com/github/A01302935/David-Mireles-Samaniego/blob/main/MNA_IAyAA_semana_2_Actividad.ipynb\" target=\"_parent\"><img src=\"https://colab.research.google.com/assets/colab-badge.svg\" alt=\"Open In Colab\"/></a>"
      ]
    },
    {
      "cell_type": "code",
      "source": [
        "\n"
      ],
      "metadata": {
        "id": "PNXzryHGt1CL"
      },
      "execution_count": null,
      "outputs": []
    },
    {
      "cell_type": "markdown",
      "source": [
        "#**Actividad de la semana 2**\n",
        "\n",
        "###**Maestría en Inteligencia Artificial Aplicada**\n",
        "###**Curso: Inteligencia Artificial y Aprendizaje Automático**\n",
        "####**Tecnológico de Monterrey**\n",
        "#####**Prof Luis Eduardo Falcón Morales**\n",
        "\n",
        "###**Nombre del estudiante: (David Mireles Samaniego)**\n",
        "\n",
        "###**Matrícula: (A01302935)**"
      ],
      "metadata": {
        "id": "PZ-e_gK8dIqV"
      }
    },
    {
      "cell_type": "markdown",
      "source": [
        "**NOTAS:**\n",
        "\n",
        "*   El siguiente documento supone que ejecutarás el archivo con Google-Colab.\n",
        "*   Se trabajará solamente con el archivo \"california_housing_train.csv\".\n",
        "*   Si no trabajas con Google-Colab, deberás descargar el archivo y trabajarlo en la aplicación de tu preferencia.\n",
        "*   Esta actividad consta solamente de 3 ejercicios, dividios en 3 partes.\n",
        "*   **Solamente deberás modificar este archivo agregando tus líneas de código en las 3 partes que se te indican.** \n",
        "*   **Cualquier modificación fuera de estas áreas te restará puntos a la actividad.**"
      ],
      "metadata": {
        "id": "fK-Lmp38ud_Z"
      }
    },
    {
      "cell_type": "code",
      "source": [
        "import numpy as np\n",
        "import pandas as pd\n",
        "import matplotlib.pyplot as plt \n",
        "import seaborn as sns  \n",
        "import os\n",
        "\n",
        "from sklearn.pipeline import Pipeline\n",
        "from sklearn.model_selection import KFold\n",
        "from sklearn.compose import ColumnTransformer\n",
        "from sklearn.preprocessing import power_transform\n",
        "from sklearn.preprocessing import FunctionTransformer\n",
        "\n",
        "from sklearn.impute import SimpleImputer\n",
        "from sklearn.preprocessing import MinMaxScaler  \n",
        "from sklearn.linear_model import LinearRegression"
      ],
      "metadata": {
        "id": "q6iEu4qMuiqX"
      },
      "execution_count": 2,
      "outputs": []
    },
    {
      "cell_type": "code",
      "source": [
        "# Cargamos el archivo que está en la siguiente carpeta de Google-Colab:\n",
        "DIR = \"/content/sample_data/\"\n",
        "os.chdir(DIR)\n",
        "\n",
        "datatrain = pd.read_csv(\"california_housing_train.csv\", sep=\",\")\n",
        "datatrain.head()\n",
        "\n",
        "datatest = pd.read_csv(\"california_housing_test.csv\", sep=\",\")\n",
        "datatest.head()"
      ],
      "metadata": {
        "id": "_wBCY35nukPF",
        "colab": {
          "base_uri": "https://localhost:8080/",
          "height": 206
        },
        "outputId": "119fe377-9a52-403e-8fd6-232823a2fabf"
      },
      "execution_count": 8,
      "outputs": [
        {
          "output_type": "execute_result",
          "data": {
            "text/plain": [
              "   longitude  latitude  housing_median_age  total_rooms  total_bedrooms  \\\n",
              "0    -122.05     37.37                27.0       3885.0           661.0   \n",
              "1    -118.30     34.26                43.0       1510.0           310.0   \n",
              "2    -117.81     33.78                27.0       3589.0           507.0   \n",
              "3    -118.36     33.82                28.0         67.0            15.0   \n",
              "4    -119.67     36.33                19.0       1241.0           244.0   \n",
              "\n",
              "   population  households  median_income  median_house_value  \n",
              "0      1537.0       606.0         6.6085            344700.0  \n",
              "1       809.0       277.0         3.5990            176500.0  \n",
              "2      1484.0       495.0         5.7934            270500.0  \n",
              "3        49.0        11.0         6.1359            330000.0  \n",
              "4       850.0       237.0         2.9375             81700.0  "
            ],
            "text/html": [
              "\n",
              "  <div id=\"df-f6b28f50-18dc-4e8b-9462-b982430c2d0a\">\n",
              "    <div class=\"colab-df-container\">\n",
              "      <div>\n",
              "<style scoped>\n",
              "    .dataframe tbody tr th:only-of-type {\n",
              "        vertical-align: middle;\n",
              "    }\n",
              "\n",
              "    .dataframe tbody tr th {\n",
              "        vertical-align: top;\n",
              "    }\n",
              "\n",
              "    .dataframe thead th {\n",
              "        text-align: right;\n",
              "    }\n",
              "</style>\n",
              "<table border=\"1\" class=\"dataframe\">\n",
              "  <thead>\n",
              "    <tr style=\"text-align: right;\">\n",
              "      <th></th>\n",
              "      <th>longitude</th>\n",
              "      <th>latitude</th>\n",
              "      <th>housing_median_age</th>\n",
              "      <th>total_rooms</th>\n",
              "      <th>total_bedrooms</th>\n",
              "      <th>population</th>\n",
              "      <th>households</th>\n",
              "      <th>median_income</th>\n",
              "      <th>median_house_value</th>\n",
              "    </tr>\n",
              "  </thead>\n",
              "  <tbody>\n",
              "    <tr>\n",
              "      <th>0</th>\n",
              "      <td>-122.05</td>\n",
              "      <td>37.37</td>\n",
              "      <td>27.0</td>\n",
              "      <td>3885.0</td>\n",
              "      <td>661.0</td>\n",
              "      <td>1537.0</td>\n",
              "      <td>606.0</td>\n",
              "      <td>6.6085</td>\n",
              "      <td>344700.0</td>\n",
              "    </tr>\n",
              "    <tr>\n",
              "      <th>1</th>\n",
              "      <td>-118.30</td>\n",
              "      <td>34.26</td>\n",
              "      <td>43.0</td>\n",
              "      <td>1510.0</td>\n",
              "      <td>310.0</td>\n",
              "      <td>809.0</td>\n",
              "      <td>277.0</td>\n",
              "      <td>3.5990</td>\n",
              "      <td>176500.0</td>\n",
              "    </tr>\n",
              "    <tr>\n",
              "      <th>2</th>\n",
              "      <td>-117.81</td>\n",
              "      <td>33.78</td>\n",
              "      <td>27.0</td>\n",
              "      <td>3589.0</td>\n",
              "      <td>507.0</td>\n",
              "      <td>1484.0</td>\n",
              "      <td>495.0</td>\n",
              "      <td>5.7934</td>\n",
              "      <td>270500.0</td>\n",
              "    </tr>\n",
              "    <tr>\n",
              "      <th>3</th>\n",
              "      <td>-118.36</td>\n",
              "      <td>33.82</td>\n",
              "      <td>28.0</td>\n",
              "      <td>67.0</td>\n",
              "      <td>15.0</td>\n",
              "      <td>49.0</td>\n",
              "      <td>11.0</td>\n",
              "      <td>6.1359</td>\n",
              "      <td>330000.0</td>\n",
              "    </tr>\n",
              "    <tr>\n",
              "      <th>4</th>\n",
              "      <td>-119.67</td>\n",
              "      <td>36.33</td>\n",
              "      <td>19.0</td>\n",
              "      <td>1241.0</td>\n",
              "      <td>244.0</td>\n",
              "      <td>850.0</td>\n",
              "      <td>237.0</td>\n",
              "      <td>2.9375</td>\n",
              "      <td>81700.0</td>\n",
              "    </tr>\n",
              "  </tbody>\n",
              "</table>\n",
              "</div>\n",
              "      <button class=\"colab-df-convert\" onclick=\"convertToInteractive('df-f6b28f50-18dc-4e8b-9462-b982430c2d0a')\"\n",
              "              title=\"Convert this dataframe to an interactive table.\"\n",
              "              style=\"display:none;\">\n",
              "        \n",
              "  <svg xmlns=\"http://www.w3.org/2000/svg\" height=\"24px\"viewBox=\"0 0 24 24\"\n",
              "       width=\"24px\">\n",
              "    <path d=\"M0 0h24v24H0V0z\" fill=\"none\"/>\n",
              "    <path d=\"M18.56 5.44l.94 2.06.94-2.06 2.06-.94-2.06-.94-.94-2.06-.94 2.06-2.06.94zm-11 1L8.5 8.5l.94-2.06 2.06-.94-2.06-.94L8.5 2.5l-.94 2.06-2.06.94zm10 10l.94 2.06.94-2.06 2.06-.94-2.06-.94-.94-2.06-.94 2.06-2.06.94z\"/><path d=\"M17.41 7.96l-1.37-1.37c-.4-.4-.92-.59-1.43-.59-.52 0-1.04.2-1.43.59L10.3 9.45l-7.72 7.72c-.78.78-.78 2.05 0 2.83L4 21.41c.39.39.9.59 1.41.59.51 0 1.02-.2 1.41-.59l7.78-7.78 2.81-2.81c.8-.78.8-2.07 0-2.86zM5.41 20L4 18.59l7.72-7.72 1.47 1.35L5.41 20z\"/>\n",
              "  </svg>\n",
              "      </button>\n",
              "      \n",
              "  <style>\n",
              "    .colab-df-container {\n",
              "      display:flex;\n",
              "      flex-wrap:wrap;\n",
              "      gap: 12px;\n",
              "    }\n",
              "\n",
              "    .colab-df-convert {\n",
              "      background-color: #E8F0FE;\n",
              "      border: none;\n",
              "      border-radius: 50%;\n",
              "      cursor: pointer;\n",
              "      display: none;\n",
              "      fill: #1967D2;\n",
              "      height: 32px;\n",
              "      padding: 0 0 0 0;\n",
              "      width: 32px;\n",
              "    }\n",
              "\n",
              "    .colab-df-convert:hover {\n",
              "      background-color: #E2EBFA;\n",
              "      box-shadow: 0px 1px 2px rgba(60, 64, 67, 0.3), 0px 1px 3px 1px rgba(60, 64, 67, 0.15);\n",
              "      fill: #174EA6;\n",
              "    }\n",
              "\n",
              "    [theme=dark] .colab-df-convert {\n",
              "      background-color: #3B4455;\n",
              "      fill: #D2E3FC;\n",
              "    }\n",
              "\n",
              "    [theme=dark] .colab-df-convert:hover {\n",
              "      background-color: #434B5C;\n",
              "      box-shadow: 0px 1px 3px 1px rgba(0, 0, 0, 0.15);\n",
              "      filter: drop-shadow(0px 1px 2px rgba(0, 0, 0, 0.3));\n",
              "      fill: #FFFFFF;\n",
              "    }\n",
              "  </style>\n",
              "\n",
              "      <script>\n",
              "        const buttonEl =\n",
              "          document.querySelector('#df-f6b28f50-18dc-4e8b-9462-b982430c2d0a button.colab-df-convert');\n",
              "        buttonEl.style.display =\n",
              "          google.colab.kernel.accessAllowed ? 'block' : 'none';\n",
              "\n",
              "        async function convertToInteractive(key) {\n",
              "          const element = document.querySelector('#df-f6b28f50-18dc-4e8b-9462-b982430c2d0a');\n",
              "          const dataTable =\n",
              "            await google.colab.kernel.invokeFunction('convertToInteractive',\n",
              "                                                     [key], {});\n",
              "          if (!dataTable) return;\n",
              "\n",
              "          const docLinkHtml = 'Like what you see? Visit the ' +\n",
              "            '<a target=\"_blank\" href=https://colab.research.google.com/notebooks/data_table.ipynb>data table notebook</a>'\n",
              "            + ' to learn more about interactive tables.';\n",
              "          element.innerHTML = '';\n",
              "          dataTable['output_type'] = 'display_data';\n",
              "          await google.colab.output.renderOutput(dataTable, element);\n",
              "          const docLink = document.createElement('div');\n",
              "          docLink.innerHTML = docLinkHtml;\n",
              "          element.appendChild(docLink);\n",
              "        }\n",
              "      </script>\n",
              "    </div>\n",
              "  </div>\n",
              "  "
            ]
          },
          "metadata": {},
          "execution_count": 8
        }
      ]
    },
    {
      "cell_type": "markdown",
      "source": [
        "#**Ejercicio - 1: Matriz de Correlación de Pearson**"
      ],
      "metadata": {
        "id": "gn3kKEGSI-rB"
      }
    },
    {
      "cell_type": "markdown",
      "source": [
        "INSTRUCCIONES:\n",
        "\n",
        "En este ejercicio debes solamente desplegar la matriz de correlación de las variables del dataframe \"misdatos\", incluyendo en cada celda de la matriz el valor numérico de la correlación entre cada par variables. \n",
        "\n",
        "Al desplegar la matriz de correlación deberás además usar la opción del mapa de calor (heatmap) de la librería seaborn, usando el mapa de color 'BuGn'. \n",
        "\n",
        "Puedes consultar la siguiente documentación:\n",
        "\n",
        "https://pandas.pydata.org/docs/reference/api/pandas.DataFrame.corr.html\n",
        "\n",
        "https://seaborn.pydata.org/generated/seaborn.heatmap.html\n",
        "\n",
        "https://matplotlib.org/stable/tutorials/colors/colormaps.html\n"
      ],
      "metadata": {
        "id": "uJ6X6y9-5Up3"
      }
    },
    {
      "cell_type": "code",
      "source": [
        "sns.set(rc={'figure.figsize':(9,6)}) \n",
        "\n",
        "#########################################################################\n",
        "# INICIA LA SECCIÓN PARA AGREGAR CÓDIGO.\n",
        "# Ejercicio 1\n",
        "# Sustituye \"None\" por tus líneas de código dentro de esta región.\n",
        "# Se esperan cuando mucho 2 líneas de código.\n",
        "\n",
        "print('Tamaño datos de Entrenamiento:', datatrain.shape)\n",
        "print('Tamaño datos de Prueba:', datatest.shape)\n",
        "\n",
        "# TERMINA LA SECCIÓN PARA AGREGAR CÓDIGO.\n",
        "#########################################################################\n",
        "\n",
        "plt.show()"
      ],
      "metadata": {
        "id": "ooYVR8x65Znv",
        "colab": {
          "base_uri": "https://localhost:8080/"
        },
        "outputId": "1a645964-eefe-4b2e-9c1f-69bd88c0bbdc"
      },
      "execution_count": 9,
      "outputs": [
        {
          "output_type": "stream",
          "name": "stdout",
          "text": [
            "Tamaño datos de Entrenamiento: (17000, 9)\n",
            "Tamaño datos de Prueba: (3000, 9)\n"
          ]
        }
      ]
    },
    {
      "cell_type": "markdown",
      "source": [
        "#**Ejercicio - 2: Transformaciones e Hisotgramas de variables**"
      ],
      "metadata": {
        "id": "4mzuVEV76Owg"
      }
    },
    {
      "cell_type": "markdown",
      "source": [
        "INSTRUCCIONES:\n",
        "\n",
        "En este ejercicio se trabajará solamente con las siguientes 7 variables: \n",
        "\n",
        "*   housing_median_age\n",
        "*   total_rooms\n",
        "*   total_bedrooms\n",
        "*   population\n",
        "*   households\n",
        "*   median_income\n",
        "*   median_house_value\n",
        "\n",
        "A cada una de dichas columnas les deberás aplicar las siguientes transformaciones y desplegar sus histogramas con 20 barras (bins):\n",
        "\n",
        "*   Raíz cuadrada con Numpy.\n",
        "*   Logaritmo natural con Numpy.\n",
        "*   Potencia 2 (i.e., elevar al cuadrado) con Numpy.\n",
        "*   Box-Cox con scikit-learn.\n"
      ],
      "metadata": {
        "id": "r8tTbnfiHiY6"
      }
    },
    {
      "cell_type": "code",
      "source": [
        "\n",
        "# Lista de los nombres de las 7 variables que trabajaremos en este ejercicio.\n",
        "variables_a_transformar = ['housing_median_age','total_rooms','total_bedrooms','population','households','median_income','median_house_value']\n",
        "\n",
        "\n",
        "sns.set(rc={'figure.figsize':(17,12)})\n",
        "fig, axes = plt.subplots(5, 7)    \n",
        "  \n",
        "for k in range(0,7):       \n",
        " \n",
        "    ################################################################################################################\n",
        "    # INICIA LA SECCIÓN PARA AGREGAR CÓDIGO.\n",
        "    # Ejercicio 2\n",
        "    # Solamente deberás escribir tu código en las partes que dicen \"None\", sustituyendo este por tu código.\n",
        "    # Deberás utilizar el dataframe \"misdatos\" con la lista que llamamos \"variables_a_transformar\" para \n",
        "    # seleccionar los valores de cada una de las 7 variables que se irán transformando y graficando.\n",
        "\n",
        "\n",
        "    # Datos originales ---------------------------------------------------------\n",
        "    plt.subplot(5,7,k+1) \n",
        "\n",
        "    Transf0 = datatrain[datatrain.columns[k]]          #  En esta línea se debe asignar a Transf0 los valores de cada variable \"k\" sin transformar.\n",
        "    plt.hist(Transf0, bins=20)                   #  En este línea agrega el comando para obtener el histograma de Transf0 con 20 barras (bins).\n",
        "\n",
        "\n",
        "    plt.xlabel(variables_a_transformar[k])\n",
        "    if k==0:\n",
        "      plt.ylabel('Originales')\n",
        "    \n",
        "\n",
        "\n",
        "    # Datos transformados con raíz cuadrada ------------------------------------\n",
        "    plt.subplot(5,7,k+8)    \n",
        "\n",
        "    Transf1 = datatrain[datatrain.columns[k]]          #  En esta línea se debe aplicar la raíz cuadrada a los valores de cada variable \"k\" sin transformar.\n",
        "    plt.hist(Transf0, bins=20)                     #  En este línea agrega el comando para obtener el histograma de Transf1 con 20 barras (bins).\n",
        "\n",
        "\n",
        "    plt.xlabel(variables_a_transformar[k])\n",
        "    if k==0:\n",
        "      plt.ylabel('Raíz Cuadrada')\n",
        "    \n",
        "\n",
        "    \n",
        "    # Datos transformados con logaritmo natural --------------------------------\n",
        "    plt.subplot(5,7,k+15)     \n",
        "\n",
        "    Transf2 = datatrain[datatrain.columns[k]]          #  En esta línea se debe aplicar el logaritmo natural a los valores de cada variable \"k\" sin transformar.\n",
        "    plt.hist(Transf0, bins=20)                    #  En este línea agrega el comando para obtener el histograma de Transf2 con 20 barras (bins).\n",
        "\n",
        "\n",
        "    plt.xlabel(variables_a_transformar[k])\n",
        "    if k==0:\n",
        "      plt.ylabel('Logaritmo')\n",
        "    \n",
        "\n",
        "\n",
        "    # Datos transformados con la potencia de 2 ---------------------------------\n",
        "    plt.subplot(5,7,k+22)\n",
        "\n",
        "    Transf3 = datatrain[datatrain.columns[k]]          #  En esta línea debes elevar al cuadrado los valores de cada variable \"k\" sin transformar.\n",
        "    plt.hist(Transf0, bins=20)                     #  En este línea agrega el comando para obtener el histograma de Transf3 con 20 barras (bins).\n",
        "\n",
        "\n",
        "    plt.xlabel(variables_a_transformar[k])\n",
        "    if k==0:\n",
        "      plt.ylabel('Potencia 2')\n",
        "    \n",
        "\n",
        "    # Datos transformados con Box-Cox ------------------------------------------\n",
        "    plt.subplot(5,7,k+29)\n",
        "\n",
        "    Transf4 = datatrain[datatrain.columns[k]]          #  En esta línea se debe aplicar la transformación Box-Cox a los valores de cada variable \"k\" sin transformar.\n",
        "    plt.hist(Transf0, bins=20)                   #  En este línea agrega el comando para obtener el histograma de Transf4 con 20 barras (bins).\n",
        "\n",
        "\n",
        "    plt.xlabel(variables_a_transformar[k])\n",
        "    if k==0:\n",
        "      plt.ylabel('Box-Cox')\n",
        "\n",
        "    # TERMINA LA SECCIÓN PARA AGREGAR CÓDIGO.\n",
        "    ################################################################################################################\n",
        "\n",
        "    \n",
        "\n",
        "plt.show()"
      ],
      "metadata": {
        "id": "nBj56LBaJEzL",
        "colab": {
          "base_uri": "https://localhost:8080/",
          "height": 722
        },
        "outputId": "65fa6b2e-5dae-43e2-a5b3-e0cadccda219"
      },
      "execution_count": 11,
      "outputs": [
        {
          "output_type": "display_data",
          "data": {
            "text/plain": [
              "<Figure size 1224x864 with 35 Axes>"
            ],
            "image/png": "[encoded data removed]"
          },
          "metadata": {}
        }
      ]
    },
    {
      "cell_type": "markdown",
      "source": [
        "#**Ejercicio - 3 - Métricas de desempeño: $RMSE$, $MAE$ y $MAPE$**\n"
      ],
      "metadata": {
        "id": "MWnC5yszs7VR"
      }
    },
    {
      "cell_type": "markdown",
      "source": [
        "\n",
        "INSTRUCCIONES:\n",
        "\n",
        "En el archivo semana_02_IAyAA_RLM_teoria.pdf que se encuentra en Canvas se muestran las fórmulas que definen a las métricas $RMSE$, $MAE$ y $MAPE$.\n",
        "\n",
        "Investiga el significado de cada una de ellas.\n",
        "\n",
        "Cada una de ellas se puede calcular mediante los valores observados reales $y$, los valores de predicción $\\hat{y}$ y el total de registros $n$.\n",
        "\n",
        "En este ejercicio deberás definir cada una de estas métricas mediante tres funciones que llamarás mi_RMSE, mi_MAE y mi_MAPE. \n",
        "\n",
        "Cada una de las tres funciones que definas deberán tener dos argumentos, a saber, los valores observados reales $y$ y los valores de predicción $\\hat{y}$.\n",
        "\n",
        "Como valor de retorno deberá ser el valor numérico real dado por la fórmula que lo define.\n",
        "\n",
        "Solamente podrás usar las funciones de NumPy del promedio (mean), cuadrado (square) y valor absoluto (abs), además de las operaciones aritméticas básicas.\n",
        "\n",
        "Para la definición de cada una de ellas se esperarían cuando mucho 5 líneas de código en total, pero pueden ser menos. Una cantidad mayor a esta será penalizada.\n"
      ],
      "metadata": {
        "id": "NFtUgAfXMyVf"
      }
    },
    {
      "cell_type": "code",
      "source": [
        "#########################################################################\n",
        "# INICIA LA SECCIÓN PARA AGREGAR CÓDIGO.\n",
        "# Ejercicio 3\n",
        "\n",
        "# Incluye aquí las líneas de código que definan a la función: mi_RMSE:\n",
        "None\n",
        "\n",
        "\n",
        "\n",
        "\n",
        "# Incluye aquí las líneas de código que definan a la función: mi_MAE:\n",
        "None \n",
        "\n",
        "\n",
        "\n",
        "\n",
        "# Incluye aquí las líneas de código que definan a la función: mi_MAPE:\n",
        "None\n",
        "\n",
        "\n",
        "\n",
        "\n",
        "# TERMINA LA SECCIÓN PARA AGREGAR CÓDIGO.\n",
        "#########################################################################"
      ],
      "metadata": {
        "id": "cBNw_378l2Mk"
      },
      "execution_count": 12,
      "outputs": []
    },
    {
      "cell_type": "code",
      "source": [
        "Xtrain = misdatos.drop('median_house_value', axis='columns')                                                                     \n",
        "ytrain = misdatos['median_house_value']  \n",
        "\n",
        "num_prepro_pipeline = Pipeline(steps = [('imputar', SimpleImputer(strategy='median')),  \n",
        "                                        ('scalar', MinMaxScaler(feature_range=(1, 2))),\n",
        "                                        ('sqrt', FunctionTransformer(np.sqrt))\n",
        "                                        ])     \n",
        "\n",
        "numerical_features = ['total_rooms','total_bedrooms','population','households','median_income']\n",
        "\n",
        "columnasTransformer = ColumnTransformer(transformers = [('numerical', num_prepro_pipeline, numerical_features)],\n",
        "                                        remainder='passthrough')\n",
        "\n",
        "modelo_LR = LinearRegression()\n",
        "\n",
        "scores_RMSEVal = []\n",
        "scores_MAEVal = []\n",
        "scores_MAPEVal = []\n",
        "\n",
        "kf = KFold(n_splits= 10, shuffle=True)   \n",
        "\n",
        "for train_index, val_index in kf.split(Xtrain):\n",
        "\n",
        "  X_train, X_val = Xtrain.loc[train_index], Xtrain.loc[val_index]\n",
        "  y_train, y_val = ytrain[train_index], ytrain[val_index]\n",
        "\n",
        "  XtrainFit = columnasTransformer.fit(X_train)   \n",
        "  XtrainTransf = XtrainFit.transform(X_train)    \n",
        "\n",
        "  modelo_LR = modelo_LR.fit(XtrainTransf, y_train) \n",
        "\n",
        "  XvalTransf = XtrainFit.transform(X_val) \n",
        "  yhatVal = modelo_LR.predict(XvalTransf)  \n",
        "\n",
        "  scores_RMSEVal.append(mi_RMSE(y_val, yhatVal))\n",
        "  scores_MAEVal.append(mi_MAE(y_val, yhatVal))\n",
        "  scores_MAPEVal.append(mi_MAPE(y_val, yhatVal))\n",
        "\n",
        "\n",
        "# Desplegar información:\n",
        "results = [scores_RMSEVal, scores_MAEVal, scores_MAPEVal]\n",
        "names = ['RMSEval','MAEval','MAPEval']\n",
        "\n",
        "print(\"\\t  %s\\t\\t%s   \\t\\t%s\" % (names[0],names[1],names[2]))\n",
        "for i,z in enumerate(zip(scores_RMSEVal, scores_MAEVal, scores_MAPEVal)):\n",
        "  print(\"fold[%d]:  %.1f \\t\\t%.1f  \\t\\t%.1f%%\" % (i+1,z[0],z[1],z[2]))\n",
        "print(\"mean(std) %.1f(%.1f)  \\t%.1f(%.1f)   \\t%.1f%% (%.1f)\" % (np.mean(scores_RMSEVal), np.std(scores_RMSEVal),\n",
        "                                                                np.mean(scores_MAEVal), np.std(scores_MAEVal),\n",
        "                                                                np.mean(scores_MAPEVal), np.std(scores_MAPEVal)))"
      ],
      "metadata": {
        "id": "oaUZ-1e3FjZi",
        "colab": {
          "base_uri": "https://localhost:8080/",
          "height": 235
        },
        "outputId": "57f313bd-cb2b-4f77-d06b-68555a7993f3"
      },
      "execution_count": 13,
      "outputs": [
        {
          "output_type": "error",
          "ename": "NameError",
          "evalue": "ignored",
          "traceback": [
            "\u001b[0;31m---------------------------------------------------------------------------\u001b[0m",
            "\u001b[0;31mNameError\u001b[0m                                 Traceback (most recent call last)",
            "\u001b[0;32m<ipython-input-13-b7282812cd9e>\u001b[0m in \u001b[0;36m<module>\u001b[0;34m\u001b[0m\n\u001b[1;32m     33\u001b[0m   \u001b[0myhatVal\u001b[0m \u001b[0;34m=\u001b[0m \u001b[0mmodelo_LR\u001b[0m\u001b[0;34m.\u001b[0m\u001b[0mpredict\u001b[0m\u001b[0;34m(\u001b[0m\u001b[0mXvalTransf\u001b[0m\u001b[0;34m)\u001b[0m\u001b[0;34m\u001b[0m\u001b[0;34m\u001b[0m\u001b[0m\n\u001b[1;32m     34\u001b[0m \u001b[0;34m\u001b[0m\u001b[0m\n\u001b[0;32m---> 35\u001b[0;31m   \u001b[0mscores_RMSEVal\u001b[0m\u001b[0;34m.\u001b[0m\u001b[0mappend\u001b[0m\u001b[0;34m(\u001b[0m\u001b[0mmi_RMSE\u001b[0m\u001b[0;34m(\u001b[0m\u001b[0my_val\u001b[0m\u001b[0;34m,\u001b[0m \u001b[0myhatVal\u001b[0m\u001b[0;34m)\u001b[0m\u001b[0;34m)\u001b[0m\u001b[0;34m\u001b[0m\u001b[0;34m\u001b[0m\u001b[0m\n\u001b[0m\u001b[1;32m     36\u001b[0m   \u001b[0mscores_MAEVal\u001b[0m\u001b[0;34m.\u001b[0m\u001b[0mappend\u001b[0m\u001b[0;34m(\u001b[0m\u001b[0mmi_MAE\u001b[0m\u001b[0;34m(\u001b[0m\u001b[0my_val\u001b[0m\u001b[0;34m,\u001b[0m \u001b[0myhatVal\u001b[0m\u001b[0;34m)\u001b[0m\u001b[0;34m)\u001b[0m\u001b[0;34m\u001b[0m\u001b[0;34m\u001b[0m\u001b[0m\n\u001b[1;32m     37\u001b[0m   \u001b[0mscores_MAPEVal\u001b[0m\u001b[0;34m.\u001b[0m\u001b[0mappend\u001b[0m\u001b[0;34m(\u001b[0m\u001b[0mmi_MAPE\u001b[0m\u001b[0;34m(\u001b[0m\u001b[0my_val\u001b[0m\u001b[0;34m,\u001b[0m \u001b[0myhatVal\u001b[0m\u001b[0;34m)\u001b[0m\u001b[0;34m)\u001b[0m\u001b[0;34m\u001b[0m\u001b[0;34m\u001b[0m\u001b[0m\n",
            "\u001b[0;31mNameError\u001b[0m: name 'mi_RMSE' is not defined"
          ]
        }
      ]
    },
    {
      "cell_type": "code",
      "source": [],
      "metadata": {
        "id": "EYW7LhvDRdGV"
      },
      "execution_count": null,
      "outputs": []
    },
    {
      "cell_type": "code",
      "source": [],
      "metadata": {
        "id": "I92dbZTrReiz"
      },
      "execution_count": null,
      "outputs": []
    },
    {
      "cell_type": "markdown",
      "source": [],
      "metadata": {
        "id": "A-Z3VMrsRe2C"
      }
    },
    {
      "cell_type": "markdown",
      "source": [],
      "metadata": {
        "id": "68MMFfTiRfOQ"
      }
    },
    {
      "cell_type": "markdown",
      "source": [
        "**\\<\\<Fin de la Actividad_1_Semana_2>>**"
      ],
      "metadata": {
        "id": "WZXu_qw4antB"
      }
    }
  ]
}