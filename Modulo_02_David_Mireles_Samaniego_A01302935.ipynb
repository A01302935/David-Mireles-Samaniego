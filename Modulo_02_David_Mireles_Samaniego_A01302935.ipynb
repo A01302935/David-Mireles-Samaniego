{
  "nbformat": 4,
  "nbformat_minor": 0,
  "metadata": {
    "colab": {
      "provenance": [],
      "authorship_tag": "ABX9TyMT1pKutiBmm3cMP/EHXVDu",
      "include_colab_link": true
    },
    "kernelspec": {
      "name": "python3",
      "display_name": "Python 3"
    },
    "language_info": {
      "name": "python"
    }
  },
  "cells": [
    {
      "cell_type": "markdown",
      "metadata": {
        "id": "view-in-github",
        "colab_type": "text"
      },
      "source": [
        "<a href=\"https://colab.research.google.com/github/A01302935/David-Mireles-Samaniego/blob/main/Modulo_02_David_Mireles_Samaniego_A01302935.ipynb\" target=\"_parent\"><img src=\"https://colab.research.google.com/assets/colab-badge.svg\" alt=\"Open In Colab\"/></a>"
      ]
    },
    {
      "cell_type": "code",
      "execution_count": 11,
      "metadata": {
        "colab": {
          "base_uri": "https://localhost:8080/"
        },
        "id": "JYcDY3BniQUy",
        "outputId": "05fc3715-2bdd-4b43-bd72-2371050556ef"
      },
      "outputs": [
        {
          "output_type": "execute_result",
          "data": {
            "text/plain": [
              "3"
            ]
          },
          "metadata": {},
          "execution_count": 11
        }
      ],
      "source": [
        "#How do you access the last element of the following tuple: A=(0,1,2,3)? Select all possible correct answers\n",
        "A=(0,1,2,3)\n",
        "A[3]"
      ]
    },
    {
      "cell_type": "code",
      "source": [
        "#Consider the list: B=[\"a\",\"b\",\"c\"]\n",
        "#What is the result of the following B[1:]?\n",
        "B=[\"a\",\"b\",\"c\"]\n",
        "B[1:]"
      ],
      "metadata": {
        "colab": {
          "base_uri": "https://localhost:8080/"
        },
        "id": "bM58YlzHkH7M",
        "outputId": "b37d233d-6e7c-4e02-c1c1-cac729b3aa7c"
      },
      "execution_count": 10,
      "outputs": [
        {
          "output_type": "execute_result",
          "data": {
            "text/plain": [
              "['b', 'c']"
            ]
          },
          "metadata": {},
          "execution_count": 10
        }
      ]
    },
    {
      "cell_type": "code",
      "source": [
        "#What is the result of the following lines of code:\n",
        "S={'A','B','C'}\n",
        "\n",
        "U={'A','Z','C'}\n",
        "\n",
        "U.union(S)"
      ],
      "metadata": {
        "colab": {
          "base_uri": "https://localhost:8080/"
        },
        "id": "2qAqkwIykH0g",
        "outputId": "f8415965-ad06-47a6-89a0-bb5d3a811995"
      },
      "execution_count": 12,
      "outputs": [
        {
          "output_type": "execute_result",
          "data": {
            "text/plain": [
              "{'A', 'B', 'C', 'Z'}"
            ]
          },
          "metadata": {},
          "execution_count": 12
        }
      ]
    },
    {
      "cell_type": "code",
      "source": [
        "#What is the intersection of set S and U?\n",
        "S={'A','B','C'}\n",
        "\n",
        "U={'A','Z','C'}\n",
        "\n",
        "S & U"
      ],
      "metadata": {
        "colab": {
          "base_uri": "https://localhost:8080/"
        },
        "id": "elb6hIhnkHuq",
        "outputId": "56f19fdb-b4b4-4a5f-a983-f5f6e447bd2b"
      },
      "execution_count": 13,
      "outputs": [
        {
          "output_type": "execute_result",
          "data": {
            "text/plain": [
              "{'A', 'C'}"
            ]
          },
          "metadata": {},
          "execution_count": 13
        }
      ]
    },
    {
      "cell_type": "code",
      "source": [
        "#\n",
        "D = {'a':0,'b':1,'c':2}\n",
        "D.values()"
      ],
      "metadata": {
        "id": "5ftcTyQ6kHna"
      },
      "execution_count": null,
      "outputs": []
    },
    {
      "cell_type": "code",
      "source": [
        "#Consider the following dictionary:\n",
        "#What is the result of the following: D.values()?\n",
        "\n",
        "D = {'a':0,'b':1,'c':2}\n",
        "D.values()"
      ],
      "metadata": {
        "colab": {
          "base_uri": "https://localhost:8080/"
        },
        "id": "eX1KzwpfkHe7",
        "outputId": "f4d00185-a3d7-46d5-bd47-25f0ff8679ed"
      },
      "execution_count": 15,
      "outputs": [
        {
          "output_type": "execute_result",
          "data": {
            "text/plain": [
              "dict_values([0, 1, 2])"
            ]
          },
          "metadata": {},
          "execution_count": 15
        }
      ]
    },
    {
      "cell_type": "code",
      "source": [
        "#Consider the following dictionary:\n",
        "#What is the output of the following D['b']?\n",
        "D = {'a':0,'b':1,'c':2}\n",
        "D['b']"
      ],
      "metadata": {
        "colab": {
          "base_uri": "https://localhost:8080/"
        },
        "id": "93NRSWEsnVyu",
        "outputId": "cb87fe6b-3e02-4c5a-d6c3-321c9c6d3123"
      },
      "execution_count": 16,
      "outputs": [
        {
          "output_type": "execute_result",
          "data": {
            "text/plain": [
              "1"
            ]
          },
          "metadata": {},
          "execution_count": 16
        }
      ]
    },
    {
      "cell_type": "code",
      "source": [
        "#What is the syntax used to obtain the first element of the tuple\n",
        "A = ('a','b','c')\n",
        "A[0]"
      ],
      "metadata": {
        "colab": {
          "base_uri": "https://localhost:8080/",
          "height": 35
        },
        "id": "AMyzeAVxnVrs",
        "outputId": "46f05ec7-e4fb-42e7-f79f-3f89145fe7e4"
      },
      "execution_count": 18,
      "outputs": [
        {
          "output_type": "execute_result",
          "data": {
            "text/plain": [
              "'a'"
            ],
            "application/vnd.google.colaboratory.intrinsic+json": {
              "type": "string"
            }
          },
          "metadata": {},
          "execution_count": 18
        }
      ]
    },
    {
      "cell_type": "code",
      "source": [
        "#After applying the following method, L.append(['a','b']), the following list will only be one element longer.\n",
        "\n",
        "#L.append(['a','b'])\n",
        "\n",
        "#False"
      ],
      "metadata": {
        "id": "WAITrjj1nVjm"
      },
      "execution_count": 21,
      "outputs": []
    },
    {
      "cell_type": "code",
      "source": [
        "#Consider the following Python dictionary:\n",
        "#What is the result of the following operation: Dict[\"D\"]?\n",
        "\n",
        "Dict={\"A\":1,\"B\":\"2\",\"C\":[3,3,3],\"D\":(4,4,4),'E':5,'F':6}\n",
        "Dict[\"D\"]"
      ],
      "metadata": {
        "colab": {
          "base_uri": "https://localhost:8080/"
        },
        "id": "R8tej8TenVb0",
        "outputId": "187565ba-9ac9-4aa3-bc02-46b92476c090"
      },
      "execution_count": 20,
      "outputs": [
        {
          "output_type": "execute_result",
          "data": {
            "text/plain": [
              "(4, 4, 4)"
            ]
          },
          "metadata": {},
          "execution_count": 20
        }
      ]
    },
    {
      "cell_type": "code",
      "source": [
        "#How many duplicate elements can you have in a set?\n",
        "#0. You can only have one unique element in a set.\n"
      ],
      "metadata": {
        "id": "qUfG0x2LnVS0"
      },
      "execution_count": null,
      "outputs": []
    },
    {
      "cell_type": "code",
      "source": [
        "#What is an important difference between lists and tuples?\n",
        "#Lists are mutable, tuples are not"
      ],
      "metadata": {
        "id": "a2Oe99uhnVJB"
      },
      "execution_count": null,
      "outputs": []
    }
  ]
}